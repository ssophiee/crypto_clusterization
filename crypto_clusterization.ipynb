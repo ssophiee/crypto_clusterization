{
  "nbformat": 4,
  "nbformat_minor": 0,
  "metadata": {
    "colab": {
      "name": "Crypto.ipynb",
      "provenance": [],
      "collapsed_sections": [
        "BbybyOJRIwP2",
        "ez79v_t72pnK",
        "8lmrglzG21Kc",
        "0A9ryvbn3PnU",
        "14VDrRodIIT4",
        "gzNF3n6qbCBM",
        "Gz7PTJWIOGHC",
        "TyZh7Y935QQP",
        "JtwMbayHJDc7"
      ]
    },
    "kernelspec": {
      "name": "python3",
      "display_name": "Python 3"
    },
    "language_info": {
      "name": "python"
    }
  },
  "cells": [
    {
      "cell_type": "markdown",
      "metadata": {
        "id": "BbybyOJRIwP2"
      },
      "source": [
        "### Libraries"
      ]
    },
    {
      "cell_type": "code",
      "metadata": {
        "colab": {
          "base_uri": "https://localhost:8080/"
        },
        "id": "Aks3_do7L61Y",
        "outputId": "eff2d3d6-2729-4be5-92a5-21a28467596a"
      },
      "source": [
        "! pip install yfinance"
      ],
      "execution_count": 41,
      "outputs": [
        {
          "output_type": "stream",
          "name": "stdout",
          "text": [
            "Requirement already satisfied: yfinance in /usr/local/lib/python3.7/dist-packages (0.1.67)\n",
            "Requirement already satisfied: pandas>=0.24 in /usr/local/lib/python3.7/dist-packages (from yfinance) (1.1.5)\n",
            "Requirement already satisfied: numpy>=1.15 in /usr/local/lib/python3.7/dist-packages (from yfinance) (1.19.5)\n",
            "Requirement already satisfied: multitasking>=0.0.7 in /usr/local/lib/python3.7/dist-packages (from yfinance) (0.0.10)\n",
            "Requirement already satisfied: requests>=2.20 in /usr/local/lib/python3.7/dist-packages (from yfinance) (2.23.0)\n",
            "Requirement already satisfied: lxml>=4.5.1 in /usr/local/lib/python3.7/dist-packages (from yfinance) (4.7.1)\n",
            "Requirement already satisfied: pytz>=2017.2 in /usr/local/lib/python3.7/dist-packages (from pandas>=0.24->yfinance) (2018.9)\n",
            "Requirement already satisfied: python-dateutil>=2.7.3 in /usr/local/lib/python3.7/dist-packages (from pandas>=0.24->yfinance) (2.8.2)\n",
            "Requirement already satisfied: six>=1.5 in /usr/local/lib/python3.7/dist-packages (from python-dateutil>=2.7.3->pandas>=0.24->yfinance) (1.15.0)\n",
            "Requirement already satisfied: urllib3!=1.25.0,!=1.25.1,<1.26,>=1.21.1 in /usr/local/lib/python3.7/dist-packages (from requests>=2.20->yfinance) (1.24.3)\n",
            "Requirement already satisfied: chardet<4,>=3.0.2 in /usr/local/lib/python3.7/dist-packages (from requests>=2.20->yfinance) (3.0.4)\n",
            "Requirement already satisfied: certifi>=2017.4.17 in /usr/local/lib/python3.7/dist-packages (from requests>=2.20->yfinance) (2021.10.8)\n",
            "Requirement already satisfied: idna<3,>=2.5 in /usr/local/lib/python3.7/dist-packages (from requests>=2.20->yfinance) (2.10)\n"
          ]
        }
      ]
    },
    {
      "cell_type": "code",
      "source": [
        "!pip install tsfresh\n",
        "\n"
      ],
      "metadata": {
        "colab": {
          "base_uri": "https://localhost:8080/"
        },
        "id": "ga9TqZMgPyJe",
        "outputId": "e3b6a489-dde6-4f25-b090-c56e184993a6"
      },
      "execution_count": 42,
      "outputs": [
        {
          "output_type": "stream",
          "name": "stdout",
          "text": [
            "Requirement already satisfied: tsfresh in /usr/local/lib/python3.7/dist-packages (0.18.0)\n",
            "Requirement already satisfied: patsy>=0.4.1 in /usr/local/lib/python3.7/dist-packages (from tsfresh) (0.5.2)\n",
            "Requirement already satisfied: requests>=2.9.1 in /usr/local/lib/python3.7/dist-packages (from tsfresh) (2.23.0)\n",
            "Requirement already satisfied: scikit-learn>=0.22.0 in /usr/local/lib/python3.7/dist-packages (from tsfresh) (1.0.1)\n",
            "Requirement already satisfied: distributed>=2.11.0 in /usr/local/lib/python3.7/dist-packages (from tsfresh) (2.30.1)\n",
            "Requirement already satisfied: stumpy>=1.7.2 in /usr/local/lib/python3.7/dist-packages (from tsfresh) (1.10.1)\n",
            "Requirement already satisfied: scipy>=1.2.0 in /usr/local/lib/python3.7/dist-packages (from tsfresh) (1.5.0)\n",
            "Requirement already satisfied: tqdm>=4.10.0 in /usr/local/lib/python3.7/dist-packages (from tsfresh) (4.62.3)\n",
            "Requirement already satisfied: pandas>=0.25.0 in /usr/local/lib/python3.7/dist-packages (from tsfresh) (1.1.5)\n",
            "Requirement already satisfied: statsmodels>=0.9.0 in /usr/local/lib/python3.7/dist-packages (from tsfresh) (0.11.1)\n",
            "Requirement already satisfied: matrixprofile>=1.1.10<2.0.0 in /usr/local/lib/python3.7/dist-packages (from tsfresh) (1.1.10)\n",
            "Requirement already satisfied: numpy>=1.15.1 in /usr/local/lib/python3.7/dist-packages (from tsfresh) (1.19.5)\n",
            "Requirement already satisfied: dask[dataframe]>=2.9.0 in /usr/local/lib/python3.7/dist-packages (from tsfresh) (2.12.0)\n",
            "Requirement already satisfied: toolz>=0.7.3 in /usr/local/lib/python3.7/dist-packages (from dask[dataframe]>=2.9.0->tsfresh) (0.11.2)\n",
            "Requirement already satisfied: fsspec>=0.6.0 in /usr/local/lib/python3.7/dist-packages (from dask[dataframe]>=2.9.0->tsfresh) (2021.11.1)\n",
            "Requirement already satisfied: partd>=0.3.10 in /usr/local/lib/python3.7/dist-packages (from dask[dataframe]>=2.9.0->tsfresh) (1.2.0)\n",
            "Requirement already satisfied: psutil>=5.0 in /usr/local/lib/python3.7/dist-packages (from distributed>=2.11.0->tsfresh) (5.4.8)\n",
            "Requirement already satisfied: cloudpickle>=1.5.0 in /usr/local/lib/python3.7/dist-packages (from distributed>=2.11.0->tsfresh) (2.0.0)\n",
            "Requirement already satisfied: tornado>=5 in /usr/local/lib/python3.7/dist-packages (from distributed>=2.11.0->tsfresh) (5.1.1)\n",
            "Requirement already satisfied: setuptools in /usr/local/lib/python3.7/dist-packages (from distributed>=2.11.0->tsfresh) (57.4.0)\n",
            "Requirement already satisfied: sortedcontainers!=2.0.0,!=2.0.1 in /usr/local/lib/python3.7/dist-packages (from distributed>=2.11.0->tsfresh) (2.4.0)\n",
            "Requirement already satisfied: tblib>=1.6.0 in /usr/local/lib/python3.7/dist-packages (from distributed>=2.11.0->tsfresh) (1.7.0)\n",
            "Requirement already satisfied: click>=6.6 in /usr/local/lib/python3.7/dist-packages (from distributed>=2.11.0->tsfresh) (7.1.2)\n",
            "Requirement already satisfied: zict>=0.1.3 in /usr/local/lib/python3.7/dist-packages (from distributed>=2.11.0->tsfresh) (2.0.0)\n",
            "Requirement already satisfied: pyyaml in /usr/local/lib/python3.7/dist-packages (from distributed>=2.11.0->tsfresh) (3.13)\n",
            "Requirement already satisfied: msgpack>=0.6.0 in /usr/local/lib/python3.7/dist-packages (from distributed>=2.11.0->tsfresh) (1.0.3)\n",
            "Requirement already satisfied: protobuf==3.11.2 in /usr/local/lib/python3.7/dist-packages (from matrixprofile>=1.1.10<2.0.0->tsfresh) (3.11.2)\n",
            "Requirement already satisfied: matplotlib>=3.0.3 in /usr/local/lib/python3.7/dist-packages (from matrixprofile>=1.1.10<2.0.0->tsfresh) (3.2.2)\n",
            "Requirement already satisfied: six>=1.9 in /usr/local/lib/python3.7/dist-packages (from protobuf==3.11.2->matrixprofile>=1.1.10<2.0.0->tsfresh) (1.15.0)\n",
            "Requirement already satisfied: cycler>=0.10 in /usr/local/lib/python3.7/dist-packages (from matplotlib>=3.0.3->matrixprofile>=1.1.10<2.0.0->tsfresh) (0.11.0)\n",
            "Requirement already satisfied: kiwisolver>=1.0.1 in /usr/local/lib/python3.7/dist-packages (from matplotlib>=3.0.3->matrixprofile>=1.1.10<2.0.0->tsfresh) (1.3.2)\n",
            "Requirement already satisfied: pyparsing!=2.0.4,!=2.1.2,!=2.1.6,>=2.0.1 in /usr/local/lib/python3.7/dist-packages (from matplotlib>=3.0.3->matrixprofile>=1.1.10<2.0.0->tsfresh) (3.0.6)\n",
            "Requirement already satisfied: python-dateutil>=2.1 in /usr/local/lib/python3.7/dist-packages (from matplotlib>=3.0.3->matrixprofile>=1.1.10<2.0.0->tsfresh) (2.8.2)\n",
            "Requirement already satisfied: pytz>=2017.2 in /usr/local/lib/python3.7/dist-packages (from pandas>=0.25.0->tsfresh) (2018.9)\n",
            "Requirement already satisfied: locket in /usr/local/lib/python3.7/dist-packages (from partd>=0.3.10->dask[dataframe]>=2.9.0->tsfresh) (0.2.1)\n",
            "Requirement already satisfied: chardet<4,>=3.0.2 in /usr/local/lib/python3.7/dist-packages (from requests>=2.9.1->tsfresh) (3.0.4)\n",
            "Requirement already satisfied: urllib3!=1.25.0,!=1.25.1,<1.26,>=1.21.1 in /usr/local/lib/python3.7/dist-packages (from requests>=2.9.1->tsfresh) (1.24.3)\n",
            "Requirement already satisfied: certifi>=2017.4.17 in /usr/local/lib/python3.7/dist-packages (from requests>=2.9.1->tsfresh) (2021.10.8)\n",
            "Requirement already satisfied: idna<3,>=2.5 in /usr/local/lib/python3.7/dist-packages (from requests>=2.9.1->tsfresh) (2.10)\n",
            "Requirement already satisfied: threadpoolctl>=2.0.0 in /usr/local/lib/python3.7/dist-packages (from scikit-learn>=0.22.0->tsfresh) (3.0.0)\n",
            "Requirement already satisfied: joblib>=0.11 in /usr/local/lib/python3.7/dist-packages (from scikit-learn>=0.22.0->tsfresh) (1.1.0)\n",
            "Requirement already satisfied: numba>=0.48 in /usr/local/lib/python3.7/dist-packages (from stumpy>=1.7.2->tsfresh) (0.51.2)\n",
            "Requirement already satisfied: llvmlite<0.35,>=0.34.0.dev0 in /usr/local/lib/python3.7/dist-packages (from numba>=0.48->stumpy>=1.7.2->tsfresh) (0.34.0)\n",
            "Requirement already satisfied: heapdict in /usr/local/lib/python3.7/dist-packages (from zict>=0.1.3->distributed>=2.11.0->tsfresh) (1.0.1)\n"
          ]
        }
      ]
    },
    {
      "cell_type": "code",
      "source": [
        "!pip install stumpy \n",
        "\n",
        "!pip install statsmodels==0.11.1\n",
        "!pip install python-dateutil=2.7.3 \n",
        "!pip install scipy==1.5"
      ],
      "metadata": {
        "id": "VnHvYIw1Kq72"
      },
      "execution_count": null,
      "outputs": []
    },
    {
      "cell_type": "code",
      "source": [
        "import stumpy"
      ],
      "metadata": {
        "id": "3g9x2HZEKvV1"
      },
      "execution_count": 250,
      "outputs": []
    },
    {
      "cell_type": "code",
      "metadata": {
        "colab": {
          "base_uri": "https://localhost:8080/"
        },
        "id": "kXiK6BVOL_6q",
        "outputId": "d2ead915-0553-4a8b-f633-df7b25f1b2a5"
      },
      "source": [
        "from google.colab import drive\n",
        "drive.mount('/content/drive')"
      ],
      "execution_count": 43,
      "outputs": [
        {
          "output_type": "stream",
          "name": "stdout",
          "text": [
            "Drive already mounted at /content/drive; to attempt to forcibly remount, call drive.mount(\"/content/drive\", force_remount=True).\n"
          ]
        }
      ]
    },
    {
      "cell_type": "code",
      "metadata": {
        "id": "hfZdVyuF0ltZ"
      },
      "source": [
        "import plotly.graph_objs as go\n",
        "\n",
        "import yfinance as yf\n",
        "\n",
        "import pandas as pd\n",
        "import numpy as np\n",
        "\n",
        "import datetime  \n",
        "\n",
        "import matplotlib.pyplot as plt\n",
        "\n",
        "import seaborn as sns\n",
        "\n",
        "import tqdm\n",
        "from tqdm import tqdm\n",
        "import tslearn\n",
        "\n",
        "#from sklearn import clustering\n",
        "from tslearn.clustering import TimeSeriesKMeans, silhouette_score\n",
        "from sklearn.cluster import KMeans\n",
        "from sklearn.preprocessing import StandardScaler\n",
        "\n",
        "\n",
        "import tsfresh\n",
        "from tsfresh import extract_features, extract_relevant_features, select_features, feature_extraction\n",
        "from tsfresh.feature_extraction import settings\n",
        "\n",
        "from sklearn.feature_selection import VarianceThreshold\n",
        "\n",
        "from statsmodels.tsa.arima.model import ARIMA\n",
        "\n",
        "path = '/content/drive/MyDrive/csv/sp500_stocks.csv'\n",
        "\n",
        "stocks = pd.read_csv(path)"
      ],
      "execution_count": 263,
      "outputs": []
    },
    {
      "cell_type": "markdown",
      "metadata": {
        "id": "ez79v_t72pnK"
      },
      "source": [
        "### Functions "
      ]
    },
    {
      "cell_type": "code",
      "metadata": {
        "id": "OMwjwQTvoz3m"
      },
      "source": [
        "def Candlestick_month(symbol, name):\n",
        "\n",
        "    fig = go.Figure()\n",
        "\n",
        "    asset = yf.download(tickers=symbol, period = '1mo', interval = '1d')\n",
        "    #Candlestick\n",
        "    fig.add_trace(go.Candlestick(x=asset.index,\n",
        "                    open=asset['Open'],\n",
        "                    high=asset['High'],\n",
        "                    low=asset['Low'],\n",
        "                    close=asset['Close'], name = 'market data'))\n",
        "\n",
        "    # Add titles\n",
        "    fig.update_layout(\n",
        "        title= f'{name} live share price evolution',\n",
        "        yaxis_title= f'{name} Price (kUS Dollars)')\n",
        "\n",
        "    #Show\n",
        "    fig.show()"
      ],
      "execution_count": 45,
      "outputs": []
    },
    {
      "cell_type": "code",
      "metadata": {
        "id": "zHTWd5Fd2m4q"
      },
      "source": [
        "# Candlestick graph dynamics per day\n",
        "\n",
        "def Candlestick(symbol, name):\n",
        "\n",
        "    fig = go.Figure()\n",
        "\n",
        "    asset = yf.download(tickers=symbol, period = '22h', interval = '15m')\n",
        "    #Candlestick\n",
        "    fig.add_trace(go.Candlestick(x=asset.index,\n",
        "                    open=asset['Open'],\n",
        "                    high=asset['High'],\n",
        "                    low=asset['Low'],\n",
        "                    close=asset['Close'], name = 'market data'))\n",
        "\n",
        "    # Add titles\n",
        "    fig.update_layout(\n",
        "        title= f'{name} live share price evolution',\n",
        "        yaxis_title= f'{name} Price (kUS Dollars)')\n",
        "\n",
        "    # X-Axes\n",
        "    fig.update_xaxes(\n",
        "        rangeslider_visible=True,\n",
        "        rangeselector=dict(\n",
        "            buttons=list([\n",
        "                dict(count=15, label=\"15m\", step=\"minute\", stepmode=\"backward\"),\n",
        "                dict(count=45, label=\"45m\", step=\"minute\", stepmode=\"backward\"),\n",
        "                dict(count=1, label=\"HTD\", step=\"hour\", stepmode=\"todate\"),\n",
        "                dict(count=6, label=\"6h\", step=\"hour\", stepmode=\"backward\"),\n",
        "                dict(step=\"all\")\n",
        "            ])\n",
        "        )\n",
        "    )\n",
        "\n",
        "    #Show\n",
        "    fig.show()"
      ],
      "execution_count": 46,
      "outputs": []
    },
    {
      "cell_type": "code",
      "metadata": {
        "id": "uI5BI7v_4qs4"
      },
      "source": [
        "#Information about an asset\n",
        "\n",
        "def crypto_info(symbol, year_start=2021, month_start=1, day_start=1, year_end=2021, month_end=11, day_end=14):\n",
        "\n",
        "  start = datetime.datetime(year_start, month_start, day_start)\n",
        "  end = datetime.datetime(year_end, month_end, day_end) \n",
        "\n",
        "  asset_info = yf.download(symbol, start=start, end=end)\n",
        "  return asset_info"
      ],
      "execution_count": 47,
      "outputs": []
    },
    {
      "cell_type": "markdown",
      "source": [
        "Function for cryptos' visualization in the particular cluster"
      ],
      "metadata": {
        "id": "jT8Xlb0kLY4l"
      }
    },
    {
      "cell_type": "code",
      "source": [
        "def visualize_cluster(current_cluster, df):\n",
        "  list_asset = [asset for asset in df.index if df.loc[asset, 'clusters'] == current_cluster]          \n",
        "  print(f'There are {len(list_asset)} in {current_cluster} cluster')\n",
        "  for i in range(df.shape[0]): #fig, ax = plt.subplots(,3)\n",
        "      line = df['clusters'][i]\n",
        "      if line == current_cluster:\n",
        "          plt.plot(df.iloc[i, :-1])\n",
        "          plt.xticks(rotation=45)\n",
        "          plt.title(df.index[i])\n",
        "          plt.show()"
      ],
      "metadata": {
        "id": "AFQDcVyaLbJs"
      },
      "execution_count": 252,
      "outputs": []
    },
    {
      "cell_type": "markdown",
      "source": [
        "Prediction for certain crypto currency"
      ],
      "metadata": {
        "id": "4HkhfZ8CMw3P"
      }
    },
    {
      "cell_type": "code",
      "source": [
        "def crypto_prediction(crypto_ticker, start='2021-11-01 00:00:00', end='2021-01-30 00:00:00'):\n",
        "\n",
        "    mod = ARIMA(assets_tr_.loc[crypto_ticker, :], order=(1,0, 0), freq='D')\n",
        "    res = mod.fit()\n",
        "    pred = res.predict(start=start, end=end)\n",
        "\n",
        "    plt.plot(assets_tr_.loc[crypto_ticker, '2021-10-01 00:00:00':])\n",
        "\n",
        "    plt.plot(pred)\n",
        "    plt.xticks(rotation=45)\n",
        "\n",
        "    plt.show()"
      ],
      "metadata": {
        "id": "fhS5e3MRMwR2"
      },
      "execution_count": 261,
      "outputs": []
    },
    {
      "cell_type": "markdown",
      "metadata": {
        "id": "8lmrglzG21Kc"
      },
      "source": [
        "### Crypto Analysis"
      ]
    },
    {
      "cell_type": "markdown",
      "metadata": {
        "id": "-CG8T5GxJyqR"
      },
      "source": [
        "Top cryptos by market cap were selected  \n",
        "source: [yahoo-finance watchlist](https://finance.yahoo.com/u/yahoo-finance/watchlists/crypto-top-market-cap/)"
      ]
    },
    {
      "cell_type": "code",
      "metadata": {
        "id": "9miFR-2rz8u0"
      },
      "source": [
        "cryptos = ['BTC-USD', 'ETH-USD', 'BNB-USD', 'USDT-USD', 'SOL1-USD', 'ADA-USD', 'XRP-USD', 'DOT1-USD', 'HEX-USD', \\\n",
        "          'DOGE-USD', 'USDC-USD', 'SHIB-USD', 'LUNA1-USD', 'AVAX-USD', 'LTC-USD', 'LINK-USD', 'UNI3-USD', 'BCH-USD', \\\n",
        "          'ALGO-USD', 'MATIC-USD', 'CRO-USD', 'VET-USD', 'XLM-USD', 'ICP1-USD', 'AXS-USD', 'TRX-USD', 'FIL-USD', \\\n",
        "          'ETC-USD', 'ATOM1-USD', 'THETA-USD']"
      ],
      "execution_count": 48,
      "outputs": []
    },
    {
      "cell_type": "markdown",
      "metadata": {
        "id": "0A9ryvbn3PnU"
      },
      "source": [
        "### DataFrame with closing prices of cryptos"
      ]
    },
    {
      "cell_type": "code",
      "metadata": {
        "colab": {
          "base_uri": "https://localhost:8080/"
        },
        "id": "viIiaV6Kz8xs",
        "outputId": "bda58686-7ae3-4e87-d42d-553020f1023d"
      },
      "source": [
        "start = datetime.datetime(2021, 1, 10)\n",
        "end = datetime.datetime(2021, 12, 2)\n",
        "\n",
        "assets = pd.DataFrame()\n",
        "for i in cryptos:\n",
        "  assets[i] = yf.download(i, start=start, end=end)['Close']"
      ],
      "execution_count": 49,
      "outputs": [
        {
          "output_type": "stream",
          "name": "stdout",
          "text": [
            "[*********************100%***********************]  1 of 1 completed\n",
            "[*********************100%***********************]  1 of 1 completed\n",
            "[*********************100%***********************]  1 of 1 completed\n",
            "[*********************100%***********************]  1 of 1 completed\n",
            "[*********************100%***********************]  1 of 1 completed\n",
            "[*********************100%***********************]  1 of 1 completed\n",
            "[*********************100%***********************]  1 of 1 completed\n",
            "[*********************100%***********************]  1 of 1 completed\n",
            "[*********************100%***********************]  1 of 1 completed\n",
            "[*********************100%***********************]  1 of 1 completed\n",
            "[*********************100%***********************]  1 of 1 completed\n",
            "[*********************100%***********************]  1 of 1 completed\n",
            "[*********************100%***********************]  1 of 1 completed\n",
            "[*********************100%***********************]  1 of 1 completed\n",
            "[*********************100%***********************]  1 of 1 completed\n",
            "[*********************100%***********************]  1 of 1 completed\n",
            "[*********************100%***********************]  1 of 1 completed\n",
            "[*********************100%***********************]  1 of 1 completed\n",
            "[*********************100%***********************]  1 of 1 completed\n",
            "[*********************100%***********************]  1 of 1 completed\n",
            "[*********************100%***********************]  1 of 1 completed\n",
            "[*********************100%***********************]  1 of 1 completed\n",
            "[*********************100%***********************]  1 of 1 completed\n",
            "[*********************100%***********************]  1 of 1 completed\n",
            "[*********************100%***********************]  1 of 1 completed\n",
            "[*********************100%***********************]  1 of 1 completed\n",
            "[*********************100%***********************]  1 of 1 completed\n",
            "[*********************100%***********************]  1 of 1 completed\n",
            "[*********************100%***********************]  1 of 1 completed\n",
            "[*********************100%***********************]  1 of 1 completed\n"
          ]
        }
      ]
    },
    {
      "cell_type": "code",
      "metadata": {
        "colab": {
          "base_uri": "https://localhost:8080/",
          "height": 0
        },
        "id": "Vwycgf-KIHvg",
        "outputId": "0c468722-5280-47fe-9524-b7e8b1795ada"
      },
      "source": [
        "assets.tail()"
      ],
      "execution_count": 50,
      "outputs": [
        {
          "output_type": "execute_result",
          "data": {
            "text/html": [
              "<div>\n",
              "<style scoped>\n",
              "    .dataframe tbody tr th:only-of-type {\n",
              "        vertical-align: middle;\n",
              "    }\n",
              "\n",
              "    .dataframe tbody tr th {\n",
              "        vertical-align: top;\n",
              "    }\n",
              "\n",
              "    .dataframe thead th {\n",
              "        text-align: right;\n",
              "    }\n",
              "</style>\n",
              "<table border=\"1\" class=\"dataframe\">\n",
              "  <thead>\n",
              "    <tr style=\"text-align: right;\">\n",
              "      <th></th>\n",
              "      <th>BTC-USD</th>\n",
              "      <th>ETH-USD</th>\n",
              "      <th>BNB-USD</th>\n",
              "      <th>USDT-USD</th>\n",
              "      <th>SOL1-USD</th>\n",
              "      <th>ADA-USD</th>\n",
              "      <th>XRP-USD</th>\n",
              "      <th>DOT1-USD</th>\n",
              "      <th>HEX-USD</th>\n",
              "      <th>DOGE-USD</th>\n",
              "      <th>USDC-USD</th>\n",
              "      <th>SHIB-USD</th>\n",
              "      <th>LUNA1-USD</th>\n",
              "      <th>AVAX-USD</th>\n",
              "      <th>LTC-USD</th>\n",
              "      <th>LINK-USD</th>\n",
              "      <th>UNI3-USD</th>\n",
              "      <th>BCH-USD</th>\n",
              "      <th>ALGO-USD</th>\n",
              "      <th>MATIC-USD</th>\n",
              "      <th>CRO-USD</th>\n",
              "      <th>VET-USD</th>\n",
              "      <th>XLM-USD</th>\n",
              "      <th>ICP1-USD</th>\n",
              "      <th>AXS-USD</th>\n",
              "      <th>TRX-USD</th>\n",
              "      <th>FIL-USD</th>\n",
              "      <th>ETC-USD</th>\n",
              "      <th>ATOM1-USD</th>\n",
              "      <th>THETA-USD</th>\n",
              "    </tr>\n",
              "    <tr>\n",
              "      <th>Date</th>\n",
              "      <th></th>\n",
              "      <th></th>\n",
              "      <th></th>\n",
              "      <th></th>\n",
              "      <th></th>\n",
              "      <th></th>\n",
              "      <th></th>\n",
              "      <th></th>\n",
              "      <th></th>\n",
              "      <th></th>\n",
              "      <th></th>\n",
              "      <th></th>\n",
              "      <th></th>\n",
              "      <th></th>\n",
              "      <th></th>\n",
              "      <th></th>\n",
              "      <th></th>\n",
              "      <th></th>\n",
              "      <th></th>\n",
              "      <th></th>\n",
              "      <th></th>\n",
              "      <th></th>\n",
              "      <th></th>\n",
              "      <th></th>\n",
              "      <th></th>\n",
              "      <th></th>\n",
              "      <th></th>\n",
              "      <th></th>\n",
              "      <th></th>\n",
              "      <th></th>\n",
              "    </tr>\n",
              "  </thead>\n",
              "  <tbody>\n",
              "    <tr>\n",
              "      <th>2021-11-28</th>\n",
              "      <td>57248.457031</td>\n",
              "      <td>4294.453613</td>\n",
              "      <td>611.366821</td>\n",
              "      <td>1.000125</td>\n",
              "      <td>200.676651</td>\n",
              "      <td>1.592855</td>\n",
              "      <td>0.968751</td>\n",
              "      <td>35.765121</td>\n",
              "      <td>0.173974</td>\n",
              "      <td>0.207472</td>\n",
              "      <td>0.999875</td>\n",
              "      <td>0.000039</td>\n",
              "      <td>50.096794</td>\n",
              "      <td>110.589020</td>\n",
              "      <td>199.354218</td>\n",
              "      <td>24.823910</td>\n",
              "      <td>20.169500</td>\n",
              "      <td>568.336182</td>\n",
              "      <td>1.711715</td>\n",
              "      <td>1.651840</td>\n",
              "      <td>0.753905</td>\n",
              "      <td>0.116457</td>\n",
              "      <td>0.323640</td>\n",
              "      <td>41.812035</td>\n",
              "      <td>133.007568</td>\n",
              "      <td>0.095103</td>\n",
              "      <td>56.495411</td>\n",
              "      <td>47.523163</td>\n",
              "      <td>27.404688</td>\n",
              "      <td>6.615669</td>\n",
              "    </tr>\n",
              "    <tr>\n",
              "      <th>2021-11-29</th>\n",
              "      <td>57806.566406</td>\n",
              "      <td>4445.104980</td>\n",
              "      <td>624.310059</td>\n",
              "      <td>1.000526</td>\n",
              "      <td>204.319366</td>\n",
              "      <td>1.602508</td>\n",
              "      <td>0.991961</td>\n",
              "      <td>37.162655</td>\n",
              "      <td>0.183415</td>\n",
              "      <td>0.215175</td>\n",
              "      <td>1.000078</td>\n",
              "      <td>0.000046</td>\n",
              "      <td>51.703499</td>\n",
              "      <td>120.258301</td>\n",
              "      <td>205.870209</td>\n",
              "      <td>25.017925</td>\n",
              "      <td>20.303202</td>\n",
              "      <td>576.121765</td>\n",
              "      <td>1.777569</td>\n",
              "      <td>1.817825</td>\n",
              "      <td>0.713988</td>\n",
              "      <td>0.121220</td>\n",
              "      <td>0.328523</td>\n",
              "      <td>42.042595</td>\n",
              "      <td>134.664810</td>\n",
              "      <td>0.096661</td>\n",
              "      <td>54.815617</td>\n",
              "      <td>48.283283</td>\n",
              "      <td>28.125826</td>\n",
              "      <td>6.661822</td>\n",
              "    </tr>\n",
              "    <tr>\n",
              "      <th>2021-11-30</th>\n",
              "      <td>57005.425781</td>\n",
              "      <td>4631.479004</td>\n",
              "      <td>622.669861</td>\n",
              "      <td>1.000286</td>\n",
              "      <td>208.670990</td>\n",
              "      <td>1.554903</td>\n",
              "      <td>0.998754</td>\n",
              "      <td>37.960495</td>\n",
              "      <td>0.171498</td>\n",
              "      <td>0.214715</td>\n",
              "      <td>0.999456</td>\n",
              "      <td>0.000047</td>\n",
              "      <td>59.718266</td>\n",
              "      <td>120.343697</td>\n",
              "      <td>208.014542</td>\n",
              "      <td>25.341774</td>\n",
              "      <td>21.242640</td>\n",
              "      <td>570.529663</td>\n",
              "      <td>1.813682</td>\n",
              "      <td>1.785351</td>\n",
              "      <td>0.690416</td>\n",
              "      <td>0.119090</td>\n",
              "      <td>0.336164</td>\n",
              "      <td>40.767921</td>\n",
              "      <td>137.148911</td>\n",
              "      <td>0.096610</td>\n",
              "      <td>53.763393</td>\n",
              "      <td>48.375690</td>\n",
              "      <td>27.549656</td>\n",
              "      <td>6.615837</td>\n",
              "    </tr>\n",
              "    <tr>\n",
              "      <th>2021-12-01</th>\n",
              "      <td>57229.828125</td>\n",
              "      <td>4586.990234</td>\n",
              "      <td>627.971558</td>\n",
              "      <td>1.000255</td>\n",
              "      <td>229.799240</td>\n",
              "      <td>1.547713</td>\n",
              "      <td>0.990930</td>\n",
              "      <td>36.773266</td>\n",
              "      <td>0.180344</td>\n",
              "      <td>0.209487</td>\n",
              "      <td>0.999593</td>\n",
              "      <td>0.000044</td>\n",
              "      <td>64.231544</td>\n",
              "      <td>119.750847</td>\n",
              "      <td>208.971252</td>\n",
              "      <td>25.356211</td>\n",
              "      <td>20.972164</td>\n",
              "      <td>571.056885</td>\n",
              "      <td>1.967895</td>\n",
              "      <td>2.008298</td>\n",
              "      <td>0.721203</td>\n",
              "      <td>0.118327</td>\n",
              "      <td>0.327880</td>\n",
              "      <td>41.022621</td>\n",
              "      <td>135.098404</td>\n",
              "      <td>0.096900</td>\n",
              "      <td>54.385078</td>\n",
              "      <td>47.891624</td>\n",
              "      <td>26.709431</td>\n",
              "      <td>6.526936</td>\n",
              "    </tr>\n",
              "    <tr>\n",
              "      <th>2021-12-02</th>\n",
              "      <td>56477.816406</td>\n",
              "      <td>4511.302246</td>\n",
              "      <td>619.470154</td>\n",
              "      <td>1.000174</td>\n",
              "      <td>233.993042</td>\n",
              "      <td>1.715366</td>\n",
              "      <td>0.972312</td>\n",
              "      <td>35.757893</td>\n",
              "      <td>0.180481</td>\n",
              "      <td>0.209726</td>\n",
              "      <td>0.998839</td>\n",
              "      <td>0.000042</td>\n",
              "      <td>66.184402</td>\n",
              "      <td>107.866547</td>\n",
              "      <td>203.489624</td>\n",
              "      <td>24.537094</td>\n",
              "      <td>22.368469</td>\n",
              "      <td>561.450623</td>\n",
              "      <td>1.883214</td>\n",
              "      <td>2.127288</td>\n",
              "      <td>0.694100</td>\n",
              "      <td>0.115828</td>\n",
              "      <td>0.338310</td>\n",
              "      <td>40.123329</td>\n",
              "      <td>135.082489</td>\n",
              "      <td>0.097415</td>\n",
              "      <td>53.673012</td>\n",
              "      <td>47.064156</td>\n",
              "      <td>28.375084</td>\n",
              "      <td>6.364888</td>\n",
              "    </tr>\n",
              "  </tbody>\n",
              "</table>\n",
              "</div>"
            ],
            "text/plain": [
              "                 BTC-USD      ETH-USD  ...  ATOM1-USD  THETA-USD\n",
              "Date                                   ...                      \n",
              "2021-11-28  57248.457031  4294.453613  ...  27.404688   6.615669\n",
              "2021-11-29  57806.566406  4445.104980  ...  28.125826   6.661822\n",
              "2021-11-30  57005.425781  4631.479004  ...  27.549656   6.615837\n",
              "2021-12-01  57229.828125  4586.990234  ...  26.709431   6.526936\n",
              "2021-12-02  56477.816406  4511.302246  ...  28.375084   6.364888\n",
              "\n",
              "[5 rows x 30 columns]"
            ]
          },
          "metadata": {},
          "execution_count": 50
        }
      ]
    },
    {
      "cell_type": "markdown",
      "metadata": {
        "id": "14VDrRodIIT4"
      },
      "source": [
        "## Examples"
      ]
    },
    {
      "cell_type": "markdown",
      "metadata": {
        "id": "pD3cVOBiI_0q"
      },
      "source": [
        "**Crypto_info() function** "
      ]
    },
    {
      "cell_type": "code",
      "metadata": {
        "colab": {
          "base_uri": "https://localhost:8080/",
          "height": 255
        },
        "id": "Lo-MZXj_4NJG",
        "outputId": "ac8feb58-3c9c-4866-a5df-823872bd7f41"
      },
      "source": [
        "crypto_info('ETH-USD').tail()"
      ],
      "execution_count": 51,
      "outputs": [
        {
          "output_type": "stream",
          "name": "stdout",
          "text": [
            "\r[*********************100%***********************]  1 of 1 completed\n"
          ]
        },
        {
          "output_type": "execute_result",
          "data": {
            "text/html": [
              "<div>\n",
              "<style scoped>\n",
              "    .dataframe tbody tr th:only-of-type {\n",
              "        vertical-align: middle;\n",
              "    }\n",
              "\n",
              "    .dataframe tbody tr th {\n",
              "        vertical-align: top;\n",
              "    }\n",
              "\n",
              "    .dataframe thead th {\n",
              "        text-align: right;\n",
              "    }\n",
              "</style>\n",
              "<table border=\"1\" class=\"dataframe\">\n",
              "  <thead>\n",
              "    <tr style=\"text-align: right;\">\n",
              "      <th></th>\n",
              "      <th>Open</th>\n",
              "      <th>High</th>\n",
              "      <th>Low</th>\n",
              "      <th>Close</th>\n",
              "      <th>Adj Close</th>\n",
              "      <th>Volume</th>\n",
              "    </tr>\n",
              "    <tr>\n",
              "      <th>Date</th>\n",
              "      <th></th>\n",
              "      <th></th>\n",
              "      <th></th>\n",
              "      <th></th>\n",
              "      <th></th>\n",
              "      <th></th>\n",
              "    </tr>\n",
              "  </thead>\n",
              "  <tbody>\n",
              "    <tr>\n",
              "      <th>2021-11-10</th>\n",
              "      <td>4733.362793</td>\n",
              "      <td>4859.502930</td>\n",
              "      <td>4485.093262</td>\n",
              "      <td>4636.174316</td>\n",
              "      <td>4636.174316</td>\n",
              "      <td>22748160545</td>\n",
              "    </tr>\n",
              "    <tr>\n",
              "      <th>2021-11-11</th>\n",
              "      <td>4635.453613</td>\n",
              "      <td>4778.059082</td>\n",
              "      <td>4580.990234</td>\n",
              "      <td>4730.384277</td>\n",
              "      <td>4730.384277</td>\n",
              "      <td>17933201129</td>\n",
              "    </tr>\n",
              "    <tr>\n",
              "      <th>2021-11-12</th>\n",
              "      <td>4724.306641</td>\n",
              "      <td>4808.738770</td>\n",
              "      <td>4510.920410</td>\n",
              "      <td>4667.115234</td>\n",
              "      <td>4667.115234</td>\n",
              "      <td>18316060208</td>\n",
              "    </tr>\n",
              "    <tr>\n",
              "      <th>2021-11-13</th>\n",
              "      <td>4666.719238</td>\n",
              "      <td>4702.115234</td>\n",
              "      <td>4582.180664</td>\n",
              "      <td>4651.460449</td>\n",
              "      <td>4651.460449</td>\n",
              "      <td>14457436261</td>\n",
              "    </tr>\n",
              "    <tr>\n",
              "      <th>2021-11-14</th>\n",
              "      <td>4648.632812</td>\n",
              "      <td>4689.842773</td>\n",
              "      <td>4516.935547</td>\n",
              "      <td>4626.358887</td>\n",
              "      <td>4626.358887</td>\n",
              "      <td>12172962219</td>\n",
              "    </tr>\n",
              "  </tbody>\n",
              "</table>\n",
              "</div>"
            ],
            "text/plain": [
              "                   Open         High  ...    Adj Close       Volume\n",
              "Date                                  ...                          \n",
              "2021-11-10  4733.362793  4859.502930  ...  4636.174316  22748160545\n",
              "2021-11-11  4635.453613  4778.059082  ...  4730.384277  17933201129\n",
              "2021-11-12  4724.306641  4808.738770  ...  4667.115234  18316060208\n",
              "2021-11-13  4666.719238  4702.115234  ...  4651.460449  14457436261\n",
              "2021-11-14  4648.632812  4689.842773  ...  4626.358887  12172962219\n",
              "\n",
              "[5 rows x 6 columns]"
            ]
          },
          "metadata": {},
          "execution_count": 51
        }
      ]
    },
    {
      "cell_type": "markdown",
      "metadata": {
        "id": "szvnQ9CfJSa2"
      },
      "source": [
        "**Candlestick_month() function**"
      ]
    },
    {
      "cell_type": "code",
      "metadata": {
        "colab": {
          "base_uri": "https://localhost:8080/"
        },
        "id": "YY3hXFMnpwTz",
        "outputId": "4c1bf88b-79f6-4a30-ef0a-e33e409ca6b4"
      },
      "source": [
        "eth = pd.DataFrame(crypto_info('ETH-USD')['Close'])"
      ],
      "execution_count": 52,
      "outputs": [
        {
          "output_type": "stream",
          "name": "stdout",
          "text": [
            "\r[*********************100%***********************]  1 of 1 completed\n"
          ]
        }
      ]
    },
    {
      "cell_type": "code",
      "metadata": {
        "colab": {
          "base_uri": "https://localhost:8080/",
          "height": 455
        },
        "id": "64jV-eG8rC5k",
        "outputId": "156cdaad-4e07-4ae6-c3b3-603800079e51"
      },
      "source": [
        "eth"
      ],
      "execution_count": 53,
      "outputs": [
        {
          "output_type": "execute_result",
          "data": {
            "text/html": [
              "<div>\n",
              "<style scoped>\n",
              "    .dataframe tbody tr th:only-of-type {\n",
              "        vertical-align: middle;\n",
              "    }\n",
              "\n",
              "    .dataframe tbody tr th {\n",
              "        vertical-align: top;\n",
              "    }\n",
              "\n",
              "    .dataframe thead th {\n",
              "        text-align: right;\n",
              "    }\n",
              "</style>\n",
              "<table border=\"1\" class=\"dataframe\">\n",
              "  <thead>\n",
              "    <tr style=\"text-align: right;\">\n",
              "      <th></th>\n",
              "      <th>Close</th>\n",
              "    </tr>\n",
              "    <tr>\n",
              "      <th>Date</th>\n",
              "      <th></th>\n",
              "    </tr>\n",
              "  </thead>\n",
              "  <tbody>\n",
              "    <tr>\n",
              "      <th>2021-01-01</th>\n",
              "      <td>730.367554</td>\n",
              "    </tr>\n",
              "    <tr>\n",
              "      <th>2021-01-02</th>\n",
              "      <td>774.534973</td>\n",
              "    </tr>\n",
              "    <tr>\n",
              "      <th>2021-01-03</th>\n",
              "      <td>975.507690</td>\n",
              "    </tr>\n",
              "    <tr>\n",
              "      <th>2021-01-04</th>\n",
              "      <td>1040.233032</td>\n",
              "    </tr>\n",
              "    <tr>\n",
              "      <th>2021-01-05</th>\n",
              "      <td>1100.006104</td>\n",
              "    </tr>\n",
              "    <tr>\n",
              "      <th>...</th>\n",
              "      <td>...</td>\n",
              "    </tr>\n",
              "    <tr>\n",
              "      <th>2021-11-10</th>\n",
              "      <td>4636.174316</td>\n",
              "    </tr>\n",
              "    <tr>\n",
              "      <th>2021-11-11</th>\n",
              "      <td>4730.384277</td>\n",
              "    </tr>\n",
              "    <tr>\n",
              "      <th>2021-11-12</th>\n",
              "      <td>4667.115234</td>\n",
              "    </tr>\n",
              "    <tr>\n",
              "      <th>2021-11-13</th>\n",
              "      <td>4651.460449</td>\n",
              "    </tr>\n",
              "    <tr>\n",
              "      <th>2021-11-14</th>\n",
              "      <td>4626.358887</td>\n",
              "    </tr>\n",
              "  </tbody>\n",
              "</table>\n",
              "<p>318 rows × 1 columns</p>\n",
              "</div>"
            ],
            "text/plain": [
              "                  Close\n",
              "Date                   \n",
              "2021-01-01   730.367554\n",
              "2021-01-02   774.534973\n",
              "2021-01-03   975.507690\n",
              "2021-01-04  1040.233032\n",
              "2021-01-05  1100.006104\n",
              "...                 ...\n",
              "2021-11-10  4636.174316\n",
              "2021-11-11  4730.384277\n",
              "2021-11-12  4667.115234\n",
              "2021-11-13  4651.460449\n",
              "2021-11-14  4626.358887\n",
              "\n",
              "[318 rows x 1 columns]"
            ]
          },
          "metadata": {},
          "execution_count": 53
        }
      ]
    },
    {
      "cell_type": "code",
      "metadata": {
        "id": "YFWnEV35q4tm"
      },
      "source": [
        "eth['return'] = eth.Close.pct_change()"
      ],
      "execution_count": 54,
      "outputs": []
    },
    {
      "cell_type": "code",
      "metadata": {
        "colab": {
          "base_uri": "https://localhost:8080/",
          "height": 455
        },
        "id": "fEPx8ZtbrHPj",
        "outputId": "29093a64-626f-407f-d1fb-04c6fbcdc4bc"
      },
      "source": [
        "eth"
      ],
      "execution_count": 55,
      "outputs": [
        {
          "output_type": "execute_result",
          "data": {
            "text/html": [
              "<div>\n",
              "<style scoped>\n",
              "    .dataframe tbody tr th:only-of-type {\n",
              "        vertical-align: middle;\n",
              "    }\n",
              "\n",
              "    .dataframe tbody tr th {\n",
              "        vertical-align: top;\n",
              "    }\n",
              "\n",
              "    .dataframe thead th {\n",
              "        text-align: right;\n",
              "    }\n",
              "</style>\n",
              "<table border=\"1\" class=\"dataframe\">\n",
              "  <thead>\n",
              "    <tr style=\"text-align: right;\">\n",
              "      <th></th>\n",
              "      <th>Close</th>\n",
              "      <th>return</th>\n",
              "    </tr>\n",
              "    <tr>\n",
              "      <th>Date</th>\n",
              "      <th></th>\n",
              "      <th></th>\n",
              "    </tr>\n",
              "  </thead>\n",
              "  <tbody>\n",
              "    <tr>\n",
              "      <th>2021-01-01</th>\n",
              "      <td>730.367554</td>\n",
              "      <td>NaN</td>\n",
              "    </tr>\n",
              "    <tr>\n",
              "      <th>2021-01-02</th>\n",
              "      <td>774.534973</td>\n",
              "      <td>0.060473</td>\n",
              "    </tr>\n",
              "    <tr>\n",
              "      <th>2021-01-03</th>\n",
              "      <td>975.507690</td>\n",
              "      <td>0.259475</td>\n",
              "    </tr>\n",
              "    <tr>\n",
              "      <th>2021-01-04</th>\n",
              "      <td>1040.233032</td>\n",
              "      <td>0.066350</td>\n",
              "    </tr>\n",
              "    <tr>\n",
              "      <th>2021-01-05</th>\n",
              "      <td>1100.006104</td>\n",
              "      <td>0.057461</td>\n",
              "    </tr>\n",
              "    <tr>\n",
              "      <th>...</th>\n",
              "      <td>...</td>\n",
              "      <td>...</td>\n",
              "    </tr>\n",
              "    <tr>\n",
              "      <th>2021-11-10</th>\n",
              "      <td>4636.174316</td>\n",
              "      <td>-0.020886</td>\n",
              "    </tr>\n",
              "    <tr>\n",
              "      <th>2021-11-11</th>\n",
              "      <td>4730.384277</td>\n",
              "      <td>0.020321</td>\n",
              "    </tr>\n",
              "    <tr>\n",
              "      <th>2021-11-12</th>\n",
              "      <td>4667.115234</td>\n",
              "      <td>-0.013375</td>\n",
              "    </tr>\n",
              "    <tr>\n",
              "      <th>2021-11-13</th>\n",
              "      <td>4651.460449</td>\n",
              "      <td>-0.003354</td>\n",
              "    </tr>\n",
              "    <tr>\n",
              "      <th>2021-11-14</th>\n",
              "      <td>4626.358887</td>\n",
              "      <td>-0.005396</td>\n",
              "    </tr>\n",
              "  </tbody>\n",
              "</table>\n",
              "<p>318 rows × 2 columns</p>\n",
              "</div>"
            ],
            "text/plain": [
              "                  Close    return\n",
              "Date                             \n",
              "2021-01-01   730.367554       NaN\n",
              "2021-01-02   774.534973  0.060473\n",
              "2021-01-03   975.507690  0.259475\n",
              "2021-01-04  1040.233032  0.066350\n",
              "2021-01-05  1100.006104  0.057461\n",
              "...                 ...       ...\n",
              "2021-11-10  4636.174316 -0.020886\n",
              "2021-11-11  4730.384277  0.020321\n",
              "2021-11-12  4667.115234 -0.013375\n",
              "2021-11-13  4651.460449 -0.003354\n",
              "2021-11-14  4626.358887 -0.005396\n",
              "\n",
              "[318 rows x 2 columns]"
            ]
          },
          "metadata": {},
          "execution_count": 55
        }
      ]
    },
    {
      "cell_type": "code",
      "metadata": {
        "colab": {
          "base_uri": "https://localhost:8080/",
          "height": 559
        },
        "id": "jvHNLPZ82WzG",
        "outputId": "a1dcd04d-7c26-432b-e219-0237fcbb998e"
      },
      "source": [
        "Candlestick_month('ETH-USD', 'Ethereum')"
      ],
      "execution_count": 56,
      "outputs": [
        {
          "output_type": "stream",
          "name": "stdout",
          "text": [
            "\r[*********************100%***********************]  1 of 1 completed\n"
          ]
        },
        {
          "output_type": "display_data",
          "data": {
            "text/html": [
              "<html>\n",
              "<head><meta charset=\"utf-8\" /></head>\n",
              "<body>\n",
              "    <div>\n",
              "            <script src=\"https://cdnjs.cloudflare.com/ajax/libs/mathjax/2.7.5/MathJax.js?config=TeX-AMS-MML_SVG\"></script><script type=\"text/javascript\">if (window.MathJax) {MathJax.Hub.Config({SVG: {font: \"STIX-Web\"}});}</script>\n",
              "                <script type=\"text/javascript\">window.PlotlyConfig = {MathJaxConfig: 'local'};</script>\n",
              "        <script src=\"https://cdn.plot.ly/plotly-latest.min.js\"></script>    \n",
              "            <div id=\"5909b71e-55c2-4a1c-97c0-73747ab73e14\" class=\"plotly-graph-div\" style=\"height:525px; width:100%;\"></div>\n",
              "            <script type=\"text/javascript\">\n",
              "                \n",
              "                    window.PLOTLYENV=window.PLOTLYENV || {};\n",
              "                    \n",
              "                if (document.getElementById(\"5909b71e-55c2-4a1c-97c0-73747ab73e14\")) {\n",
              "                    Plotly.newPlot(\n",
              "                        '5909b71e-55c2-4a1c-97c0-73747ab73e14',\n",
              "                        [{\"close\": [4216.365234375, 4287.59375, 4000.65087890625, 4298.306640625, 4409.93115234375, 4269.73291015625, 4088.457763671875, 4340.763671875, 4239.9814453125, 4274.7431640625, 4030.908935546875, 4096.912109375, 4294.45361328125, 4445.10498046875, 4631.47900390625, 4586.990234375, 4511.30224609375, 4220.7060546875, 4119.58740234375, 4198.32275390625, 4358.7373046875, 4315.0615234375, 4439.35791015625, 4119.81591796875, 3908.49609375, 4084.452392578125, 4134.453125, 3784.226806640625, 3745.4404296875, 4018.388671875, 4004.0234375], \"high\": [4891.70458984375, 4300.306640625, 4343.55712890625, 4311.7138671875, 4434.38818359375, 4422.49169921875, 4302.02294921875, 4385.4833984375, 4376.8759765625, 4550.51806640625, 4550.84228515625, 4187.68408203125, 4297.91650390625, 4460.8486328125, 4753.26611328125, 4780.732421875, 4628.919921875, 4647.2890625, 4242.7255859375, 4246.92333984375, 4375.5205078125, 4428.58935546875, 4453.1123046875, 4482.31396484375, 4227.11181640625, 4095.6484375, 4173.60888671875, 4145.955078125, 3866.6337890625, 4086.372802734375, 4053.586669921875], \"low\": [4144.3349609375, 4107.1259765625, 3959.227783203125, 3982.91748046875, 4209.24267578125, 4255.455078125, 4033.572265625, 4069.7666015625, 4176.18359375, 4249.7744140625, 3933.506591796875, 4033.513916015625, 3989.969970703125, 4284.5048828125, 4358.07421875, 4530.2724609375, 4441.5078125, 4100.1455078125, 3525.494140625, 4040.217529296875, 3930.806640625, 4264.32373046875, 4234.53759765625, 4078.84423828125, 3897.767578125, 3846.054443359375, 3993.055908203125, 3680.609130859375, 3700.104736328125, 3664.719970703125, 4000.119873046875], \"name\": \"market data\", \"open\": [4570.47802734375, 4213.91064453125, 4287.80224609375, 3995.7294921875, 4298.3505859375, 4412.1953125, 4266.50927734375, 4089.680419921875, 4340.0361328125, 4271.39453125, 4522.208984375, 4042.9990234375, 4101.64892578125, 4296.94677734375, 4447.76806640625, 4623.6796875, 4586.3330078125, 4514.35595703125, 4227.76220703125, 4119.62890625, 4199.0, 4358.5869140625, 4311.67431640625, 4433.02490234375, 4113.58837890625, 3909.667724609375, 4084.811279296875, 4136.35986328125, 3782.82275390625, 3862.25146484375, 4030.96923828125], \"type\": \"candlestick\", \"x\": [\"2021-11-16T00:00:00\", \"2021-11-17T00:00:00\", \"2021-11-18T00:00:00\", \"2021-11-19T00:00:00\", \"2021-11-20T00:00:00\", \"2021-11-21T00:00:00\", \"2021-11-22T00:00:00\", \"2021-11-23T00:00:00\", \"2021-11-24T00:00:00\", \"2021-11-25T00:00:00\", \"2021-11-26T00:00:00\", \"2021-11-27T00:00:00\", \"2021-11-28T00:00:00\", \"2021-11-29T00:00:00\", \"2021-11-30T00:00:00\", \"2021-12-01T00:00:00\", \"2021-12-02T00:00:00\", \"2021-12-03T00:00:00\", \"2021-12-04T00:00:00\", \"2021-12-05T00:00:00\", \"2021-12-06T00:00:00\", \"2021-12-07T00:00:00\", \"2021-12-08T00:00:00\", \"2021-12-09T00:00:00\", \"2021-12-10T00:00:00\", \"2021-12-11T00:00:00\", \"2021-12-12T00:00:00\", \"2021-12-13T00:00:00\", \"2021-12-14T00:00:00\", \"2021-12-15T00:00:00\", \"2021-12-16T00:00:00\"]}],\n",
              "                        {\"template\": {\"data\": {\"bar\": [{\"error_x\": {\"color\": \"#2a3f5f\"}, \"error_y\": {\"color\": \"#2a3f5f\"}, \"marker\": {\"line\": {\"color\": \"#E5ECF6\", \"width\": 0.5}}, \"type\": \"bar\"}], \"barpolar\": [{\"marker\": {\"line\": {\"color\": \"#E5ECF6\", \"width\": 0.5}}, \"type\": \"barpolar\"}], \"carpet\": [{\"aaxis\": {\"endlinecolor\": \"#2a3f5f\", \"gridcolor\": \"white\", \"linecolor\": \"white\", \"minorgridcolor\": \"white\", \"startlinecolor\": \"#2a3f5f\"}, \"baxis\": {\"endlinecolor\": \"#2a3f5f\", \"gridcolor\": \"white\", \"linecolor\": \"white\", \"minorgridcolor\": \"white\", \"startlinecolor\": \"#2a3f5f\"}, \"type\": \"carpet\"}], \"choropleth\": [{\"colorbar\": {\"outlinewidth\": 0, \"ticks\": \"\"}, \"type\": \"choropleth\"}], \"contour\": [{\"colorbar\": {\"outlinewidth\": 0, \"ticks\": \"\"}, \"colorscale\": [[0.0, \"#0d0887\"], [0.1111111111111111, \"#46039f\"], [0.2222222222222222, \"#7201a8\"], [0.3333333333333333, \"#9c179e\"], [0.4444444444444444, \"#bd3786\"], [0.5555555555555556, \"#d8576b\"], [0.6666666666666666, \"#ed7953\"], [0.7777777777777778, \"#fb9f3a\"], [0.8888888888888888, \"#fdca26\"], [1.0, \"#f0f921\"]], \"type\": \"contour\"}], \"contourcarpet\": [{\"colorbar\": {\"outlinewidth\": 0, \"ticks\": \"\"}, \"type\": \"contourcarpet\"}], \"heatmap\": [{\"colorbar\": {\"outlinewidth\": 0, \"ticks\": \"\"}, \"colorscale\": [[0.0, \"#0d0887\"], [0.1111111111111111, \"#46039f\"], [0.2222222222222222, \"#7201a8\"], [0.3333333333333333, \"#9c179e\"], [0.4444444444444444, \"#bd3786\"], [0.5555555555555556, \"#d8576b\"], [0.6666666666666666, \"#ed7953\"], [0.7777777777777778, \"#fb9f3a\"], [0.8888888888888888, \"#fdca26\"], [1.0, \"#f0f921\"]], \"type\": \"heatmap\"}], \"heatmapgl\": [{\"colorbar\": {\"outlinewidth\": 0, \"ticks\": \"\"}, \"colorscale\": [[0.0, \"#0d0887\"], [0.1111111111111111, \"#46039f\"], [0.2222222222222222, \"#7201a8\"], [0.3333333333333333, \"#9c179e\"], [0.4444444444444444, \"#bd3786\"], [0.5555555555555556, \"#d8576b\"], [0.6666666666666666, \"#ed7953\"], [0.7777777777777778, \"#fb9f3a\"], [0.8888888888888888, \"#fdca26\"], [1.0, \"#f0f921\"]], \"type\": \"heatmapgl\"}], \"histogram\": [{\"marker\": {\"colorbar\": {\"outlinewidth\": 0, \"ticks\": \"\"}}, \"type\": \"histogram\"}], \"histogram2d\": [{\"colorbar\": {\"outlinewidth\": 0, \"ticks\": \"\"}, \"colorscale\": [[0.0, \"#0d0887\"], [0.1111111111111111, \"#46039f\"], [0.2222222222222222, \"#7201a8\"], [0.3333333333333333, \"#9c179e\"], [0.4444444444444444, \"#bd3786\"], [0.5555555555555556, \"#d8576b\"], [0.6666666666666666, \"#ed7953\"], [0.7777777777777778, \"#fb9f3a\"], [0.8888888888888888, \"#fdca26\"], [1.0, \"#f0f921\"]], \"type\": \"histogram2d\"}], \"histogram2dcontour\": [{\"colorbar\": {\"outlinewidth\": 0, \"ticks\": \"\"}, \"colorscale\": [[0.0, \"#0d0887\"], [0.1111111111111111, \"#46039f\"], [0.2222222222222222, \"#7201a8\"], [0.3333333333333333, \"#9c179e\"], [0.4444444444444444, \"#bd3786\"], [0.5555555555555556, \"#d8576b\"], [0.6666666666666666, \"#ed7953\"], [0.7777777777777778, \"#fb9f3a\"], [0.8888888888888888, \"#fdca26\"], [1.0, \"#f0f921\"]], \"type\": \"histogram2dcontour\"}], \"mesh3d\": [{\"colorbar\": {\"outlinewidth\": 0, \"ticks\": \"\"}, \"type\": \"mesh3d\"}], \"parcoords\": [{\"line\": {\"colorbar\": {\"outlinewidth\": 0, \"ticks\": \"\"}}, \"type\": \"parcoords\"}], \"pie\": [{\"automargin\": true, \"type\": \"pie\"}], \"scatter\": [{\"marker\": {\"colorbar\": {\"outlinewidth\": 0, \"ticks\": \"\"}}, \"type\": \"scatter\"}], \"scatter3d\": [{\"line\": {\"colorbar\": {\"outlinewidth\": 0, \"ticks\": \"\"}}, \"marker\": {\"colorbar\": {\"outlinewidth\": 0, \"ticks\": \"\"}}, \"type\": \"scatter3d\"}], \"scattercarpet\": [{\"marker\": {\"colorbar\": {\"outlinewidth\": 0, \"ticks\": \"\"}}, \"type\": \"scattercarpet\"}], \"scattergeo\": [{\"marker\": {\"colorbar\": {\"outlinewidth\": 0, \"ticks\": \"\"}}, \"type\": \"scattergeo\"}], \"scattergl\": [{\"marker\": {\"colorbar\": {\"outlinewidth\": 0, \"ticks\": \"\"}}, \"type\": \"scattergl\"}], \"scattermapbox\": [{\"marker\": {\"colorbar\": {\"outlinewidth\": 0, \"ticks\": \"\"}}, \"type\": \"scattermapbox\"}], \"scatterpolar\": [{\"marker\": {\"colorbar\": {\"outlinewidth\": 0, \"ticks\": \"\"}}, \"type\": \"scatterpolar\"}], \"scatterpolargl\": [{\"marker\": {\"colorbar\": {\"outlinewidth\": 0, \"ticks\": \"\"}}, \"type\": \"scatterpolargl\"}], \"scatterternary\": [{\"marker\": {\"colorbar\": {\"outlinewidth\": 0, \"ticks\": \"\"}}, \"type\": \"scatterternary\"}], \"surface\": [{\"colorbar\": {\"outlinewidth\": 0, \"ticks\": \"\"}, \"colorscale\": [[0.0, \"#0d0887\"], [0.1111111111111111, \"#46039f\"], [0.2222222222222222, \"#7201a8\"], [0.3333333333333333, \"#9c179e\"], [0.4444444444444444, \"#bd3786\"], [0.5555555555555556, \"#d8576b\"], [0.6666666666666666, \"#ed7953\"], [0.7777777777777778, \"#fb9f3a\"], [0.8888888888888888, \"#fdca26\"], [1.0, \"#f0f921\"]], \"type\": \"surface\"}], \"table\": [{\"cells\": {\"fill\": {\"color\": \"#EBF0F8\"}, \"line\": {\"color\": \"white\"}}, \"header\": {\"fill\": {\"color\": \"#C8D4E3\"}, \"line\": {\"color\": \"white\"}}, \"type\": \"table\"}]}, \"layout\": {\"annotationdefaults\": {\"arrowcolor\": \"#2a3f5f\", \"arrowhead\": 0, \"arrowwidth\": 1}, \"coloraxis\": {\"colorbar\": {\"outlinewidth\": 0, \"ticks\": \"\"}}, \"colorscale\": {\"diverging\": [[0, \"#8e0152\"], [0.1, \"#c51b7d\"], [0.2, \"#de77ae\"], [0.3, \"#f1b6da\"], [0.4, \"#fde0ef\"], [0.5, \"#f7f7f7\"], [0.6, \"#e6f5d0\"], [0.7, \"#b8e186\"], [0.8, \"#7fbc41\"], [0.9, \"#4d9221\"], [1, \"#276419\"]], \"sequential\": [[0.0, \"#0d0887\"], [0.1111111111111111, \"#46039f\"], [0.2222222222222222, \"#7201a8\"], [0.3333333333333333, \"#9c179e\"], [0.4444444444444444, \"#bd3786\"], [0.5555555555555556, \"#d8576b\"], [0.6666666666666666, \"#ed7953\"], [0.7777777777777778, \"#fb9f3a\"], [0.8888888888888888, \"#fdca26\"], [1.0, \"#f0f921\"]], \"sequentialminus\": [[0.0, \"#0d0887\"], [0.1111111111111111, \"#46039f\"], [0.2222222222222222, \"#7201a8\"], [0.3333333333333333, \"#9c179e\"], [0.4444444444444444, \"#bd3786\"], [0.5555555555555556, \"#d8576b\"], [0.6666666666666666, \"#ed7953\"], [0.7777777777777778, \"#fb9f3a\"], [0.8888888888888888, \"#fdca26\"], [1.0, \"#f0f921\"]]}, \"colorway\": [\"#636efa\", \"#EF553B\", \"#00cc96\", \"#ab63fa\", \"#FFA15A\", \"#19d3f3\", \"#FF6692\", \"#B6E880\", \"#FF97FF\", \"#FECB52\"], \"font\": {\"color\": \"#2a3f5f\"}, \"geo\": {\"bgcolor\": \"white\", \"lakecolor\": \"white\", \"landcolor\": \"#E5ECF6\", \"showlakes\": true, \"showland\": true, \"subunitcolor\": \"white\"}, \"hoverlabel\": {\"align\": \"left\"}, \"hovermode\": \"closest\", \"mapbox\": {\"style\": \"light\"}, \"paper_bgcolor\": \"white\", \"plot_bgcolor\": \"#E5ECF6\", \"polar\": {\"angularaxis\": {\"gridcolor\": \"white\", \"linecolor\": \"white\", \"ticks\": \"\"}, \"bgcolor\": \"#E5ECF6\", \"radialaxis\": {\"gridcolor\": \"white\", \"linecolor\": \"white\", \"ticks\": \"\"}}, \"scene\": {\"xaxis\": {\"backgroundcolor\": \"#E5ECF6\", \"gridcolor\": \"white\", \"gridwidth\": 2, \"linecolor\": \"white\", \"showbackground\": true, \"ticks\": \"\", \"zerolinecolor\": \"white\"}, \"yaxis\": {\"backgroundcolor\": \"#E5ECF6\", \"gridcolor\": \"white\", \"gridwidth\": 2, \"linecolor\": \"white\", \"showbackground\": true, \"ticks\": \"\", \"zerolinecolor\": \"white\"}, \"zaxis\": {\"backgroundcolor\": \"#E5ECF6\", \"gridcolor\": \"white\", \"gridwidth\": 2, \"linecolor\": \"white\", \"showbackground\": true, \"ticks\": \"\", \"zerolinecolor\": \"white\"}}, \"shapedefaults\": {\"line\": {\"color\": \"#2a3f5f\"}}, \"ternary\": {\"aaxis\": {\"gridcolor\": \"white\", \"linecolor\": \"white\", \"ticks\": \"\"}, \"baxis\": {\"gridcolor\": \"white\", \"linecolor\": \"white\", \"ticks\": \"\"}, \"bgcolor\": \"#E5ECF6\", \"caxis\": {\"gridcolor\": \"white\", \"linecolor\": \"white\", \"ticks\": \"\"}}, \"title\": {\"x\": 0.05}, \"xaxis\": {\"automargin\": true, \"gridcolor\": \"white\", \"linecolor\": \"white\", \"ticks\": \"\", \"title\": {\"standoff\": 15}, \"zerolinecolor\": \"white\", \"zerolinewidth\": 2}, \"yaxis\": {\"automargin\": true, \"gridcolor\": \"white\", \"linecolor\": \"white\", \"ticks\": \"\", \"title\": {\"standoff\": 15}, \"zerolinecolor\": \"white\", \"zerolinewidth\": 2}}}, \"title\": {\"text\": \"Ethereum live share price evolution\"}, \"yaxis\": {\"title\": {\"text\": \"Ethereum Price (kUS Dollars)\"}}},\n",
              "                        {\"responsive\": true}\n",
              "                    ).then(function(){\n",
              "                            \n",
              "var gd = document.getElementById('5909b71e-55c2-4a1c-97c0-73747ab73e14');\n",
              "var x = new MutationObserver(function (mutations, observer) {{\n",
              "        var display = window.getComputedStyle(gd).display;\n",
              "        if (!display || display === 'none') {{\n",
              "            console.log([gd, 'removed!']);\n",
              "            Plotly.purge(gd);\n",
              "            observer.disconnect();\n",
              "        }}\n",
              "}});\n",
              "\n",
              "// Listen for the removal of the full notebook cells\n",
              "var notebookContainer = gd.closest('#notebook-container');\n",
              "if (notebookContainer) {{\n",
              "    x.observe(notebookContainer, {childList: true});\n",
              "}}\n",
              "\n",
              "// Listen for the clearing of the current output cell\n",
              "var outputEl = gd.closest('.output');\n",
              "if (outputEl) {{\n",
              "    x.observe(outputEl, {childList: true});\n",
              "}}\n",
              "\n",
              "                        })\n",
              "                };\n",
              "                \n",
              "            </script>\n",
              "        </div>\n",
              "</body>\n",
              "</html>"
            ]
          },
          "metadata": {}
        }
      ]
    },
    {
      "cell_type": "markdown",
      "metadata": {
        "id": "ksap53JiqtFw"
      },
      "source": [
        "**Candlestick() function**"
      ]
    },
    {
      "cell_type": "code",
      "metadata": {
        "colab": {
          "base_uri": "https://localhost:8080/",
          "height": 559
        },
        "id": "OjAMltebz85B",
        "outputId": "02ab22f2-cf75-46f5-fcb4-826eb3421838"
      },
      "source": [
        "Candlestick('ETH-USD', 'Ethereum')"
      ],
      "execution_count": 57,
      "outputs": [
        {
          "output_type": "stream",
          "name": "stdout",
          "text": [
            "\r[*********************100%***********************]  1 of 1 completed\n"
          ]
        },
        {
          "output_type": "display_data",
          "data": {
            "text/html": [
              "<html>\n",
              "<head><meta charset=\"utf-8\" /></head>\n",
              "<body>\n",
              "    <div>\n",
              "            <script src=\"https://cdnjs.cloudflare.com/ajax/libs/mathjax/2.7.5/MathJax.js?config=TeX-AMS-MML_SVG\"></script><script type=\"text/javascript\">if (window.MathJax) {MathJax.Hub.Config({SVG: {font: \"STIX-Web\"}});}</script>\n",
              "                <script type=\"text/javascript\">window.PlotlyConfig = {MathJaxConfig: 'local'};</script>\n",
              "        <script src=\"https://cdn.plot.ly/plotly-latest.min.js\"></script>    \n",
              "            <div id=\"9395b36a-c8f9-4b82-ae0f-a335d52eb0c2\" class=\"plotly-graph-div\" style=\"height:525px; width:100%;\"></div>\n",
              "            <script type=\"text/javascript\">\n",
              "                \n",
              "                    window.PLOTLYENV=window.PLOTLYENV || {};\n",
              "                    \n",
              "                if (document.getElementById(\"9395b36a-c8f9-4b82-ae0f-a335d52eb0c2\")) {\n",
              "                    Plotly.newPlot(\n",
              "                        '9395b36a-c8f9-4b82-ae0f-a335d52eb0c2',\n",
              "                        [{\"close\": [3881.12353515625, 3881.037109375, 3875.4580078125, 3873.57275390625, 3877.68896484375, 3879.48486328125, 3865.548828125, 3860.88427734375, 3863.834228515625, 3867.21337890625, 3846.2265625, 3857.77294921875, 3854.8134765625, 3865.62353515625, 3840.14794921875, 3819.385986328125, 3824.93115234375, 3820.8369140625, 3830.210205078125, 3819.126953125, 3825.334716796875, 3823.134033203125, 3783.9970703125, 3776.474609375, 3749.861083984375, 3718.461181640625, 3715.61328125, 3671.637451171875, 3681.86669921875, 3706.646728515625, 3689.826171875, 3708.353271484375, 3709.14697265625, 3710.40185546875, 3737.073974609375, 3736.335205078125, 3742.683837890625, 3759.394775390625, 3802.63134765625, 3806.82666015625, 3958.933349609375, 3878.960693359375, 3949.106689453125, 3973.8984375, 4031.291259765625, 4033.24658203125, 4070.302734375, 4056.02978515625, 4052.8466796875, 4070.94384765625, 4044.75341796875, 4055.913818359375, 4044.67431640625, 4019.770263671875, 4023.2724609375, 3995.34521484375, 4028.72021484375, 4015.046875, 4012.89111328125, 4020.65673828125, 4037.73486328125, 4045.117431640625, 4050.31640625, 4044.235107421875, 4033.7841796875, 4042.35498046875, 4039.1240234375, 4048.131103515625, 4038.206298828125, 4031.94580078125, 4033.38330078125, 4034.73193359375, 4030.737548828125, 4026.447265625, 4012.48828125, 4020.138427734375, 4010.847900390625, 4013.27978515625, 4011.322998046875, 4007.24853515625, 4020.0712890625, 4013.097412109375, 4012.92626953125, 4002.65625, 4004.0234375], \"high\": [3890.030029296875, 3885.53515625, 3880.800048828125, 3877.180908203125, 3880.687744140625, 3882.701416015625, 3878.958984375, 3865.976318359375, 3865.403076171875, 3867.21337890625, 3871.6572265625, 3858.91650390625, 3860.135009765625, 3865.62353515625, 3871.955810546875, 3834.459228515625, 3824.93115234375, 3824.06689453125, 3833.323974609375, 3832.182861328125, 3825.334716796875, 3828.314208984375, 3821.66064453125, 3782.00146484375, 3783.4248046875, 3746.114990234375, 3734.47265625, 3721.1044921875, 3683.59130859375, 3706.666748046875, 3703.0, 3708.353271484375, 3723.186767578125, 3710.40185546875, 3739.77978515625, 3736.335205078125, 3742.683837890625, 3765.52392578125, 3802.63134765625, 3830.3720703125, 3970.51513671875, 3939.597412109375, 3960.884765625, 3978.72705078125, 4045.2451171875, 4048.95263671875, 4086.372802734375, 4074.932861328125, 4067.16748046875, 4073.085205078125, 4078.46875, 4059.5654296875, 4061.544189453125, 4047.774658203125, 4027.736328125, 4029.6669921875, 4029.4443359375, 4024.168212890625, 4016.408203125, 4024.650146484375, 4040.3486328125, 4054.165283203125, 4054.04248046875, 4054.403076171875, 4049.18994140625, 4049.005126953125, 4048.4365234375, 4048.6552734375, 4050.652099609375, 4040.700439453125, 4039.63720703125, 4037.079345703125, 4040.584228515625, 4036.826416015625, 4028.1943359375, 4020.138427734375, 4028.744384765625, 4013.510009765625, 4016.59716796875, 4016.896240234375, 4020.77880859375, 4023.272705078125, 4015.786376953125, 4002.65625, 4004.0234375], \"low\": [3879.50390625, 3881.037109375, 3875.4580078125, 3873.476806640625, 3874.028076171875, 3878.09912109375, 3864.51953125, 3860.88427734375, 3861.136474609375, 3860.1162109375, 3846.2265625, 3848.613037109375, 3851.87451171875, 3849.417236328125, 3830.733642578125, 3818.907470703125, 3812.31103515625, 3810.04638671875, 3824.232666015625, 3817.277099609375, 3813.905517578125, 3817.5615234375, 3781.897216796875, 3770.93896484375, 3743.527099609375, 3714.423828125, 3715.61328125, 3671.637451171875, 3664.719970703125, 3678.620361328125, 3684.29443359375, 3682.783203125, 3708.926025390625, 3696.68603515625, 3712.8408203125, 3726.599853515625, 3725.15185546875, 3743.14013671875, 3761.28271484375, 3787.1455078125, 3775.813720703125, 3878.960693359375, 3895.3134765625, 3934.72412109375, 3970.547607421875, 4017.60546875, 4047.9609375, 4052.4306640625, 4050.685302734375, 4042.70166015625, 4044.75341796875, 4039.418701171875, 4044.67431640625, 4019.770263671875, 4016.3681640625, 3995.34521484375, 4000.070556640625, 4012.076416015625, 4006.390869140625, 4005.322509765625, 4020.4150390625, 4035.122802734375, 4033.968505859375, 4040.64697265625, 4028.827392578125, 4031.108154296875, 4039.1240234375, 4038.276123046875, 4035.9697265625, 4029.78955078125, 4029.299072265625, 4031.0703125, 4029.207275390625, 4025.29443359375, 4012.288818359375, 4012.991455078125, 4010.847900390625, 4000.119873046875, 4000.4169921875, 4007.24853515625, 4010.777587890625, 4010.234375, 4007.581787109375, 4002.65625, 4004.0234375], \"name\": \"market data\", \"open\": [3890.030029296875, 3882.003662109375, 3880.800048828125, 3876.220458984375, 3874.028076171875, 3878.09912109375, 3878.958984375, 3865.9296875, 3861.557373046875, 3863.42578125, 3867.574462890625, 3848.613037109375, 3856.778076171875, 3854.5107421875, 3871.955810546875, 3832.0166015625, 3814.940185546875, 3822.724853515625, 3824.232666015625, 3827.672119140625, 3821.718994140625, 3828.314208984375, 3821.66064453125, 3778.273193359375, 3777.423583984375, 3744.30712890625, 3717.586181640625, 3715.128662109375, 3666.4267578125, 3690.197998046875, 3703.0, 3692.519287109375, 3715.39404296875, 3710.003662109375, 3712.8408203125, 3734.28466796875, 3731.61865234375, 3743.14013671875, 3761.28271484375, 3810.681640625, 3808.856201171875, 3936.96826171875, 3895.3134765625, 3934.72412109375, 3970.547607421875, 4032.446533203125, 4057.005615234375, 4071.718994140625, 4056.882568359375, 4042.70166015625, 4075.9150390625, 4047.95458984375, 4059.42919921875, 4043.984619140625, 4018.2275390625, 4021.836669921875, 4000.070556640625, 4024.168212890625, 4014.820068359375, 4005.322509765625, 4020.4150390625, 4035.122802734375, 4041.115478515625, 4048.1044921875, 4044.590087890625, 4035.482421875, 4039.411865234375, 4045.4111328125, 4050.652099609375, 4037.985107421875, 4030.82861328125, 4033.39892578125, 4031.42724609375, 4026.33349609375, 4026.90869140625, 4012.991455078125, 4026.668701171875, 4013.510009765625, 4016.057373046875, 4010.72802734375, 4010.777587890625, 4019.241455078125, 4013.928466796875, 4002.65625, 4004.0234375], \"type\": \"candlestick\", \"x\": [\"2021-12-15T08:45:00+00:00\", \"2021-12-15T09:00:00+00:00\", \"2021-12-15T09:15:00+00:00\", \"2021-12-15T09:30:00+00:00\", \"2021-12-15T09:45:00+00:00\", \"2021-12-15T10:00:00+00:00\", \"2021-12-15T10:15:00+00:00\", \"2021-12-15T10:30:00+00:00\", \"2021-12-15T10:45:00+00:00\", \"2021-12-15T11:00:00+00:00\", \"2021-12-15T11:15:00+00:00\", \"2021-12-15T11:30:00+00:00\", \"2021-12-15T11:45:00+00:00\", \"2021-12-15T12:00:00+00:00\", \"2021-12-15T12:30:00+00:00\", \"2021-12-15T12:45:00+00:00\", \"2021-12-15T13:00:00+00:00\", \"2021-12-15T13:15:00+00:00\", \"2021-12-15T13:30:00+00:00\", \"2021-12-15T13:45:00+00:00\", \"2021-12-15T14:00:00+00:00\", \"2021-12-15T14:15:00+00:00\", \"2021-12-15T14:30:00+00:00\", \"2021-12-15T14:45:00+00:00\", \"2021-12-15T15:00:00+00:00\", \"2021-12-15T15:15:00+00:00\", \"2021-12-15T15:30:00+00:00\", \"2021-12-15T15:45:00+00:00\", \"2021-12-15T16:00:00+00:00\", \"2021-12-15T16:15:00+00:00\", \"2021-12-15T16:30:00+00:00\", \"2021-12-15T16:45:00+00:00\", \"2021-12-15T17:00:00+00:00\", \"2021-12-15T17:15:00+00:00\", \"2021-12-15T17:30:00+00:00\", \"2021-12-15T17:45:00+00:00\", \"2021-12-15T18:00:00+00:00\", \"2021-12-15T18:15:00+00:00\", \"2021-12-15T18:30:00+00:00\", \"2021-12-15T18:45:00+00:00\", \"2021-12-15T19:00:00+00:00\", \"2021-12-15T19:15:00+00:00\", \"2021-12-15T19:30:00+00:00\", \"2021-12-15T19:45:00+00:00\", \"2021-12-15T20:00:00+00:00\", \"2021-12-15T20:15:00+00:00\", \"2021-12-15T20:30:00+00:00\", \"2021-12-15T20:45:00+00:00\", \"2021-12-15T21:00:00+00:00\", \"2021-12-15T21:15:00+00:00\", \"2021-12-15T21:30:00+00:00\", \"2021-12-15T21:45:00+00:00\", \"2021-12-15T22:00:00+00:00\", \"2021-12-15T22:15:00+00:00\", \"2021-12-15T22:30:00+00:00\", \"2021-12-15T22:45:00+00:00\", \"2021-12-15T23:00:00+00:00\", \"2021-12-15T23:15:00+00:00\", \"2021-12-15T23:30:00+00:00\", \"2021-12-15T23:45:00+00:00\", \"2021-12-16T00:00:00+00:00\", \"2021-12-16T00:15:00+00:00\", \"2021-12-16T00:30:00+00:00\", \"2021-12-16T00:45:00+00:00\", \"2021-12-16T01:00:00+00:00\", \"2021-12-16T01:15:00+00:00\", \"2021-12-16T01:30:00+00:00\", \"2021-12-16T01:45:00+00:00\", \"2021-12-16T02:00:00+00:00\", \"2021-12-16T02:15:00+00:00\", \"2021-12-16T02:30:00+00:00\", \"2021-12-16T02:45:00+00:00\", \"2021-12-16T03:00:00+00:00\", \"2021-12-16T03:15:00+00:00\", \"2021-12-16T03:30:00+00:00\", \"2021-12-16T03:45:00+00:00\", \"2021-12-16T04:00:00+00:00\", \"2021-12-16T04:15:00+00:00\", \"2021-12-16T04:30:00+00:00\", \"2021-12-16T04:45:00+00:00\", \"2021-12-16T05:00:00+00:00\", \"2021-12-16T05:15:00+00:00\", \"2021-12-16T05:30:00+00:00\", \"2021-12-16T05:45:00+00:00\", \"2021-12-16T05:46:02+00:00\"]}],\n",
              "                        {\"template\": {\"data\": {\"bar\": [{\"error_x\": {\"color\": \"#2a3f5f\"}, \"error_y\": {\"color\": \"#2a3f5f\"}, \"marker\": {\"line\": {\"color\": \"#E5ECF6\", \"width\": 0.5}}, \"type\": \"bar\"}], \"barpolar\": [{\"marker\": {\"line\": {\"color\": \"#E5ECF6\", \"width\": 0.5}}, \"type\": \"barpolar\"}], \"carpet\": [{\"aaxis\": {\"endlinecolor\": \"#2a3f5f\", \"gridcolor\": \"white\", \"linecolor\": \"white\", \"minorgridcolor\": \"white\", \"startlinecolor\": \"#2a3f5f\"}, \"baxis\": {\"endlinecolor\": \"#2a3f5f\", \"gridcolor\": \"white\", \"linecolor\": \"white\", \"minorgridcolor\": \"white\", \"startlinecolor\": \"#2a3f5f\"}, \"type\": \"carpet\"}], \"choropleth\": [{\"colorbar\": {\"outlinewidth\": 0, \"ticks\": \"\"}, \"type\": \"choropleth\"}], \"contour\": [{\"colorbar\": {\"outlinewidth\": 0, \"ticks\": \"\"}, \"colorscale\": [[0.0, \"#0d0887\"], [0.1111111111111111, \"#46039f\"], [0.2222222222222222, \"#7201a8\"], [0.3333333333333333, \"#9c179e\"], [0.4444444444444444, \"#bd3786\"], [0.5555555555555556, \"#d8576b\"], [0.6666666666666666, \"#ed7953\"], [0.7777777777777778, \"#fb9f3a\"], [0.8888888888888888, \"#fdca26\"], [1.0, \"#f0f921\"]], \"type\": \"contour\"}], \"contourcarpet\": [{\"colorbar\": {\"outlinewidth\": 0, \"ticks\": \"\"}, \"type\": \"contourcarpet\"}], \"heatmap\": [{\"colorbar\": {\"outlinewidth\": 0, \"ticks\": \"\"}, \"colorscale\": [[0.0, \"#0d0887\"], [0.1111111111111111, \"#46039f\"], [0.2222222222222222, \"#7201a8\"], [0.3333333333333333, \"#9c179e\"], [0.4444444444444444, \"#bd3786\"], [0.5555555555555556, \"#d8576b\"], [0.6666666666666666, \"#ed7953\"], [0.7777777777777778, \"#fb9f3a\"], [0.8888888888888888, \"#fdca26\"], [1.0, \"#f0f921\"]], \"type\": \"heatmap\"}], \"heatmapgl\": [{\"colorbar\": {\"outlinewidth\": 0, \"ticks\": \"\"}, \"colorscale\": [[0.0, \"#0d0887\"], [0.1111111111111111, \"#46039f\"], [0.2222222222222222, \"#7201a8\"], [0.3333333333333333, \"#9c179e\"], [0.4444444444444444, \"#bd3786\"], [0.5555555555555556, \"#d8576b\"], [0.6666666666666666, \"#ed7953\"], [0.7777777777777778, \"#fb9f3a\"], [0.8888888888888888, \"#fdca26\"], [1.0, \"#f0f921\"]], \"type\": \"heatmapgl\"}], \"histogram\": [{\"marker\": {\"colorbar\": {\"outlinewidth\": 0, \"ticks\": \"\"}}, \"type\": \"histogram\"}], \"histogram2d\": [{\"colorbar\": {\"outlinewidth\": 0, \"ticks\": \"\"}, \"colorscale\": [[0.0, \"#0d0887\"], [0.1111111111111111, \"#46039f\"], [0.2222222222222222, \"#7201a8\"], [0.3333333333333333, \"#9c179e\"], [0.4444444444444444, \"#bd3786\"], [0.5555555555555556, \"#d8576b\"], [0.6666666666666666, \"#ed7953\"], [0.7777777777777778, \"#fb9f3a\"], [0.8888888888888888, \"#fdca26\"], [1.0, \"#f0f921\"]], \"type\": \"histogram2d\"}], \"histogram2dcontour\": [{\"colorbar\": {\"outlinewidth\": 0, \"ticks\": \"\"}, \"colorscale\": [[0.0, \"#0d0887\"], [0.1111111111111111, \"#46039f\"], [0.2222222222222222, \"#7201a8\"], [0.3333333333333333, \"#9c179e\"], [0.4444444444444444, \"#bd3786\"], [0.5555555555555556, \"#d8576b\"], [0.6666666666666666, \"#ed7953\"], [0.7777777777777778, \"#fb9f3a\"], [0.8888888888888888, \"#fdca26\"], [1.0, \"#f0f921\"]], \"type\": \"histogram2dcontour\"}], \"mesh3d\": [{\"colorbar\": {\"outlinewidth\": 0, \"ticks\": \"\"}, \"type\": \"mesh3d\"}], \"parcoords\": [{\"line\": {\"colorbar\": {\"outlinewidth\": 0, \"ticks\": \"\"}}, \"type\": \"parcoords\"}], \"pie\": [{\"automargin\": true, \"type\": \"pie\"}], \"scatter\": [{\"marker\": {\"colorbar\": {\"outlinewidth\": 0, \"ticks\": \"\"}}, \"type\": \"scatter\"}], \"scatter3d\": [{\"line\": {\"colorbar\": {\"outlinewidth\": 0, \"ticks\": \"\"}}, \"marker\": {\"colorbar\": {\"outlinewidth\": 0, \"ticks\": \"\"}}, \"type\": \"scatter3d\"}], \"scattercarpet\": [{\"marker\": {\"colorbar\": {\"outlinewidth\": 0, \"ticks\": \"\"}}, \"type\": \"scattercarpet\"}], \"scattergeo\": [{\"marker\": {\"colorbar\": {\"outlinewidth\": 0, \"ticks\": \"\"}}, \"type\": \"scattergeo\"}], \"scattergl\": [{\"marker\": {\"colorbar\": {\"outlinewidth\": 0, \"ticks\": \"\"}}, \"type\": \"scattergl\"}], \"scattermapbox\": [{\"marker\": {\"colorbar\": {\"outlinewidth\": 0, \"ticks\": \"\"}}, \"type\": \"scattermapbox\"}], \"scatterpolar\": [{\"marker\": {\"colorbar\": {\"outlinewidth\": 0, \"ticks\": \"\"}}, \"type\": \"scatterpolar\"}], \"scatterpolargl\": [{\"marker\": {\"colorbar\": {\"outlinewidth\": 0, \"ticks\": \"\"}}, \"type\": \"scatterpolargl\"}], \"scatterternary\": [{\"marker\": {\"colorbar\": {\"outlinewidth\": 0, \"ticks\": \"\"}}, \"type\": \"scatterternary\"}], \"surface\": [{\"colorbar\": {\"outlinewidth\": 0, \"ticks\": \"\"}, \"colorscale\": [[0.0, \"#0d0887\"], [0.1111111111111111, \"#46039f\"], [0.2222222222222222, \"#7201a8\"], [0.3333333333333333, \"#9c179e\"], [0.4444444444444444, \"#bd3786\"], [0.5555555555555556, \"#d8576b\"], [0.6666666666666666, \"#ed7953\"], [0.7777777777777778, \"#fb9f3a\"], [0.8888888888888888, \"#fdca26\"], [1.0, \"#f0f921\"]], \"type\": \"surface\"}], \"table\": [{\"cells\": {\"fill\": {\"color\": \"#EBF0F8\"}, \"line\": {\"color\": \"white\"}}, \"header\": {\"fill\": {\"color\": \"#C8D4E3\"}, \"line\": {\"color\": \"white\"}}, \"type\": \"table\"}]}, \"layout\": {\"annotationdefaults\": {\"arrowcolor\": \"#2a3f5f\", \"arrowhead\": 0, \"arrowwidth\": 1}, \"coloraxis\": {\"colorbar\": {\"outlinewidth\": 0, \"ticks\": \"\"}}, \"colorscale\": {\"diverging\": [[0, \"#8e0152\"], [0.1, \"#c51b7d\"], [0.2, \"#de77ae\"], [0.3, \"#f1b6da\"], [0.4, \"#fde0ef\"], [0.5, \"#f7f7f7\"], [0.6, \"#e6f5d0\"], [0.7, \"#b8e186\"], [0.8, \"#7fbc41\"], [0.9, \"#4d9221\"], [1, \"#276419\"]], \"sequential\": [[0.0, \"#0d0887\"], [0.1111111111111111, \"#46039f\"], [0.2222222222222222, \"#7201a8\"], [0.3333333333333333, \"#9c179e\"], [0.4444444444444444, \"#bd3786\"], [0.5555555555555556, \"#d8576b\"], [0.6666666666666666, \"#ed7953\"], [0.7777777777777778, \"#fb9f3a\"], [0.8888888888888888, \"#fdca26\"], [1.0, \"#f0f921\"]], \"sequentialminus\": [[0.0, \"#0d0887\"], [0.1111111111111111, \"#46039f\"], [0.2222222222222222, \"#7201a8\"], [0.3333333333333333, \"#9c179e\"], [0.4444444444444444, \"#bd3786\"], [0.5555555555555556, \"#d8576b\"], [0.6666666666666666, \"#ed7953\"], [0.7777777777777778, \"#fb9f3a\"], [0.8888888888888888, \"#fdca26\"], [1.0, \"#f0f921\"]]}, \"colorway\": [\"#636efa\", \"#EF553B\", \"#00cc96\", \"#ab63fa\", \"#FFA15A\", \"#19d3f3\", \"#FF6692\", \"#B6E880\", \"#FF97FF\", \"#FECB52\"], \"font\": {\"color\": \"#2a3f5f\"}, \"geo\": {\"bgcolor\": \"white\", \"lakecolor\": \"white\", \"landcolor\": \"#E5ECF6\", \"showlakes\": true, \"showland\": true, \"subunitcolor\": \"white\"}, \"hoverlabel\": {\"align\": \"left\"}, \"hovermode\": \"closest\", \"mapbox\": {\"style\": \"light\"}, \"paper_bgcolor\": \"white\", \"plot_bgcolor\": \"#E5ECF6\", \"polar\": {\"angularaxis\": {\"gridcolor\": \"white\", \"linecolor\": \"white\", \"ticks\": \"\"}, \"bgcolor\": \"#E5ECF6\", \"radialaxis\": {\"gridcolor\": \"white\", \"linecolor\": \"white\", \"ticks\": \"\"}}, \"scene\": {\"xaxis\": {\"backgroundcolor\": \"#E5ECF6\", \"gridcolor\": \"white\", \"gridwidth\": 2, \"linecolor\": \"white\", \"showbackground\": true, \"ticks\": \"\", \"zerolinecolor\": \"white\"}, \"yaxis\": {\"backgroundcolor\": \"#E5ECF6\", \"gridcolor\": \"white\", \"gridwidth\": 2, \"linecolor\": \"white\", \"showbackground\": true, \"ticks\": \"\", \"zerolinecolor\": \"white\"}, \"zaxis\": {\"backgroundcolor\": \"#E5ECF6\", \"gridcolor\": \"white\", \"gridwidth\": 2, \"linecolor\": \"white\", \"showbackground\": true, \"ticks\": \"\", \"zerolinecolor\": \"white\"}}, \"shapedefaults\": {\"line\": {\"color\": \"#2a3f5f\"}}, \"ternary\": {\"aaxis\": {\"gridcolor\": \"white\", \"linecolor\": \"white\", \"ticks\": \"\"}, \"baxis\": {\"gridcolor\": \"white\", \"linecolor\": \"white\", \"ticks\": \"\"}, \"bgcolor\": \"#E5ECF6\", \"caxis\": {\"gridcolor\": \"white\", \"linecolor\": \"white\", \"ticks\": \"\"}}, \"title\": {\"x\": 0.05}, \"xaxis\": {\"automargin\": true, \"gridcolor\": \"white\", \"linecolor\": \"white\", \"ticks\": \"\", \"title\": {\"standoff\": 15}, \"zerolinecolor\": \"white\", \"zerolinewidth\": 2}, \"yaxis\": {\"automargin\": true, \"gridcolor\": \"white\", \"linecolor\": \"white\", \"ticks\": \"\", \"title\": {\"standoff\": 15}, \"zerolinecolor\": \"white\", \"zerolinewidth\": 2}}}, \"title\": {\"text\": \"Ethereum live share price evolution\"}, \"xaxis\": {\"rangeselector\": {\"buttons\": [{\"count\": 15, \"label\": \"15m\", \"step\": \"minute\", \"stepmode\": \"backward\"}, {\"count\": 45, \"label\": \"45m\", \"step\": \"minute\", \"stepmode\": \"backward\"}, {\"count\": 1, \"label\": \"HTD\", \"step\": \"hour\", \"stepmode\": \"todate\"}, {\"count\": 6, \"label\": \"6h\", \"step\": \"hour\", \"stepmode\": \"backward\"}, {\"step\": \"all\"}]}, \"rangeslider\": {\"visible\": true}}, \"yaxis\": {\"title\": {\"text\": \"Ethereum Price (kUS Dollars)\"}}},\n",
              "                        {\"responsive\": true}\n",
              "                    ).then(function(){\n",
              "                            \n",
              "var gd = document.getElementById('9395b36a-c8f9-4b82-ae0f-a335d52eb0c2');\n",
              "var x = new MutationObserver(function (mutations, observer) {{\n",
              "        var display = window.getComputedStyle(gd).display;\n",
              "        if (!display || display === 'none') {{\n",
              "            console.log([gd, 'removed!']);\n",
              "            Plotly.purge(gd);\n",
              "            observer.disconnect();\n",
              "        }}\n",
              "}});\n",
              "\n",
              "// Listen for the removal of the full notebook cells\n",
              "var notebookContainer = gd.closest('#notebook-container');\n",
              "if (notebookContainer) {{\n",
              "    x.observe(notebookContainer, {childList: true});\n",
              "}}\n",
              "\n",
              "// Listen for the clearing of the current output cell\n",
              "var outputEl = gd.closest('.output');\n",
              "if (outputEl) {{\n",
              "    x.observe(outputEl, {childList: true});\n",
              "}}\n",
              "\n",
              "                        })\n",
              "                };\n",
              "                \n",
              "            </script>\n",
              "        </div>\n",
              "</body>\n",
              "</html>"
            ]
          },
          "metadata": {}
        }
      ]
    },
    {
      "cell_type": "markdown",
      "metadata": {
        "id": "gzNF3n6qbCBM"
      },
      "source": [
        "## Clusterization"
      ]
    },
    {
      "cell_type": "markdown",
      "metadata": {
        "id": "uWuURojDgw_a"
      },
      "source": [
        "1. Cluserization using Kmeans without generated features\n",
        "2. Cluserization using Kmeans with generated features\n",
        "\n",
        "\n",
        "\n"
      ]
    },
    {
      "cell_type": "markdown",
      "source": [
        "### 1. Cluserization using Kmeans without generated features"
      ],
      "metadata": {
        "id": "Gz7PTJWIOGHC"
      }
    },
    {
      "cell_type": "markdown",
      "metadata": {
        "id": "J6mpIc9ZhgIH"
      },
      "source": [
        "Create new dataframe assets_norm with normalized assets"
      ]
    },
    {
      "cell_type": "code",
      "metadata": {
        "id": "BtVfu7hlM3Nw"
      },
      "source": [
        "#assets.notna().idxmax()"
      ],
      "execution_count": 264,
      "outputs": []
    },
    {
      "cell_type": "code",
      "metadata": {
        "id": "112_JhOIBM1G"
      },
      "source": [
        "assets.fillna(0, inplace=True)"
      ],
      "execution_count": 59,
      "outputs": []
    },
    {
      "cell_type": "code",
      "metadata": {
        "id": "IX_HvWlV7YqM"
      },
      "source": [
        "scaled_data = StandardScaler().fit_transform(assets).T"
      ],
      "execution_count": 64,
      "outputs": []
    },
    {
      "cell_type": "markdown",
      "metadata": {
        "id": "nueZe7PIJmT-"
      },
      "source": [
        "Definition of a number of clusters"
      ]
    },
    {
      "cell_type": "markdown",
      "metadata": {
        "id": "W8QjpxiXHcL7"
      },
      "source": [
        "*   Analysis of SSE and silhoette\n",
        "*   Definition of the number of clusters\n",
        "\n"
      ]
    },
    {
      "cell_type": "markdown",
      "metadata": {
        "id": "ra4Ae3F7IMJG"
      },
      "source": [
        "The higher silhouette - the better <br>\n",
        "The lower SSE - the better"
      ]
    },
    {
      "cell_type": "code",
      "metadata": {
        "colab": {
          "base_uri": "https://localhost:8080/",
          "height": 297
        },
        "id": "F7r8CsymOH-k",
        "outputId": "7869c03d-e960-420a-bc0d-3d7dc50f2660"
      },
      "source": [
        "sse = []\n",
        "silhouette = []\n",
        "K = range(2, 11)\n",
        "for k in tqdm(K):\n",
        "    kmeanModel = TimeSeriesKMeans(n_clusters=k, metric='euclidean', init='random', max_iter=300)\n",
        "    kmeanModel.fit(scaled_data)\n",
        "    sse.append(kmeanModel.inertia_)\n",
        "    silhouette.append(silhouette_score(scaled_data, kmeanModel.labels_, metric='euclidean'))\n",
        "\n",
        "fig, ax1 = plt.subplots()\n",
        "ax2 = ax1.twinx()\n",
        "\n",
        "ax1.plot(sse, 'b-')\n",
        "ax2.plot(silhouette, 'r-')\n",
        "\n",
        "ax1.set_xlabel('clusters')\n",
        "ax1.set_ylabel('SSE', color='b')\n",
        "ax2.set_ylabel('Silhouette', color='r')\n",
        "\n",
        "plt.show()"
      ],
      "execution_count": 265,
      "outputs": [
        {
          "output_type": "stream",
          "name": "stderr",
          "text": [
            "100%|██████████| 9/9 [00:00<00:00, 57.23it/s]\n"
          ]
        },
        {
          "output_type": "display_data",
          "data": {
            "image/png": "[encoded data removed]",
            "text/plain": [
              "<Figure size 432x288 with 2 Axes>"
            ]
          },
          "metadata": {
            "needs_background": "light"
          }
        }
      ]
    },
    {
      "cell_type": "markdown",
      "metadata": {
        "id": "XY13jo6EIsfG"
      },
      "source": [
        "Number of clusters chosen: 5"
      ]
    },
    {
      "cell_type": "code",
      "metadata": {
        "colab": {
          "base_uri": "https://localhost:8080/"
        },
        "id": "blx_ZTL-Vig_",
        "outputId": "49783bb2-3c6e-4882-e3db-66afe8a6473a"
      },
      "source": [
        "n_clusters = 5\n",
        "ts_kmeans = TimeSeriesKMeans(n_clusters=n_clusters, metric='euclidean', init='random', max_iter=300)\n",
        "ts_kmeans.fit(scaled_data) #predicting cluster of the assets given "
      ],
      "execution_count": 142,
      "outputs": [
        {
          "output_type": "execute_result",
          "data": {
            "text/plain": [
              "TimeSeriesKMeans(init='random', max_iter=300, n_clusters=5)"
            ]
          },
          "metadata": {},
          "execution_count": 142
        }
      ]
    },
    {
      "cell_type": "markdown",
      "source": [
        "Visualization of cluster centroids"
      ],
      "metadata": {
        "id": "ybOOr3zjOWsi"
      }
    },
    {
      "cell_type": "code",
      "metadata": {
        "colab": {
          "base_uri": "https://localhost:8080/",
          "height": 281
        },
        "id": "_JG9VL55mZOy",
        "outputId": "ccbc55b6-f283-42f7-83d3-c9a371c832f1"
      },
      "source": [
        "for cluster in range(n_clusters):\n",
        "  plt.plot(ts_kmeans.cluster_centers_[cluster, :, 0], label=cluster)\n",
        "plt.title('Cluster centroids')\n",
        "plt.legend()\n",
        "plt.show()"
      ],
      "execution_count": 143,
      "outputs": [
        {
          "output_type": "display_data",
          "data": {
            "image/png": "[encoded data removed]",
            "text/plain": [
              "<Figure size 432x288 with 1 Axes>"
            ]
          },
          "metadata": {
            "needs_background": "light"
          }
        }
      ]
    },
    {
      "cell_type": "markdown",
      "metadata": {
        "id": "HAmmYqhxJWWW"
      },
      "source": [
        "Addition of a column **clusters** to the dataframe assets_transposed"
      ]
    },
    {
      "cell_type": "code",
      "metadata": {
        "id": "McHtP3pPh7Uv"
      },
      "source": [
        "assets_transposed = assets.T"
      ],
      "execution_count": 144,
      "outputs": []
    },
    {
      "cell_type": "code",
      "metadata": {
        "colab": {
          "base_uri": "https://localhost:8080/"
        },
        "id": "ZcfP26onyLF9",
        "outputId": "128e321d-bde7-4608-d063-42994782e344"
      },
      "source": [
        "assets.T['clusters'] = ts_kmeans.predict(scaled_data)"
      ],
      "execution_count": 257,
      "outputs": [
        {
          "output_type": "stream",
          "name": "stderr",
          "text": [
            "/usr/local/lib/python3.7/dist-packages/tslearn/utils/utils.py:89: UserWarning:\n",
            "\n",
            "2-Dimensional data passed. Assuming these are 30 1-dimensional timeseries\n",
            "\n"
          ]
        }
      ]
    },
    {
      "cell_type": "markdown",
      "metadata": {
        "id": "IVd_7PHAJgL4"
      },
      "source": [
        "Cryptos' visualization in the particular cluster"
      ]
    },
    {
      "cell_type": "code",
      "metadata": {
        "id": "rOBxx-s93dOz"
      },
      "source": [
        "#visualize_cluster(4, assets_transposed)"
      ],
      "execution_count": 258,
      "outputs": []
    },
    {
      "cell_type": "markdown",
      "metadata": {
        "id": "TyZh7Y935QQP"
      },
      "source": [
        "### 2. Cluserization using Kmeans with generated features"
      ]
    },
    {
      "cell_type": "markdown",
      "source": [
        "Normalization of assets <br> $z=\\frac{(x_i - \\overline {x})} {σ}$\n"
      ],
      "metadata": {
        "id": "g72c5Cc_0lwV"
      }
    },
    {
      "cell_type": "code",
      "source": [
        "norm_assets = assets.copy()"
      ],
      "metadata": {
        "id": "O3sBxC5EmF01"
      },
      "execution_count": 121,
      "outputs": []
    },
    {
      "cell_type": "code",
      "source": [
        "for column_ in norm_assets.columns:\n",
        "  for i in range(norm_assets.shape[0]):\n",
        "      norm_assets[column_][i] = (norm_assets[column_][i] - np.nanmean(norm_assets[column_])) / np.std(norm_assets[column_])"
      ],
      "metadata": {
        "id": "2mOJDH--nMdY"
      },
      "execution_count": 122,
      "outputs": []
    },
    {
      "cell_type": "code",
      "source": [
        "norm_assets_tr = norm_assets.T.copy()"
      ],
      "metadata": {
        "id": "6N6Y_1VTaXC4"
      },
      "execution_count": 123,
      "outputs": []
    },
    {
      "cell_type": "code",
      "source": [
        "norm_assets_tr['crypto'] = norm_assets_tr.index"
      ],
      "metadata": {
        "id": "TOITj875WvJT"
      },
      "execution_count": 124,
      "outputs": []
    },
    {
      "cell_type": "code",
      "source": [
        "assets_tr = assets.T.copy()"
      ],
      "metadata": {
        "id": "nNjZS-S9zkWR"
      },
      "execution_count": 146,
      "outputs": []
    },
    {
      "cell_type": "markdown",
      "source": [
        "Addition of relevant parameters"
      ],
      "metadata": {
        "id": "FwMAhVfvK5C9"
      }
    },
    {
      "cell_type": "code",
      "source": [
        "settings_efficient = settings.TimeBasedFCParameters()\n",
        "settings_efficient.update(settings.MinimalFCParameters())\n",
        "settings_efficient.update(settings.IndexBasedFCParameters())\n"
      ],
      "metadata": {
        "id": "1Cwo0pI7zRdF"
      },
      "execution_count": 125,
      "outputs": []
    },
    {
      "cell_type": "markdown",
      "source": [
        "Feature generation "
      ],
      "metadata": {
        "id": "-FGEk-__NZjc"
      }
    },
    {
      "cell_type": "code",
      "source": [
        "EXTRACT = True\n",
        "\n",
        "if EXTRACT:\n",
        "    x_norm = extract_features(norm_assets_tr, settings_efficient, column_id='crypto')\n",
        " # column_id=norm_assets_tr.index)\n",
        "    x_norm.to_csv('X_train_tsfel_norm.csv')\n",
        "else:\n",
        "    x_norm = pd.read_csv('X_train_tsfel_norm.csv', index_col=0)\n",
        "\n",
        "x_norm.shape\n"
      ],
      "metadata": {
        "colab": {
          "base_uri": "https://localhost:8080/"
        },
        "id": "ptgZiTqm0oV5",
        "outputId": "e762efdb-e82d-460e-c4c5-9a76344c41ca"
      },
      "execution_count": 158,
      "outputs": [
        {
          "output_type": "stream",
          "name": "stderr",
          "text": [
            "Feature Extraction: 100%|██████████| 5/5 [00:18<00:00,  3.72s/it]\n"
          ]
        },
        {
          "output_type": "execute_result",
          "data": {
            "text/plain": [
              "(30, 3924)"
            ]
          },
          "metadata": {},
          "execution_count": 158
        }
      ]
    },
    {
      "cell_type": "markdown",
      "source": [
        "3924 features were generated <br>\n",
        "\n",
        "Tasks:\n",
        "*   Drop NaN  \n",
        "*   Drop duplicate columns \n",
        "*   Drop columns with the opposite sign\n"
      ],
      "metadata": {
        "id": "RIfvzZYoNeFd"
      }
    },
    {
      "cell_type": "markdown",
      "source": [
        "\n",
        "\n",
        "*   Drop NaN\n",
        "\n",
        "\n"
      ],
      "metadata": {
        "id": "amlSLa25JDk1"
      }
    },
    {
      "cell_type": "code",
      "source": [
        "x_norm.dropna(inplace=True, axis=1)"
      ],
      "metadata": {
        "id": "tE9jIHgS3WfD"
      },
      "execution_count": 159,
      "outputs": []
    },
    {
      "cell_type": "code",
      "source": [
        "x_norm.shape"
      ],
      "metadata": {
        "colab": {
          "base_uri": "https://localhost:8080/"
        },
        "id": "pZ2q_60c4Fen",
        "outputId": "dbe35157-4b90-4c29-8714-e3fc02501d44"
      },
      "execution_count": 197,
      "outputs": [
        {
          "output_type": "execute_result",
          "data": {
            "text/plain": [
              "(30, 3270)"
            ]
          },
          "metadata": {},
          "execution_count": 197
        }
      ]
    },
    {
      "cell_type": "markdown",
      "source": [
        "*   Drop duplicates: their corr = 1 \n",
        "*   Drop columns with the opposite sign: their corr = -1 \n",
        "\n"
      ],
      "metadata": {
        "id": "JQ1_PBFY-kwn"
      }
    },
    {
      "cell_type": "code",
      "source": [
        "x_red = x_norm.T.drop_duplicates(ignore_index=True).T"
      ],
      "metadata": {
        "id": "Ly70djTtAbkL"
      },
      "execution_count": 198,
      "outputs": []
    },
    {
      "cell_type": "code",
      "source": [
        "x_red_pos = x_red[(x_red > 0)].dropna(axis=1)"
      ],
      "metadata": {
        "id": "LK2SqbjVALPP"
      },
      "execution_count": 228,
      "outputs": []
    },
    {
      "cell_type": "markdown",
      "source": [
        "There are 329 generated features without duplicates and NaN"
      ],
      "metadata": {
        "id": "qLGIO8MYKF0f"
      }
    },
    {
      "cell_type": "markdown",
      "source": [
        "Features with a variance lower than the threshold are removed"
      ],
      "metadata": {
        "id": "0Tf0i_3S_ZkM"
      }
    },
    {
      "cell_type": "code",
      "source": [
        "selector = VarianceThreshold()\n",
        "X_reduced_pos = selector.fit_transform(x_red_pos)\n"
      ],
      "metadata": {
        "id": "kjF4UdVLAuMB"
      },
      "execution_count": 218,
      "outputs": []
    },
    {
      "cell_type": "markdown",
      "source": [
        "327 features left"
      ],
      "metadata": {
        "id": "MmpRLawgKNJA"
      }
    },
    {
      "cell_type": "code",
      "source": [
        "X_reduced_pos.shape"
      ],
      "metadata": {
        "colab": {
          "base_uri": "https://localhost:8080/"
        },
        "id": "MCsqO79jAxQ3",
        "outputId": "e421e3c2-89dc-430a-cd2a-750c96713408"
      },
      "execution_count": 262,
      "outputs": [
        {
          "output_type": "execute_result",
          "data": {
            "text/plain": [
              "(30, 327)"
            ]
          },
          "metadata": {},
          "execution_count": 262
        }
      ]
    },
    {
      "cell_type": "markdown",
      "source": [
        "*   Analysis of SSE and silhoette\n",
        "*   Definition of the number of clusters\n"
      ],
      "metadata": {
        "id": "SBI51-FQNUqo"
      }
    },
    {
      "cell_type": "code",
      "source": [
        "sse = []\n",
        "silhouette = []\n",
        "K = range(2, 11)\n",
        "for k in tqdm(K):\n",
        "    kmeanModel = TimeSeriesKMeans(n_clusters=k, metric='euclidean', init='random', max_iter=300)\n",
        "    kmeanModel.fit(X_reduced_pos)\n",
        "    sse.append(kmeanModel.inertia_)\n",
        "    silhouette.append(silhouette_score(X_reduced_pos, kmeanModel.labels_, metric='euclidean'))\n",
        "\n",
        "fig, ax1 = plt.subplots()\n",
        "ax2 = ax1.twinx()\n",
        "\n",
        "ax1.plot(sse, 'b-')\n",
        "ax2.plot(silhouette, 'r-')\n",
        "\n",
        "ax1.set_xlabel('clusters')\n",
        "ax1.set_ylabel('SSE', color='b')\n",
        "ax2.set_ylabel('Silhouette', color='r')\n",
        "\n",
        "plt.show()\n"
      ],
      "metadata": {
        "colab": {
          "base_uri": "https://localhost:8080/",
          "height": 296
        },
        "id": "4d5OQpfGA0Uh",
        "outputId": "31ea96bd-87d3-460c-9d8e-ed0dda2be200"
      },
      "execution_count": 238,
      "outputs": [
        {
          "output_type": "stream",
          "name": "stderr",
          "text": [
            "100%|██████████| 9/9 [00:00<00:00, 58.37it/s]\n"
          ]
        },
        {
          "output_type": "display_data",
          "data": {
            "image/png": "[encoded data removed]",
            "text/plain": [
              "<Figure size 432x288 with 2 Axes>"
            ]
          },
          "metadata": {
            "needs_background": "light"
          }
        }
      ]
    },
    {
      "cell_type": "markdown",
      "source": [
        "Number of clusters = 6"
      ],
      "metadata": {
        "id": "PFc3xOdYKQN_"
      }
    },
    {
      "cell_type": "code",
      "source": [
        "n_clusters = 6\n",
        "ts_kmeans = TimeSeriesKMeans(n_clusters=n_clusters, metric='euclidean', init='random', max_iter=300)\n",
        "ts_kmeans.fit(X_reduced_pos) #predicting cluster of the assets given \n",
        "\n",
        "for cluster in range(n_clusters):\n",
        "  plt.plot(ts_kmeans.cluster_centers_[cluster, :, 0], label=cluster)\n",
        "plt.title('Cluster centroids')\n",
        "plt.legend()\n",
        "plt.show()"
      ],
      "metadata": {
        "colab": {
          "base_uri": "https://localhost:8080/",
          "height": 281
        },
        "id": "NA6r1fFUA7D4",
        "outputId": "c9bd7cc5-d0dd-49d5-dd92-c105f2126e9b"
      },
      "execution_count": 239,
      "outputs": [
        {
          "output_type": "display_data",
          "data": {
            "image/png": "[encoded data removed]",
            "text/plain": [
              "<Figure size 432x288 with 1 Axes>"
            ]
          },
          "metadata": {
            "needs_background": "light"
          }
        }
      ]
    },
    {
      "cell_type": "markdown",
      "source": [
        "Addition of a column **crypto** with predicted classes to **assets_features_pos** dataframe"
      ],
      "metadata": {
        "id": "ZP9JnIJyMbJr"
      }
    },
    {
      "cell_type": "code",
      "source": [
        "x_red_pos['clusters'] = ts_kmeans.predict(X_reduced_pos)\n",
        "assets_features_pos = assets_tr.join(x_red_pos[['clusters']])"
      ],
      "metadata": {
        "colab": {
          "base_uri": "https://localhost:8080/"
        },
        "id": "5ZQHeU6fBBCW",
        "outputId": "2fe1ece0-bf9e-455c-b251-7858245b1b56"
      },
      "execution_count": 241,
      "outputs": [
        {
          "output_type": "stream",
          "name": "stderr",
          "text": [
            "/usr/local/lib/python3.7/dist-packages/tslearn/utils/utils.py:89: UserWarning:\n",
            "\n",
            "2-Dimensional data passed. Assuming these are 30 1-dimensional timeseries\n",
            "\n"
          ]
        }
      ]
    },
    {
      "cell_type": "markdown",
      "source": [
        "Visualization of the clusterization with generated features"
      ],
      "metadata": {
        "id": "WEgRyZiiKVRE"
      }
    },
    {
      "cell_type": "code",
      "source": [
        "#visualize_cluster(4, assets_features_pos)"
      ],
      "metadata": {
        "id": "V-T-jBsQISE3"
      },
      "execution_count": 259,
      "outputs": []
    },
    {
      "cell_type": "markdown",
      "source": [
        "## Forecasting"
      ],
      "metadata": {
        "id": "JtwMbayHJDc7"
      }
    },
    {
      "cell_type": "code",
      "source": [
        "assets_tr_ = assets.T.copy()"
      ],
      "metadata": {
        "id": "5cU_q_gzPvLF"
      },
      "execution_count": 151,
      "outputs": []
    },
    {
      "cell_type": "markdown",
      "source": [
        "Create a function to predict certain crypto"
      ],
      "metadata": {
        "id": "egoM1hKZPDfX"
      }
    },
    {
      "cell_type": "code",
      "source": [
        "def crypto_prediction(crypto_ticker, start='2021-11-01 00:00:00', end='2021-12-31 00:00:00'):\n",
        "\n",
        "    mod = ARIMA(assets_tr_.loc[crypto_ticker, :], order=(1,0, 0), freq='D')\n",
        "    res = mod.fit()\n",
        "    pred = res.predict(start=start, end=end)\n",
        "\n",
        "    plt.plot(assets_tr_.loc[crypto_ticker, '2021-10-01 00:00:00':])\n",
        "\n",
        "    plt.plot(pred)\n",
        "    plt.xticks(rotation=45)\n",
        "\n",
        "    plt.show()\n"
      ],
      "metadata": {
        "id": "SYvEmdfHNwVU"
      },
      "execution_count": 156,
      "outputs": []
    },
    {
      "cell_type": "code",
      "source": [
        "crypto_prediction('BTC-USD')"
      ],
      "metadata": {
        "colab": {
          "base_uri": "https://localhost:8080/",
          "height": 373
        },
        "id": "4Ll26nucOJoK",
        "outputId": "1a42b2f3-fd2e-47d9-cb04-4849db344b19"
      },
      "execution_count": 157,
      "outputs": [
        {
          "output_type": "stream",
          "name": "stderr",
          "text": [
            "/usr/local/lib/python3.7/dist-packages/statsmodels/tsa/base/tsa_model.py:162: ValueWarning:\n",
            "\n",
            "No frequency information was provided, so inferred frequency D will be used.\n",
            "\n"
          ]
        },
        {
          "output_type": "display_data",
          "data": {
            "image/png": "[encoded data removed]",
            "text/plain": [
              "<Figure size 432x288 with 1 Axes>"
            ]
          },
          "metadata": {
            "needs_background": "light"
          }
        }
      ]
    },
    {
      "cell_type": "code",
      "source": [
        ""
      ],
      "metadata": {
        "id": "v23ttft70L3m"
      },
      "execution_count": null,
      "outputs": []
    }
  ]
}