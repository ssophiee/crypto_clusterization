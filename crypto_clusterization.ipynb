{
  "nbformat": 4,
  "nbformat_minor": 0,
  "metadata": {
    "colab": {
      "name": "crypto_clusterization.ipynb",
      "provenance": [],
      "collapsed_sections": [
        "BbybyOJRIwP2",
        "8lmrglzG21Kc",
        "0A9ryvbn3PnU",
        "14VDrRodIIT4",
        "gzNF3n6qbCBM",
        "Gz7PTJWIOGHC",
        "TyZh7Y935QQP"
      ]
    },
    "kernelspec": {
      "name": "python3",
      "display_name": "Python 3"
    },
    "language_info": {
      "name": "python"
    }
  },
  "cells": [
    {
      "cell_type": "markdown",
      "metadata": {
        "id": "BbybyOJRIwP2"
      },
      "source": [
        "## Libraries"
      ]
    },
    {
      "cell_type": "code",
      "source": [
        "# !pip install -r \"requirements.txt\""
      ],
      "metadata": {
        "id": "13bKG8JWOEE5"
      },
      "execution_count": 130,
      "outputs": []
    },
    {
      "cell_type": "code",
      "metadata": {
        "id": "hfZdVyuF0ltZ"
      },
      "source": [
        "import stumpy\n",
        "\n",
        "import plotly.graph_objs as go\n",
        "\n",
        "import yfinance as yf\n",
        "\n",
        "import pandas as pd\n",
        "import numpy as np\n",
        "\n",
        "import datetime  \n",
        "\n",
        "import matplotlib.pyplot as plt\n",
        "\n",
        "import seaborn as sns\n",
        "\n",
        "import tqdm\n",
        "from tqdm import tqdm\n",
        "import tslearn\n",
        "\n",
        "from tslearn.clustering import TimeSeriesKMeans, silhouette_score\n",
        "from sklearn.cluster import KMeans\n",
        "from sklearn.preprocessing import StandardScaler\n",
        "\n",
        "\n",
        "import tsfresh\n",
        "from tsfresh import extract_features, extract_relevant_features, select_features, feature_extraction\n",
        "from tsfresh.feature_extraction import settings\n",
        "\n",
        "from sklearn.feature_selection import VarianceThreshold"
      ],
      "execution_count": 13,
      "outputs": []
    },
    {
      "cell_type": "code",
      "source": [
        "import stocks"
      ],
      "metadata": {
        "id": "yfCsTlArNiWk"
      },
      "execution_count": 14,
      "outputs": []
    },
    {
      "cell_type": "code",
      "source": [
        "from stocks import * "
      ],
      "metadata": {
        "id": "IHMcqSv1NkQk"
      },
      "execution_count": 15,
      "outputs": []
    },
    {
      "cell_type": "markdown",
      "metadata": {
        "id": "8lmrglzG21Kc"
      },
      "source": [
        "## Crypto Analysis"
      ]
    },
    {
      "cell_type": "markdown",
      "metadata": {
        "id": "-CG8T5GxJyqR"
      },
      "source": [
        "Top cryptos by market cap were selected [09/07/2022]\n",
        "source: [yahoo-finance watchlist](https://finance.yahoo.com/u/yahoo-finance/watchlists/crypto-top-market-cap/)"
      ]
    },
    {
      "cell_type": "code",
      "source": [
        "html_df = pd.read_html('/content/stocks_data.html')[1]"
      ],
      "metadata": {
        "id": "-FcR2N7EZ0JW"
      },
      "execution_count": 16,
      "outputs": []
    },
    {
      "cell_type": "code",
      "source": [
        "cryptos = list(html_df['Symbol'])"
      ],
      "metadata": {
        "id": "GGxLO_Q4Z5CO"
      },
      "execution_count": 17,
      "outputs": []
    },
    {
      "cell_type": "markdown",
      "metadata": {
        "id": "0A9ryvbn3PnU"
      },
      "source": [
        "## DataFrame with closing prices of cryptos"
      ]
    },
    {
      "cell_type": "code",
      "source": [
        "start = datetime.datetime(2021, 1, 10)\n",
        "end = datetime.datetime(2022, 7, 8)\n",
        "\n",
        "assets = pd.DataFrame()\n",
        "for i in cryptos:\n",
        "  assets[i] = yf.download(i, start=start, end=end)['Close']"
      ],
      "metadata": {
        "id": "BYGn6QH7aoD2",
        "colab": {
          "base_uri": "https://localhost:8080/"
        },
        "outputId": "98c5c765-72e8-41b5-8d15-ea94dc2f1717"
      },
      "execution_count": 20,
      "outputs": [
        {
          "output_type": "stream",
          "name": "stdout",
          "text": [
            "[*********************100%***********************]  1 of 1 completed\n",
            "[*********************100%***********************]  1 of 1 completed\n",
            "[*********************100%***********************]  1 of 1 completed\n",
            "[*********************100%***********************]  1 of 1 completed\n",
            "[*********************100%***********************]  1 of 1 completed\n",
            "[*********************100%***********************]  1 of 1 completed\n",
            "[*********************100%***********************]  1 of 1 completed\n",
            "[*********************100%***********************]  1 of 1 completed\n",
            "[*********************100%***********************]  1 of 1 completed\n",
            "[*********************100%***********************]  1 of 1 completed\n",
            "[*********************100%***********************]  1 of 1 completed\n",
            "[*********************100%***********************]  1 of 1 completed\n",
            "[*********************100%***********************]  1 of 1 completed\n",
            "[*********************100%***********************]  1 of 1 completed\n",
            "[*********************100%***********************]  1 of 1 completed\n",
            "[*********************100%***********************]  1 of 1 completed\n",
            "[*********************100%***********************]  1 of 1 completed\n",
            "[*********************100%***********************]  1 of 1 completed\n",
            "[*********************100%***********************]  1 of 1 completed\n",
            "[*********************100%***********************]  1 of 1 completed\n",
            "[*********************100%***********************]  1 of 1 completed\n",
            "[*********************100%***********************]  1 of 1 completed\n",
            "[*********************100%***********************]  1 of 1 completed\n",
            "[*********************100%***********************]  1 of 1 completed\n",
            "[*********************100%***********************]  1 of 1 completed\n",
            "[*********************100%***********************]  1 of 1 completed\n",
            "[*********************100%***********************]  1 of 1 completed\n",
            "[*********************100%***********************]  1 of 1 completed\n",
            "[*********************100%***********************]  1 of 1 completed\n",
            "[*********************100%***********************]  1 of 1 completed\n"
          ]
        }
      ]
    },
    {
      "cell_type": "code",
      "metadata": {
        "colab": {
          "base_uri": "https://localhost:8080/",
          "height": 435
        },
        "id": "Vwycgf-KIHvg",
        "outputId": "d25a794a-fa09-4947-b94d-b1c8e0de397c"
      },
      "source": [
        "assets.tail()"
      ],
      "execution_count": 21,
      "outputs": [
        {
          "output_type": "execute_result",
          "data": {
            "text/plain": [
              "                 BTC-USD      ETH-USD  USDT-USD  USDC-USD     BNB-USD  \\\n",
              "Date                                                                    \n",
              "2022-07-04  20231.261719  1151.059082  0.999109  1.000306  231.574127   \n",
              "2022-07-05  20190.115234  1134.541016  0.999092  1.000053  230.846359   \n",
              "2022-07-06  20548.246094  1186.973999  0.999098  0.999879  238.499939   \n",
              "2022-07-07  21637.587891  1237.593384  0.999446  1.000092  241.544510   \n",
              "2022-07-08  21731.117188  1222.506226  0.999418  0.999778  240.750717   \n",
              "\n",
              "            BUSD-USD   XRP-USD   ADA-USD    SOL-USD  DOGE-USD  ...  UNI1-USD  \\\n",
              "Date                                                           ...             \n",
              "2022-07-04  1.000192  0.328790  0.469644  36.785030  0.069472  ...  5.297554   \n",
              "2022-07-05  1.000336  0.325423  0.457632  35.395554  0.067155  ...  5.309924   \n",
              "2022-07-06  1.000704  0.332272  0.462179  37.073563  0.068583  ...  5.354458   \n",
              "2022-07-07  1.000794  0.342151  0.477812  38.518307  0.070621  ...  5.737151   \n",
              "2022-07-08  0.999748  0.341628  0.467311  38.286720  0.069257  ...  5.808081   \n",
              "\n",
              "            YOUC-USD    STETH-USD    FTT-USD    LTC-USD   CRO-USD  LINK-USD  \\\n",
              "Date                                                                          \n",
              "2022-07-04  0.510532  1117.432861  25.922417  52.243816  0.118540  6.431877   \n",
              "2022-07-05  0.510524  1099.648071  25.191893  49.830593  0.116131  6.321958   \n",
              "2022-07-06  0.510527  1154.847534  26.265272  50.361088  0.119578  6.338929   \n",
              "2022-07-07  0.510739  1206.625610  27.459190  52.142895  0.123488  6.641354   \n",
              "2022-07-08  0.510725  1187.248169  27.465851  51.564953  0.122918  6.379156   \n",
              "\n",
              "             XLM-USD  NEAR-USD  ATOM-USD  \n",
              "Date                                      \n",
              "2022-07-04  0.111184  3.533401  8.764914  \n",
              "2022-07-05  0.108071  3.398874  8.974499  \n",
              "2022-07-06  0.109371  3.500298  8.908925  \n",
              "2022-07-07  0.113955  3.711768  9.373816  \n",
              "2022-07-08  0.113324  3.598515  9.032530  \n",
              "\n",
              "[5 rows x 30 columns]"
            ],
            "text/html": [
              "\n",
              "  <div id=\"df-583b82a0-9131-46f4-9d1b-cd5fe4f1317d\">\n",
              "    <div class=\"colab-df-container\">\n",
              "      <div>\n",
              "<style scoped>\n",
              "    .dataframe tbody tr th:only-of-type {\n",
              "        vertical-align: middle;\n",
              "    }\n",
              "\n",
              "    .dataframe tbody tr th {\n",
              "        vertical-align: top;\n",
              "    }\n",
              "\n",
              "    .dataframe thead th {\n",
              "        text-align: right;\n",
              "    }\n",
              "</style>\n",
              "<table border=\"1\" class=\"dataframe\">\n",
              "  <thead>\n",
              "    <tr style=\"text-align: right;\">\n",
              "      <th></th>\n",
              "      <th>BTC-USD</th>\n",
              "      <th>ETH-USD</th>\n",
              "      <th>USDT-USD</th>\n",
              "      <th>USDC-USD</th>\n",
              "      <th>BNB-USD</th>\n",
              "      <th>BUSD-USD</th>\n",
              "      <th>XRP-USD</th>\n",
              "      <th>ADA-USD</th>\n",
              "      <th>SOL-USD</th>\n",
              "      <th>DOGE-USD</th>\n",
              "      <th>...</th>\n",
              "      <th>UNI1-USD</th>\n",
              "      <th>YOUC-USD</th>\n",
              "      <th>STETH-USD</th>\n",
              "      <th>FTT-USD</th>\n",
              "      <th>LTC-USD</th>\n",
              "      <th>CRO-USD</th>\n",
              "      <th>LINK-USD</th>\n",
              "      <th>XLM-USD</th>\n",
              "      <th>NEAR-USD</th>\n",
              "      <th>ATOM-USD</th>\n",
              "    </tr>\n",
              "    <tr>\n",
              "      <th>Date</th>\n",
              "      <th></th>\n",
              "      <th></th>\n",
              "      <th></th>\n",
              "      <th></th>\n",
              "      <th></th>\n",
              "      <th></th>\n",
              "      <th></th>\n",
              "      <th></th>\n",
              "      <th></th>\n",
              "      <th></th>\n",
              "      <th></th>\n",
              "      <th></th>\n",
              "      <th></th>\n",
              "      <th></th>\n",
              "      <th></th>\n",
              "      <th></th>\n",
              "      <th></th>\n",
              "      <th></th>\n",
              "      <th></th>\n",
              "      <th></th>\n",
              "      <th></th>\n",
              "    </tr>\n",
              "  </thead>\n",
              "  <tbody>\n",
              "    <tr>\n",
              "      <th>2022-07-04</th>\n",
              "      <td>20231.261719</td>\n",
              "      <td>1151.059082</td>\n",
              "      <td>0.999109</td>\n",
              "      <td>1.000306</td>\n",
              "      <td>231.574127</td>\n",
              "      <td>1.000192</td>\n",
              "      <td>0.328790</td>\n",
              "      <td>0.469644</td>\n",
              "      <td>36.785030</td>\n",
              "      <td>0.069472</td>\n",
              "      <td>...</td>\n",
              "      <td>5.297554</td>\n",
              "      <td>0.510532</td>\n",
              "      <td>1117.432861</td>\n",
              "      <td>25.922417</td>\n",
              "      <td>52.243816</td>\n",
              "      <td>0.118540</td>\n",
              "      <td>6.431877</td>\n",
              "      <td>0.111184</td>\n",
              "      <td>3.533401</td>\n",
              "      <td>8.764914</td>\n",
              "    </tr>\n",
              "    <tr>\n",
              "      <th>2022-07-05</th>\n",
              "      <td>20190.115234</td>\n",
              "      <td>1134.541016</td>\n",
              "      <td>0.999092</td>\n",
              "      <td>1.000053</td>\n",
              "      <td>230.846359</td>\n",
              "      <td>1.000336</td>\n",
              "      <td>0.325423</td>\n",
              "      <td>0.457632</td>\n",
              "      <td>35.395554</td>\n",
              "      <td>0.067155</td>\n",
              "      <td>...</td>\n",
              "      <td>5.309924</td>\n",
              "      <td>0.510524</td>\n",
              "      <td>1099.648071</td>\n",
              "      <td>25.191893</td>\n",
              "      <td>49.830593</td>\n",
              "      <td>0.116131</td>\n",
              "      <td>6.321958</td>\n",
              "      <td>0.108071</td>\n",
              "      <td>3.398874</td>\n",
              "      <td>8.974499</td>\n",
              "    </tr>\n",
              "    <tr>\n",
              "      <th>2022-07-06</th>\n",
              "      <td>20548.246094</td>\n",
              "      <td>1186.973999</td>\n",
              "      <td>0.999098</td>\n",
              "      <td>0.999879</td>\n",
              "      <td>238.499939</td>\n",
              "      <td>1.000704</td>\n",
              "      <td>0.332272</td>\n",
              "      <td>0.462179</td>\n",
              "      <td>37.073563</td>\n",
              "      <td>0.068583</td>\n",
              "      <td>...</td>\n",
              "      <td>5.354458</td>\n",
              "      <td>0.510527</td>\n",
              "      <td>1154.847534</td>\n",
              "      <td>26.265272</td>\n",
              "      <td>50.361088</td>\n",
              "      <td>0.119578</td>\n",
              "      <td>6.338929</td>\n",
              "      <td>0.109371</td>\n",
              "      <td>3.500298</td>\n",
              "      <td>8.908925</td>\n",
              "    </tr>\n",
              "    <tr>\n",
              "      <th>2022-07-07</th>\n",
              "      <td>21637.587891</td>\n",
              "      <td>1237.593384</td>\n",
              "      <td>0.999446</td>\n",
              "      <td>1.000092</td>\n",
              "      <td>241.544510</td>\n",
              "      <td>1.000794</td>\n",
              "      <td>0.342151</td>\n",
              "      <td>0.477812</td>\n",
              "      <td>38.518307</td>\n",
              "      <td>0.070621</td>\n",
              "      <td>...</td>\n",
              "      <td>5.737151</td>\n",
              "      <td>0.510739</td>\n",
              "      <td>1206.625610</td>\n",
              "      <td>27.459190</td>\n",
              "      <td>52.142895</td>\n",
              "      <td>0.123488</td>\n",
              "      <td>6.641354</td>\n",
              "      <td>0.113955</td>\n",
              "      <td>3.711768</td>\n",
              "      <td>9.373816</td>\n",
              "    </tr>\n",
              "    <tr>\n",
              "      <th>2022-07-08</th>\n",
              "      <td>21731.117188</td>\n",
              "      <td>1222.506226</td>\n",
              "      <td>0.999418</td>\n",
              "      <td>0.999778</td>\n",
              "      <td>240.750717</td>\n",
              "      <td>0.999748</td>\n",
              "      <td>0.341628</td>\n",
              "      <td>0.467311</td>\n",
              "      <td>38.286720</td>\n",
              "      <td>0.069257</td>\n",
              "      <td>...</td>\n",
              "      <td>5.808081</td>\n",
              "      <td>0.510725</td>\n",
              "      <td>1187.248169</td>\n",
              "      <td>27.465851</td>\n",
              "      <td>51.564953</td>\n",
              "      <td>0.122918</td>\n",
              "      <td>6.379156</td>\n",
              "      <td>0.113324</td>\n",
              "      <td>3.598515</td>\n",
              "      <td>9.032530</td>\n",
              "    </tr>\n",
              "  </tbody>\n",
              "</table>\n",
              "<p>5 rows × 30 columns</p>\n",
              "</div>\n",
              "      <button class=\"colab-df-convert\" onclick=\"convertToInteractive('df-583b82a0-9131-46f4-9d1b-cd5fe4f1317d')\"\n",
              "              title=\"Convert this dataframe to an interactive table.\"\n",
              "              style=\"display:none;\">\n",
              "        \n",
              "  <svg xmlns=\"http://www.w3.org/2000/svg\" height=\"24px\"viewBox=\"0 0 24 24\"\n",
              "       width=\"24px\">\n",
              "    <path d=\"M0 0h24v24H0V0z\" fill=\"none\"/>\n",
              "    <path d=\"M18.56 5.44l.94 2.06.94-2.06 2.06-.94-2.06-.94-.94-2.06-.94 2.06-2.06.94zm-11 1L8.5 8.5l.94-2.06 2.06-.94-2.06-.94L8.5 2.5l-.94 2.06-2.06.94zm10 10l.94 2.06.94-2.06 2.06-.94-2.06-.94-.94-2.06-.94 2.06-2.06.94z\"/><path d=\"M17.41 7.96l-1.37-1.37c-.4-.4-.92-.59-1.43-.59-.52 0-1.04.2-1.43.59L10.3 9.45l-7.72 7.72c-.78.78-.78 2.05 0 2.83L4 21.41c.39.39.9.59 1.41.59.51 0 1.02-.2 1.41-.59l7.78-7.78 2.81-2.81c.8-.78.8-2.07 0-2.86zM5.41 20L4 18.59l7.72-7.72 1.47 1.35L5.41 20z\"/>\n",
              "  </svg>\n",
              "      </button>\n",
              "      \n",
              "  <style>\n",
              "    .colab-df-container {\n",
              "      display:flex;\n",
              "      flex-wrap:wrap;\n",
              "      gap: 12px;\n",
              "    }\n",
              "\n",
              "    .colab-df-convert {\n",
              "      background-color: #E8F0FE;\n",
              "      border: none;\n",
              "      border-radius: 50%;\n",
              "      cursor: pointer;\n",
              "      display: none;\n",
              "      fill: #1967D2;\n",
              "      height: 32px;\n",
              "      padding: 0 0 0 0;\n",
              "      width: 32px;\n",
              "    }\n",
              "\n",
              "    .colab-df-convert:hover {\n",
              "      background-color: #E2EBFA;\n",
              "      box-shadow: 0px 1px 2px rgba(60, 64, 67, 0.3), 0px 1px 3px 1px rgba(60, 64, 67, 0.15);\n",
              "      fill: #174EA6;\n",
              "    }\n",
              "\n",
              "    [theme=dark] .colab-df-convert {\n",
              "      background-color: #3B4455;\n",
              "      fill: #D2E3FC;\n",
              "    }\n",
              "\n",
              "    [theme=dark] .colab-df-convert:hover {\n",
              "      background-color: #434B5C;\n",
              "      box-shadow: 0px 1px 3px 1px rgba(0, 0, 0, 0.15);\n",
              "      filter: drop-shadow(0px 1px 2px rgba(0, 0, 0, 0.3));\n",
              "      fill: #FFFFFF;\n",
              "    }\n",
              "  </style>\n",
              "\n",
              "      <script>\n",
              "        const buttonEl =\n",
              "          document.querySelector('#df-583b82a0-9131-46f4-9d1b-cd5fe4f1317d button.colab-df-convert');\n",
              "        buttonEl.style.display =\n",
              "          google.colab.kernel.accessAllowed ? 'block' : 'none';\n",
              "\n",
              "        async function convertToInteractive(key) {\n",
              "          const element = document.querySelector('#df-583b82a0-9131-46f4-9d1b-cd5fe4f1317d');\n",
              "          const dataTable =\n",
              "            await google.colab.kernel.invokeFunction('convertToInteractive',\n",
              "                                                     [key], {});\n",
              "          if (!dataTable) return;\n",
              "\n",
              "          const docLinkHtml = 'Like what you see? Visit the ' +\n",
              "            '<a target=\"_blank\" href=https://colab.research.google.com/notebooks/data_table.ipynb>data table notebook</a>'\n",
              "            + ' to learn more about interactive tables.';\n",
              "          element.innerHTML = '';\n",
              "          dataTable['output_type'] = 'display_data';\n",
              "          await google.colab.output.renderOutput(dataTable, element);\n",
              "          const docLink = document.createElement('div');\n",
              "          docLink.innerHTML = docLinkHtml;\n",
              "          element.appendChild(docLink);\n",
              "        }\n",
              "      </script>\n",
              "    </div>\n",
              "  </div>\n",
              "  "
            ]
          },
          "metadata": {},
          "execution_count": 21
        }
      ]
    },
    {
      "cell_type": "markdown",
      "metadata": {
        "id": "14VDrRodIIT4"
      },
      "source": [
        "## Examples"
      ]
    },
    {
      "cell_type": "markdown",
      "metadata": {
        "id": "pD3cVOBiI_0q"
      },
      "source": [
        "**Crypto_info() function** "
      ]
    },
    {
      "cell_type": "code",
      "metadata": {
        "colab": {
          "base_uri": "https://localhost:8080/",
          "height": 255
        },
        "id": "Lo-MZXj_4NJG",
        "outputId": "dd9c89ca-bced-4720-e88c-cd870ae0a89f"
      },
      "source": [
        "crypto_info('ETH-USD').tail()"
      ],
      "execution_count": 22,
      "outputs": [
        {
          "output_type": "stream",
          "name": "stdout",
          "text": [
            "\r[*********************100%***********************]  1 of 1 completed\n"
          ]
        },
        {
          "output_type": "execute_result",
          "data": {
            "text/plain": [
              "                   Open         High          Low        Close    Adj Close  \\\n",
              "Date                                                                          \n",
              "2021-11-10  4733.362793  4859.502930  4485.093262  4636.174316  4636.174316   \n",
              "2021-11-11  4635.453613  4778.059082  4580.990234  4730.384277  4730.384277   \n",
              "2021-11-12  4724.306641  4808.738770  4510.920410  4667.115234  4667.115234   \n",
              "2021-11-13  4666.719238  4702.115234  4582.180664  4651.460449  4651.460449   \n",
              "2021-11-14  4648.632812  4689.842773  4516.935547  4626.358887  4626.358887   \n",
              "\n",
              "                 Volume  \n",
              "Date                     \n",
              "2021-11-10  22748160545  \n",
              "2021-11-11  17933201129  \n",
              "2021-11-12  18316060208  \n",
              "2021-11-13  14457436261  \n",
              "2021-11-14  12172962219  "
            ],
            "text/html": [
              "\n",
              "  <div id=\"df-e5b93b18-715b-4443-8591-3c5d23794206\">\n",
              "    <div class=\"colab-df-container\">\n",
              "      <div>\n",
              "<style scoped>\n",
              "    .dataframe tbody tr th:only-of-type {\n",
              "        vertical-align: middle;\n",
              "    }\n",
              "\n",
              "    .dataframe tbody tr th {\n",
              "        vertical-align: top;\n",
              "    }\n",
              "\n",
              "    .dataframe thead th {\n",
              "        text-align: right;\n",
              "    }\n",
              "</style>\n",
              "<table border=\"1\" class=\"dataframe\">\n",
              "  <thead>\n",
              "    <tr style=\"text-align: right;\">\n",
              "      <th></th>\n",
              "      <th>Open</th>\n",
              "      <th>High</th>\n",
              "      <th>Low</th>\n",
              "      <th>Close</th>\n",
              "      <th>Adj Close</th>\n",
              "      <th>Volume</th>\n",
              "    </tr>\n",
              "    <tr>\n",
              "      <th>Date</th>\n",
              "      <th></th>\n",
              "      <th></th>\n",
              "      <th></th>\n",
              "      <th></th>\n",
              "      <th></th>\n",
              "      <th></th>\n",
              "    </tr>\n",
              "  </thead>\n",
              "  <tbody>\n",
              "    <tr>\n",
              "      <th>2021-11-10</th>\n",
              "      <td>4733.362793</td>\n",
              "      <td>4859.502930</td>\n",
              "      <td>4485.093262</td>\n",
              "      <td>4636.174316</td>\n",
              "      <td>4636.174316</td>\n",
              "      <td>22748160545</td>\n",
              "    </tr>\n",
              "    <tr>\n",
              "      <th>2021-11-11</th>\n",
              "      <td>4635.453613</td>\n",
              "      <td>4778.059082</td>\n",
              "      <td>4580.990234</td>\n",
              "      <td>4730.384277</td>\n",
              "      <td>4730.384277</td>\n",
              "      <td>17933201129</td>\n",
              "    </tr>\n",
              "    <tr>\n",
              "      <th>2021-11-12</th>\n",
              "      <td>4724.306641</td>\n",
              "      <td>4808.738770</td>\n",
              "      <td>4510.920410</td>\n",
              "      <td>4667.115234</td>\n",
              "      <td>4667.115234</td>\n",
              "      <td>18316060208</td>\n",
              "    </tr>\n",
              "    <tr>\n",
              "      <th>2021-11-13</th>\n",
              "      <td>4666.719238</td>\n",
              "      <td>4702.115234</td>\n",
              "      <td>4582.180664</td>\n",
              "      <td>4651.460449</td>\n",
              "      <td>4651.460449</td>\n",
              "      <td>14457436261</td>\n",
              "    </tr>\n",
              "    <tr>\n",
              "      <th>2021-11-14</th>\n",
              "      <td>4648.632812</td>\n",
              "      <td>4689.842773</td>\n",
              "      <td>4516.935547</td>\n",
              "      <td>4626.358887</td>\n",
              "      <td>4626.358887</td>\n",
              "      <td>12172962219</td>\n",
              "    </tr>\n",
              "  </tbody>\n",
              "</table>\n",
              "</div>\n",
              "      <button class=\"colab-df-convert\" onclick=\"convertToInteractive('df-e5b93b18-715b-4443-8591-3c5d23794206')\"\n",
              "              title=\"Convert this dataframe to an interactive table.\"\n",
              "              style=\"display:none;\">\n",
              "        \n",
              "  <svg xmlns=\"http://www.w3.org/2000/svg\" height=\"24px\"viewBox=\"0 0 24 24\"\n",
              "       width=\"24px\">\n",
              "    <path d=\"M0 0h24v24H0V0z\" fill=\"none\"/>\n",
              "    <path d=\"M18.56 5.44l.94 2.06.94-2.06 2.06-.94-2.06-.94-.94-2.06-.94 2.06-2.06.94zm-11 1L8.5 8.5l.94-2.06 2.06-.94-2.06-.94L8.5 2.5l-.94 2.06-2.06.94zm10 10l.94 2.06.94-2.06 2.06-.94-2.06-.94-.94-2.06-.94 2.06-2.06.94z\"/><path d=\"M17.41 7.96l-1.37-1.37c-.4-.4-.92-.59-1.43-.59-.52 0-1.04.2-1.43.59L10.3 9.45l-7.72 7.72c-.78.78-.78 2.05 0 2.83L4 21.41c.39.39.9.59 1.41.59.51 0 1.02-.2 1.41-.59l7.78-7.78 2.81-2.81c.8-.78.8-2.07 0-2.86zM5.41 20L4 18.59l7.72-7.72 1.47 1.35L5.41 20z\"/>\n",
              "  </svg>\n",
              "      </button>\n",
              "      \n",
              "  <style>\n",
              "    .colab-df-container {\n",
              "      display:flex;\n",
              "      flex-wrap:wrap;\n",
              "      gap: 12px;\n",
              "    }\n",
              "\n",
              "    .colab-df-convert {\n",
              "      background-color: #E8F0FE;\n",
              "      border: none;\n",
              "      border-radius: 50%;\n",
              "      cursor: pointer;\n",
              "      display: none;\n",
              "      fill: #1967D2;\n",
              "      height: 32px;\n",
              "      padding: 0 0 0 0;\n",
              "      width: 32px;\n",
              "    }\n",
              "\n",
              "    .colab-df-convert:hover {\n",
              "      background-color: #E2EBFA;\n",
              "      box-shadow: 0px 1px 2px rgba(60, 64, 67, 0.3), 0px 1px 3px 1px rgba(60, 64, 67, 0.15);\n",
              "      fill: #174EA6;\n",
              "    }\n",
              "\n",
              "    [theme=dark] .colab-df-convert {\n",
              "      background-color: #3B4455;\n",
              "      fill: #D2E3FC;\n",
              "    }\n",
              "\n",
              "    [theme=dark] .colab-df-convert:hover {\n",
              "      background-color: #434B5C;\n",
              "      box-shadow: 0px 1px 3px 1px rgba(0, 0, 0, 0.15);\n",
              "      filter: drop-shadow(0px 1px 2px rgba(0, 0, 0, 0.3));\n",
              "      fill: #FFFFFF;\n",
              "    }\n",
              "  </style>\n",
              "\n",
              "      <script>\n",
              "        const buttonEl =\n",
              "          document.querySelector('#df-e5b93b18-715b-4443-8591-3c5d23794206 button.colab-df-convert');\n",
              "        buttonEl.style.display =\n",
              "          google.colab.kernel.accessAllowed ? 'block' : 'none';\n",
              "\n",
              "        async function convertToInteractive(key) {\n",
              "          const element = document.querySelector('#df-e5b93b18-715b-4443-8591-3c5d23794206');\n",
              "          const dataTable =\n",
              "            await google.colab.kernel.invokeFunction('convertToInteractive',\n",
              "                                                     [key], {});\n",
              "          if (!dataTable) return;\n",
              "\n",
              "          const docLinkHtml = 'Like what you see? Visit the ' +\n",
              "            '<a target=\"_blank\" href=https://colab.research.google.com/notebooks/data_table.ipynb>data table notebook</a>'\n",
              "            + ' to learn more about interactive tables.';\n",
              "          element.innerHTML = '';\n",
              "          dataTable['output_type'] = 'display_data';\n",
              "          await google.colab.output.renderOutput(dataTable, element);\n",
              "          const docLink = document.createElement('div');\n",
              "          docLink.innerHTML = docLinkHtml;\n",
              "          element.appendChild(docLink);\n",
              "        }\n",
              "      </script>\n",
              "    </div>\n",
              "  </div>\n",
              "  "
            ]
          },
          "metadata": {},
          "execution_count": 22
        }
      ]
    },
    {
      "cell_type": "markdown",
      "metadata": {
        "id": "szvnQ9CfJSa2"
      },
      "source": [
        "**Candlestick_month() function**"
      ]
    },
    {
      "cell_type": "code",
      "metadata": {
        "colab": {
          "base_uri": "https://localhost:8080/"
        },
        "id": "YY3hXFMnpwTz",
        "outputId": "f5132d4d-4f30-41ff-c665-13e233492d84"
      },
      "source": [
        "eth = pd.DataFrame(crypto_info('ETH-USD')['Close'])"
      ],
      "execution_count": 23,
      "outputs": [
        {
          "output_type": "stream",
          "name": "stdout",
          "text": [
            "\r[*********************100%***********************]  1 of 1 completed\n"
          ]
        }
      ]
    },
    {
      "cell_type": "code",
      "metadata": {
        "colab": {
          "base_uri": "https://localhost:8080/",
          "height": 238
        },
        "id": "64jV-eG8rC5k",
        "outputId": "73a43e3f-7d58-489e-f606-2efc8f557af5"
      },
      "source": [
        "eth.head()"
      ],
      "execution_count": 24,
      "outputs": [
        {
          "output_type": "execute_result",
          "data": {
            "text/plain": [
              "                  Close\n",
              "Date                   \n",
              "2021-01-01   730.367554\n",
              "2021-01-02   774.534973\n",
              "2021-01-03   975.507690\n",
              "2021-01-04  1040.233032\n",
              "2021-01-05  1100.006104"
            ],
            "text/html": [
              "\n",
              "  <div id=\"df-a49567e5-70b0-41b8-85a3-fc86fea08621\">\n",
              "    <div class=\"colab-df-container\">\n",
              "      <div>\n",
              "<style scoped>\n",
              "    .dataframe tbody tr th:only-of-type {\n",
              "        vertical-align: middle;\n",
              "    }\n",
              "\n",
              "    .dataframe tbody tr th {\n",
              "        vertical-align: top;\n",
              "    }\n",
              "\n",
              "    .dataframe thead th {\n",
              "        text-align: right;\n",
              "    }\n",
              "</style>\n",
              "<table border=\"1\" class=\"dataframe\">\n",
              "  <thead>\n",
              "    <tr style=\"text-align: right;\">\n",
              "      <th></th>\n",
              "      <th>Close</th>\n",
              "    </tr>\n",
              "    <tr>\n",
              "      <th>Date</th>\n",
              "      <th></th>\n",
              "    </tr>\n",
              "  </thead>\n",
              "  <tbody>\n",
              "    <tr>\n",
              "      <th>2021-01-01</th>\n",
              "      <td>730.367554</td>\n",
              "    </tr>\n",
              "    <tr>\n",
              "      <th>2021-01-02</th>\n",
              "      <td>774.534973</td>\n",
              "    </tr>\n",
              "    <tr>\n",
              "      <th>2021-01-03</th>\n",
              "      <td>975.507690</td>\n",
              "    </tr>\n",
              "    <tr>\n",
              "      <th>2021-01-04</th>\n",
              "      <td>1040.233032</td>\n",
              "    </tr>\n",
              "    <tr>\n",
              "      <th>2021-01-05</th>\n",
              "      <td>1100.006104</td>\n",
              "    </tr>\n",
              "  </tbody>\n",
              "</table>\n",
              "</div>\n",
              "      <button class=\"colab-df-convert\" onclick=\"convertToInteractive('df-a49567e5-70b0-41b8-85a3-fc86fea08621')\"\n",
              "              title=\"Convert this dataframe to an interactive table.\"\n",
              "              style=\"display:none;\">\n",
              "        \n",
              "  <svg xmlns=\"http://www.w3.org/2000/svg\" height=\"24px\"viewBox=\"0 0 24 24\"\n",
              "       width=\"24px\">\n",
              "    <path d=\"M0 0h24v24H0V0z\" fill=\"none\"/>\n",
              "    <path d=\"M18.56 5.44l.94 2.06.94-2.06 2.06-.94-2.06-.94-.94-2.06-.94 2.06-2.06.94zm-11 1L8.5 8.5l.94-2.06 2.06-.94-2.06-.94L8.5 2.5l-.94 2.06-2.06.94zm10 10l.94 2.06.94-2.06 2.06-.94-2.06-.94-.94-2.06-.94 2.06-2.06.94z\"/><path d=\"M17.41 7.96l-1.37-1.37c-.4-.4-.92-.59-1.43-.59-.52 0-1.04.2-1.43.59L10.3 9.45l-7.72 7.72c-.78.78-.78 2.05 0 2.83L4 21.41c.39.39.9.59 1.41.59.51 0 1.02-.2 1.41-.59l7.78-7.78 2.81-2.81c.8-.78.8-2.07 0-2.86zM5.41 20L4 18.59l7.72-7.72 1.47 1.35L5.41 20z\"/>\n",
              "  </svg>\n",
              "      </button>\n",
              "      \n",
              "  <style>\n",
              "    .colab-df-container {\n",
              "      display:flex;\n",
              "      flex-wrap:wrap;\n",
              "      gap: 12px;\n",
              "    }\n",
              "\n",
              "    .colab-df-convert {\n",
              "      background-color: #E8F0FE;\n",
              "      border: none;\n",
              "      border-radius: 50%;\n",
              "      cursor: pointer;\n",
              "      display: none;\n",
              "      fill: #1967D2;\n",
              "      height: 32px;\n",
              "      padding: 0 0 0 0;\n",
              "      width: 32px;\n",
              "    }\n",
              "\n",
              "    .colab-df-convert:hover {\n",
              "      background-color: #E2EBFA;\n",
              "      box-shadow: 0px 1px 2px rgba(60, 64, 67, 0.3), 0px 1px 3px 1px rgba(60, 64, 67, 0.15);\n",
              "      fill: #174EA6;\n",
              "    }\n",
              "\n",
              "    [theme=dark] .colab-df-convert {\n",
              "      background-color: #3B4455;\n",
              "      fill: #D2E3FC;\n",
              "    }\n",
              "\n",
              "    [theme=dark] .colab-df-convert:hover {\n",
              "      background-color: #434B5C;\n",
              "      box-shadow: 0px 1px 3px 1px rgba(0, 0, 0, 0.15);\n",
              "      filter: drop-shadow(0px 1px 2px rgba(0, 0, 0, 0.3));\n",
              "      fill: #FFFFFF;\n",
              "    }\n",
              "  </style>\n",
              "\n",
              "      <script>\n",
              "        const buttonEl =\n",
              "          document.querySelector('#df-a49567e5-70b0-41b8-85a3-fc86fea08621 button.colab-df-convert');\n",
              "        buttonEl.style.display =\n",
              "          google.colab.kernel.accessAllowed ? 'block' : 'none';\n",
              "\n",
              "        async function convertToInteractive(key) {\n",
              "          const element = document.querySelector('#df-a49567e5-70b0-41b8-85a3-fc86fea08621');\n",
              "          const dataTable =\n",
              "            await google.colab.kernel.invokeFunction('convertToInteractive',\n",
              "                                                     [key], {});\n",
              "          if (!dataTable) return;\n",
              "\n",
              "          const docLinkHtml = 'Like what you see? Visit the ' +\n",
              "            '<a target=\"_blank\" href=https://colab.research.google.com/notebooks/data_table.ipynb>data table notebook</a>'\n",
              "            + ' to learn more about interactive tables.';\n",
              "          element.innerHTML = '';\n",
              "          dataTable['output_type'] = 'display_data';\n",
              "          await google.colab.output.renderOutput(dataTable, element);\n",
              "          const docLink = document.createElement('div');\n",
              "          docLink.innerHTML = docLinkHtml;\n",
              "          element.appendChild(docLink);\n",
              "        }\n",
              "      </script>\n",
              "    </div>\n",
              "  </div>\n",
              "  "
            ]
          },
          "metadata": {},
          "execution_count": 24
        }
      ]
    },
    {
      "cell_type": "markdown",
      "source": [
        "Percentage change between the current and a prior prices."
      ],
      "metadata": {
        "id": "vJNUtRJpa7m4"
      }
    },
    {
      "cell_type": "code",
      "metadata": {
        "id": "YFWnEV35q4tm"
      },
      "source": [
        "eth['return'] = eth.Close.pct_change()"
      ],
      "execution_count": 25,
      "outputs": []
    },
    {
      "cell_type": "code",
      "metadata": {
        "colab": {
          "base_uri": "https://localhost:8080/",
          "height": 238
        },
        "id": "fEPx8ZtbrHPj",
        "outputId": "96a61281-3017-42de-def6-b96ebae7f6e1"
      },
      "source": [
        "eth.head()"
      ],
      "execution_count": 26,
      "outputs": [
        {
          "output_type": "execute_result",
          "data": {
            "text/plain": [
              "                  Close    return\n",
              "Date                             \n",
              "2021-01-01   730.367554       NaN\n",
              "2021-01-02   774.534973  0.060473\n",
              "2021-01-03   975.507690  0.259475\n",
              "2021-01-04  1040.233032  0.066350\n",
              "2021-01-05  1100.006104  0.057461"
            ],
            "text/html": [
              "\n",
              "  <div id=\"df-fa85b54e-7424-463c-852e-d7547bb3c425\">\n",
              "    <div class=\"colab-df-container\">\n",
              "      <div>\n",
              "<style scoped>\n",
              "    .dataframe tbody tr th:only-of-type {\n",
              "        vertical-align: middle;\n",
              "    }\n",
              "\n",
              "    .dataframe tbody tr th {\n",
              "        vertical-align: top;\n",
              "    }\n",
              "\n",
              "    .dataframe thead th {\n",
              "        text-align: right;\n",
              "    }\n",
              "</style>\n",
              "<table border=\"1\" class=\"dataframe\">\n",
              "  <thead>\n",
              "    <tr style=\"text-align: right;\">\n",
              "      <th></th>\n",
              "      <th>Close</th>\n",
              "      <th>return</th>\n",
              "    </tr>\n",
              "    <tr>\n",
              "      <th>Date</th>\n",
              "      <th></th>\n",
              "      <th></th>\n",
              "    </tr>\n",
              "  </thead>\n",
              "  <tbody>\n",
              "    <tr>\n",
              "      <th>2021-01-01</th>\n",
              "      <td>730.367554</td>\n",
              "      <td>NaN</td>\n",
              "    </tr>\n",
              "    <tr>\n",
              "      <th>2021-01-02</th>\n",
              "      <td>774.534973</td>\n",
              "      <td>0.060473</td>\n",
              "    </tr>\n",
              "    <tr>\n",
              "      <th>2021-01-03</th>\n",
              "      <td>975.507690</td>\n",
              "      <td>0.259475</td>\n",
              "    </tr>\n",
              "    <tr>\n",
              "      <th>2021-01-04</th>\n",
              "      <td>1040.233032</td>\n",
              "      <td>0.066350</td>\n",
              "    </tr>\n",
              "    <tr>\n",
              "      <th>2021-01-05</th>\n",
              "      <td>1100.006104</td>\n",
              "      <td>0.057461</td>\n",
              "    </tr>\n",
              "  </tbody>\n",
              "</table>\n",
              "</div>\n",
              "      <button class=\"colab-df-convert\" onclick=\"convertToInteractive('df-fa85b54e-7424-463c-852e-d7547bb3c425')\"\n",
              "              title=\"Convert this dataframe to an interactive table.\"\n",
              "              style=\"display:none;\">\n",
              "        \n",
              "  <svg xmlns=\"http://www.w3.org/2000/svg\" height=\"24px\"viewBox=\"0 0 24 24\"\n",
              "       width=\"24px\">\n",
              "    <path d=\"M0 0h24v24H0V0z\" fill=\"none\"/>\n",
              "    <path d=\"M18.56 5.44l.94 2.06.94-2.06 2.06-.94-2.06-.94-.94-2.06-.94 2.06-2.06.94zm-11 1L8.5 8.5l.94-2.06 2.06-.94-2.06-.94L8.5 2.5l-.94 2.06-2.06.94zm10 10l.94 2.06.94-2.06 2.06-.94-2.06-.94-.94-2.06-.94 2.06-2.06.94z\"/><path d=\"M17.41 7.96l-1.37-1.37c-.4-.4-.92-.59-1.43-.59-.52 0-1.04.2-1.43.59L10.3 9.45l-7.72 7.72c-.78.78-.78 2.05 0 2.83L4 21.41c.39.39.9.59 1.41.59.51 0 1.02-.2 1.41-.59l7.78-7.78 2.81-2.81c.8-.78.8-2.07 0-2.86zM5.41 20L4 18.59l7.72-7.72 1.47 1.35L5.41 20z\"/>\n",
              "  </svg>\n",
              "      </button>\n",
              "      \n",
              "  <style>\n",
              "    .colab-df-container {\n",
              "      display:flex;\n",
              "      flex-wrap:wrap;\n",
              "      gap: 12px;\n",
              "    }\n",
              "\n",
              "    .colab-df-convert {\n",
              "      background-color: #E8F0FE;\n",
              "      border: none;\n",
              "      border-radius: 50%;\n",
              "      cursor: pointer;\n",
              "      display: none;\n",
              "      fill: #1967D2;\n",
              "      height: 32px;\n",
              "      padding: 0 0 0 0;\n",
              "      width: 32px;\n",
              "    }\n",
              "\n",
              "    .colab-df-convert:hover {\n",
              "      background-color: #E2EBFA;\n",
              "      box-shadow: 0px 1px 2px rgba(60, 64, 67, 0.3), 0px 1px 3px 1px rgba(60, 64, 67, 0.15);\n",
              "      fill: #174EA6;\n",
              "    }\n",
              "\n",
              "    [theme=dark] .colab-df-convert {\n",
              "      background-color: #3B4455;\n",
              "      fill: #D2E3FC;\n",
              "    }\n",
              "\n",
              "    [theme=dark] .colab-df-convert:hover {\n",
              "      background-color: #434B5C;\n",
              "      box-shadow: 0px 1px 3px 1px rgba(0, 0, 0, 0.15);\n",
              "      filter: drop-shadow(0px 1px 2px rgba(0, 0, 0, 0.3));\n",
              "      fill: #FFFFFF;\n",
              "    }\n",
              "  </style>\n",
              "\n",
              "      <script>\n",
              "        const buttonEl =\n",
              "          document.querySelector('#df-fa85b54e-7424-463c-852e-d7547bb3c425 button.colab-df-convert');\n",
              "        buttonEl.style.display =\n",
              "          google.colab.kernel.accessAllowed ? 'block' : 'none';\n",
              "\n",
              "        async function convertToInteractive(key) {\n",
              "          const element = document.querySelector('#df-fa85b54e-7424-463c-852e-d7547bb3c425');\n",
              "          const dataTable =\n",
              "            await google.colab.kernel.invokeFunction('convertToInteractive',\n",
              "                                                     [key], {});\n",
              "          if (!dataTable) return;\n",
              "\n",
              "          const docLinkHtml = 'Like what you see? Visit the ' +\n",
              "            '<a target=\"_blank\" href=https://colab.research.google.com/notebooks/data_table.ipynb>data table notebook</a>'\n",
              "            + ' to learn more about interactive tables.';\n",
              "          element.innerHTML = '';\n",
              "          dataTable['output_type'] = 'display_data';\n",
              "          await google.colab.output.renderOutput(dataTable, element);\n",
              "          const docLink = document.createElement('div');\n",
              "          docLink.innerHTML = docLinkHtml;\n",
              "          element.appendChild(docLink);\n",
              "        }\n",
              "      </script>\n",
              "    </div>\n",
              "  </div>\n",
              "  "
            ]
          },
          "metadata": {},
          "execution_count": 26
        }
      ]
    },
    {
      "cell_type": "code",
      "metadata": {
        "colab": {
          "base_uri": "https://localhost:8080/",
          "height": 560
        },
        "id": "jvHNLPZ82WzG",
        "outputId": "df8b0783-30b1-4d89-fb05-5e9e16b01d17"
      },
      "source": [
        "Candlestick_month('ETH-USD', 'Ethereum')"
      ],
      "execution_count": 27,
      "outputs": [
        {
          "output_type": "stream",
          "name": "stdout",
          "text": [
            "\r[*********************100%***********************]  1 of 1 completed\n"
          ]
        },
        {
          "output_type": "display_data",
          "data": {
            "text/html": [
              "<html>\n",
              "<head><meta charset=\"utf-8\" /></head>\n",
              "<body>\n",
              "    <div>            <script src=\"https://cdnjs.cloudflare.com/ajax/libs/mathjax/2.7.5/MathJax.js?config=TeX-AMS-MML_SVG\"></script><script type=\"text/javascript\">if (window.MathJax) {MathJax.Hub.Config({SVG: {font: \"STIX-Web\"}});}</script>                <script type=\"text/javascript\">window.PlotlyConfig = {MathJaxConfig: 'local'};</script>\n",
              "        <script src=\"https://cdn.plot.ly/plotly-2.8.3.min.js\"></script>                <div id=\"7fe87620-9cbf-4f57-8f22-f13ea5a2a6d8\" class=\"plotly-graph-div\" style=\"height:525px; width:100%;\"></div>            <script type=\"text/javascript\">                                    window.PLOTLYENV=window.PLOTLYENV || {};                                    if (document.getElementById(\"7fe87620-9cbf-4f57-8f22-f13ea5a2a6d8\")) {                    Plotly.newPlot(                        \"7fe87620-9cbf-4f57-8f22-f13ea5a2a6d8\",                        [{\"close\":[1151.05908203125,1134.541015625,1186.9739990234375,1237.5933837890625,1222.5062255859375,1216.978271484375,1168.401611328125,1097.236572265625,1038.191650390625,1113.587158203125,1191.5262451171875,1233.129150390625,1352.62646484375,1338.6357421875,1578.7178955078125,1542.9752197265625,1520.20068359375,1576.74951171875,1537.4051513671875,1549.2974853515625,1599.4766845703125,1445.3834228515625,1441.8067626953125,1636.232666015625,1725.4681396484375,1727.406982421875,1695.969482421875,1681.517333984375,1635.19580078125,1632.9454345703125,1618.87451171875,1618.6297607421875],\"high\":[1152.94384765625,1165.6827392578125,1193.63671875,1246.8948974609375,1262.8857421875,1228.7679443359375,1216.9044189453125,1169.19384765625,1097.2591552734375,1113.587158203125,1202.953369140625,1275.7781982421875,1377.944580078125,1378.41748046875,1578.7178955078125,1607.0330810546875,1612.645751953125,1595.761962890625,1641.209228515625,1591.632568359375,1654.4287109375,1605.3369140625,1445.151123046875,1636.7994384765625,1774.576416015625,1759.884033203125,1738.016845703125,1745.8831787109375,1700.1708984375,1672.6297607421875,1678.0982666015625,1658.5115966796875],\"low\":[1048.3963623046875,1086.8299560546875,1116.24755859375,1165.6231689453125,1200.6322021484375,1209.3775634765625,1157.175537109375,1095.0028076171875,1038.1356201171875,1019.2203369140625,1077.40576171875,1182.9031982421875,1195.60595703125,1329.7633056640625,1338.8060302734375,1501.7974853515625,1500.80322265625,1472.1854248046875,1523.6417236328125,1495.6781005859375,1548.671142578125,1445.3834228515625,1362.95166015625,1423.618896484375,1604.8909912109375,1662.7911376953125,1678.1080322265625,1672.61279296875,1613.416015625,1567.85107421875,1595.634521484375,1617.536865234375],\"name\":\"market data\",\"open\":[1073.7943115234375,1150.509765625,1134.822265625,1186.9609375,1237.580322265625,1222.306884765625,1216.9044189453125,1168.1390380859375,1097.2591552734375,1038.1866455078125,1113.5157470703125,1191.6748046875,1232.7916259765625,1353.205078125,1338.8060302734375,1578.3839111328125,1542.954345703125,1520.37451171875,1576.745361328125,1536.4573974609375,1549.2225341796875,1599.1572265625,1445.151123046875,1443.726806640625,1636.23193359375,1725.6239013671875,1727.0618896484375,1695.884765625,1681.445556640625,1634.6458740234375,1633.05126953125,1618.3184814453125],\"x\":[\"2022-07-04T00:00:00\",\"2022-07-05T00:00:00\",\"2022-07-06T00:00:00\",\"2022-07-07T00:00:00\",\"2022-07-08T00:00:00\",\"2022-07-09T00:00:00\",\"2022-07-10T00:00:00\",\"2022-07-11T00:00:00\",\"2022-07-12T00:00:00\",\"2022-07-13T00:00:00\",\"2022-07-14T00:00:00\",\"2022-07-15T00:00:00\",\"2022-07-16T00:00:00\",\"2022-07-17T00:00:00\",\"2022-07-18T00:00:00\",\"2022-07-19T00:00:00\",\"2022-07-20T00:00:00\",\"2022-07-21T00:00:00\",\"2022-07-22T00:00:00\",\"2022-07-23T00:00:00\",\"2022-07-24T00:00:00\",\"2022-07-25T00:00:00\",\"2022-07-26T00:00:00\",\"2022-07-27T00:00:00\",\"2022-07-28T00:00:00\",\"2022-07-29T00:00:00\",\"2022-07-30T00:00:00\",\"2022-07-31T00:00:00\",\"2022-08-01T00:00:00\",\"2022-08-02T00:00:00\",\"2022-08-03T00:00:00\",\"2022-08-04T00:00:00\"],\"type\":\"candlestick\"}],                        {\"template\":{\"data\":{\"bar\":[{\"error_x\":{\"color\":\"#2a3f5f\"},\"error_y\":{\"color\":\"#2a3f5f\"},\"marker\":{\"line\":{\"color\":\"#E5ECF6\",\"width\":0.5},\"pattern\":{\"fillmode\":\"overlay\",\"size\":10,\"solidity\":0.2}},\"type\":\"bar\"}],\"barpolar\":[{\"marker\":{\"line\":{\"color\":\"#E5ECF6\",\"width\":0.5},\"pattern\":{\"fillmode\":\"overlay\",\"size\":10,\"solidity\":0.2}},\"type\":\"barpolar\"}],\"carpet\":[{\"aaxis\":{\"endlinecolor\":\"#2a3f5f\",\"gridcolor\":\"white\",\"linecolor\":\"white\",\"minorgridcolor\":\"white\",\"startlinecolor\":\"#2a3f5f\"},\"baxis\":{\"endlinecolor\":\"#2a3f5f\",\"gridcolor\":\"white\",\"linecolor\":\"white\",\"minorgridcolor\":\"white\",\"startlinecolor\":\"#2a3f5f\"},\"type\":\"carpet\"}],\"choropleth\":[{\"colorbar\":{\"outlinewidth\":0,\"ticks\":\"\"},\"type\":\"choropleth\"}],\"contour\":[{\"colorbar\":{\"outlinewidth\":0,\"ticks\":\"\"},\"colorscale\":[[0.0,\"#0d0887\"],[0.1111111111111111,\"#46039f\"],[0.2222222222222222,\"#7201a8\"],[0.3333333333333333,\"#9c179e\"],[0.4444444444444444,\"#bd3786\"],[0.5555555555555556,\"#d8576b\"],[0.6666666666666666,\"#ed7953\"],[0.7777777777777778,\"#fb9f3a\"],[0.8888888888888888,\"#fdca26\"],[1.0,\"#f0f921\"]],\"type\":\"contour\"}],\"contourcarpet\":[{\"colorbar\":{\"outlinewidth\":0,\"ticks\":\"\"},\"type\":\"contourcarpet\"}],\"heatmap\":[{\"colorbar\":{\"outlinewidth\":0,\"ticks\":\"\"},\"colorscale\":[[0.0,\"#0d0887\"],[0.1111111111111111,\"#46039f\"],[0.2222222222222222,\"#7201a8\"],[0.3333333333333333,\"#9c179e\"],[0.4444444444444444,\"#bd3786\"],[0.5555555555555556,\"#d8576b\"],[0.6666666666666666,\"#ed7953\"],[0.7777777777777778,\"#fb9f3a\"],[0.8888888888888888,\"#fdca26\"],[1.0,\"#f0f921\"]],\"type\":\"heatmap\"}],\"heatmapgl\":[{\"colorbar\":{\"outlinewidth\":0,\"ticks\":\"\"},\"colorscale\":[[0.0,\"#0d0887\"],[0.1111111111111111,\"#46039f\"],[0.2222222222222222,\"#7201a8\"],[0.3333333333333333,\"#9c179e\"],[0.4444444444444444,\"#bd3786\"],[0.5555555555555556,\"#d8576b\"],[0.6666666666666666,\"#ed7953\"],[0.7777777777777778,\"#fb9f3a\"],[0.8888888888888888,\"#fdca26\"],[1.0,\"#f0f921\"]],\"type\":\"heatmapgl\"}],\"histogram\":[{\"marker\":{\"pattern\":{\"fillmode\":\"overlay\",\"size\":10,\"solidity\":0.2}},\"type\":\"histogram\"}],\"histogram2d\":[{\"colorbar\":{\"outlinewidth\":0,\"ticks\":\"\"},\"colorscale\":[[0.0,\"#0d0887\"],[0.1111111111111111,\"#46039f\"],[0.2222222222222222,\"#7201a8\"],[0.3333333333333333,\"#9c179e\"],[0.4444444444444444,\"#bd3786\"],[0.5555555555555556,\"#d8576b\"],[0.6666666666666666,\"#ed7953\"],[0.7777777777777778,\"#fb9f3a\"],[0.8888888888888888,\"#fdca26\"],[1.0,\"#f0f921\"]],\"type\":\"histogram2d\"}],\"histogram2dcontour\":[{\"colorbar\":{\"outlinewidth\":0,\"ticks\":\"\"},\"colorscale\":[[0.0,\"#0d0887\"],[0.1111111111111111,\"#46039f\"],[0.2222222222222222,\"#7201a8\"],[0.3333333333333333,\"#9c179e\"],[0.4444444444444444,\"#bd3786\"],[0.5555555555555556,\"#d8576b\"],[0.6666666666666666,\"#ed7953\"],[0.7777777777777778,\"#fb9f3a\"],[0.8888888888888888,\"#fdca26\"],[1.0,\"#f0f921\"]],\"type\":\"histogram2dcontour\"}],\"mesh3d\":[{\"colorbar\":{\"outlinewidth\":0,\"ticks\":\"\"},\"type\":\"mesh3d\"}],\"parcoords\":[{\"line\":{\"colorbar\":{\"outlinewidth\":0,\"ticks\":\"\"}},\"type\":\"parcoords\"}],\"pie\":[{\"automargin\":true,\"type\":\"pie\"}],\"scatter\":[{\"marker\":{\"colorbar\":{\"outlinewidth\":0,\"ticks\":\"\"}},\"type\":\"scatter\"}],\"scatter3d\":[{\"line\":{\"colorbar\":{\"outlinewidth\":0,\"ticks\":\"\"}},\"marker\":{\"colorbar\":{\"outlinewidth\":0,\"ticks\":\"\"}},\"type\":\"scatter3d\"}],\"scattercarpet\":[{\"marker\":{\"colorbar\":{\"outlinewidth\":0,\"ticks\":\"\"}},\"type\":\"scattercarpet\"}],\"scattergeo\":[{\"marker\":{\"colorbar\":{\"outlinewidth\":0,\"ticks\":\"\"}},\"type\":\"scattergeo\"}],\"scattergl\":[{\"marker\":{\"colorbar\":{\"outlinewidth\":0,\"ticks\":\"\"}},\"type\":\"scattergl\"}],\"scattermapbox\":[{\"marker\":{\"colorbar\":{\"outlinewidth\":0,\"ticks\":\"\"}},\"type\":\"scattermapbox\"}],\"scatterpolar\":[{\"marker\":{\"colorbar\":{\"outlinewidth\":0,\"ticks\":\"\"}},\"type\":\"scatterpolar\"}],\"scatterpolargl\":[{\"marker\":{\"colorbar\":{\"outlinewidth\":0,\"ticks\":\"\"}},\"type\":\"scatterpolargl\"}],\"scatterternary\":[{\"marker\":{\"colorbar\":{\"outlinewidth\":0,\"ticks\":\"\"}},\"type\":\"scatterternary\"}],\"surface\":[{\"colorbar\":{\"outlinewidth\":0,\"ticks\":\"\"},\"colorscale\":[[0.0,\"#0d0887\"],[0.1111111111111111,\"#46039f\"],[0.2222222222222222,\"#7201a8\"],[0.3333333333333333,\"#9c179e\"],[0.4444444444444444,\"#bd3786\"],[0.5555555555555556,\"#d8576b\"],[0.6666666666666666,\"#ed7953\"],[0.7777777777777778,\"#fb9f3a\"],[0.8888888888888888,\"#fdca26\"],[1.0,\"#f0f921\"]],\"type\":\"surface\"}],\"table\":[{\"cells\":{\"fill\":{\"color\":\"#EBF0F8\"},\"line\":{\"color\":\"white\"}},\"header\":{\"fill\":{\"color\":\"#C8D4E3\"},\"line\":{\"color\":\"white\"}},\"type\":\"table\"}]},\"layout\":{\"annotationdefaults\":{\"arrowcolor\":\"#2a3f5f\",\"arrowhead\":0,\"arrowwidth\":1},\"autotypenumbers\":\"strict\",\"coloraxis\":{\"colorbar\":{\"outlinewidth\":0,\"ticks\":\"\"}},\"colorscale\":{\"diverging\":[[0,\"#8e0152\"],[0.1,\"#c51b7d\"],[0.2,\"#de77ae\"],[0.3,\"#f1b6da\"],[0.4,\"#fde0ef\"],[0.5,\"#f7f7f7\"],[0.6,\"#e6f5d0\"],[0.7,\"#b8e186\"],[0.8,\"#7fbc41\"],[0.9,\"#4d9221\"],[1,\"#276419\"]],\"sequential\":[[0.0,\"#0d0887\"],[0.1111111111111111,\"#46039f\"],[0.2222222222222222,\"#7201a8\"],[0.3333333333333333,\"#9c179e\"],[0.4444444444444444,\"#bd3786\"],[0.5555555555555556,\"#d8576b\"],[0.6666666666666666,\"#ed7953\"],[0.7777777777777778,\"#fb9f3a\"],[0.8888888888888888,\"#fdca26\"],[1.0,\"#f0f921\"]],\"sequentialminus\":[[0.0,\"#0d0887\"],[0.1111111111111111,\"#46039f\"],[0.2222222222222222,\"#7201a8\"],[0.3333333333333333,\"#9c179e\"],[0.4444444444444444,\"#bd3786\"],[0.5555555555555556,\"#d8576b\"],[0.6666666666666666,\"#ed7953\"],[0.7777777777777778,\"#fb9f3a\"],[0.8888888888888888,\"#fdca26\"],[1.0,\"#f0f921\"]]},\"colorway\":[\"#636efa\",\"#EF553B\",\"#00cc96\",\"#ab63fa\",\"#FFA15A\",\"#19d3f3\",\"#FF6692\",\"#B6E880\",\"#FF97FF\",\"#FECB52\"],\"font\":{\"color\":\"#2a3f5f\"},\"geo\":{\"bgcolor\":\"white\",\"lakecolor\":\"white\",\"landcolor\":\"#E5ECF6\",\"showlakes\":true,\"showland\":true,\"subunitcolor\":\"white\"},\"hoverlabel\":{\"align\":\"left\"},\"hovermode\":\"closest\",\"mapbox\":{\"style\":\"light\"},\"paper_bgcolor\":\"white\",\"plot_bgcolor\":\"#E5ECF6\",\"polar\":{\"angularaxis\":{\"gridcolor\":\"white\",\"linecolor\":\"white\",\"ticks\":\"\"},\"bgcolor\":\"#E5ECF6\",\"radialaxis\":{\"gridcolor\":\"white\",\"linecolor\":\"white\",\"ticks\":\"\"}},\"scene\":{\"xaxis\":{\"backgroundcolor\":\"#E5ECF6\",\"gridcolor\":\"white\",\"gridwidth\":2,\"linecolor\":\"white\",\"showbackground\":true,\"ticks\":\"\",\"zerolinecolor\":\"white\"},\"yaxis\":{\"backgroundcolor\":\"#E5ECF6\",\"gridcolor\":\"white\",\"gridwidth\":2,\"linecolor\":\"white\",\"showbackground\":true,\"ticks\":\"\",\"zerolinecolor\":\"white\"},\"zaxis\":{\"backgroundcolor\":\"#E5ECF6\",\"gridcolor\":\"white\",\"gridwidth\":2,\"linecolor\":\"white\",\"showbackground\":true,\"ticks\":\"\",\"zerolinecolor\":\"white\"}},\"shapedefaults\":{\"line\":{\"color\":\"#2a3f5f\"}},\"ternary\":{\"aaxis\":{\"gridcolor\":\"white\",\"linecolor\":\"white\",\"ticks\":\"\"},\"baxis\":{\"gridcolor\":\"white\",\"linecolor\":\"white\",\"ticks\":\"\"},\"bgcolor\":\"#E5ECF6\",\"caxis\":{\"gridcolor\":\"white\",\"linecolor\":\"white\",\"ticks\":\"\"}},\"title\":{\"x\":0.05},\"xaxis\":{\"automargin\":true,\"gridcolor\":\"white\",\"linecolor\":\"white\",\"ticks\":\"\",\"title\":{\"standoff\":15},\"zerolinecolor\":\"white\",\"zerolinewidth\":2},\"yaxis\":{\"automargin\":true,\"gridcolor\":\"white\",\"linecolor\":\"white\",\"ticks\":\"\",\"title\":{\"standoff\":15},\"zerolinecolor\":\"white\",\"zerolinewidth\":2}}},\"title\":{\"text\":\"Ethereum live share price evolution\"},\"yaxis\":{\"title\":{\"text\":\"Ethereum Price (kUS Dollars)\"}}},                        {\"responsive\": true}                    ).then(function(){\n",
              "                            \n",
              "var gd = document.getElementById('7fe87620-9cbf-4f57-8f22-f13ea5a2a6d8');\n",
              "var x = new MutationObserver(function (mutations, observer) {{\n",
              "        var display = window.getComputedStyle(gd).display;\n",
              "        if (!display || display === 'none') {{\n",
              "            console.log([gd, 'removed!']);\n",
              "            Plotly.purge(gd);\n",
              "            observer.disconnect();\n",
              "        }}\n",
              "}});\n",
              "\n",
              "// Listen for the removal of the full notebook cells\n",
              "var notebookContainer = gd.closest('#notebook-container');\n",
              "if (notebookContainer) {{\n",
              "    x.observe(notebookContainer, {childList: true});\n",
              "}}\n",
              "\n",
              "// Listen for the clearing of the current output cell\n",
              "var outputEl = gd.closest('.output');\n",
              "if (outputEl) {{\n",
              "    x.observe(outputEl, {childList: true});\n",
              "}}\n",
              "\n",
              "                        })                };                            </script>        </div>\n",
              "</body>\n",
              "</html>"
            ]
          },
          "metadata": {}
        }
      ]
    },
    {
      "cell_type": "markdown",
      "metadata": {
        "id": "ksap53JiqtFw"
      },
      "source": [
        "**Candlestick() function**"
      ]
    },
    {
      "cell_type": "code",
      "metadata": {
        "colab": {
          "base_uri": "https://localhost:8080/",
          "height": 560
        },
        "id": "OjAMltebz85B",
        "outputId": "a4e04b62-1abe-42e3-ab5e-509427a8494e"
      },
      "source": [
        "Candlestick('ETH-USD', 'Ethereum')"
      ],
      "execution_count": 28,
      "outputs": [
        {
          "output_type": "stream",
          "name": "stdout",
          "text": [
            "\r[*********************100%***********************]  1 of 1 completed\n"
          ]
        },
        {
          "output_type": "display_data",
          "data": {
            "text/html": [
              "<html>\n",
              "<head><meta charset=\"utf-8\" /></head>\n",
              "<body>\n",
              "    <div>            <script src=\"https://cdnjs.cloudflare.com/ajax/libs/mathjax/2.7.5/MathJax.js?config=TeX-AMS-MML_SVG\"></script><script type=\"text/javascript\">if (window.MathJax) {MathJax.Hub.Config({SVG: {font: \"STIX-Web\"}});}</script>                <script type=\"text/javascript\">window.PlotlyConfig = {MathJaxConfig: 'local'};</script>\n",
              "        <script src=\"https://cdn.plot.ly/plotly-2.8.3.min.js\"></script>                <div id=\"673f4caa-16b0-478e-8108-2608722baddd\" class=\"plotly-graph-div\" style=\"height:525px; width:100%;\"></div>            <script type=\"text/javascript\">                                    window.PLOTLYENV=window.PLOTLYENV || {};                                    if (document.getElementById(\"673f4caa-16b0-478e-8108-2608722baddd\")) {                    Plotly.newPlot(                        \"673f4caa-16b0-478e-8108-2608722baddd\",                        [{\"close\":[1661.4915771484375,1657.48779296875,1659.7109375,1656.56787109375,1662.590576171875,1662.9171142578125,1667.481689453125,1659.0430908203125,1651.11328125,1655.7432861328125,1659.474853515625,1658.60302734375,1661.1717529296875,1658.9854736328125,1651.7095947265625,1657.2197265625,1661.9534912109375,1665.9498291015625,1661.333984375,1665.7437744140625,1662.8822021484375,1661.0859375,1658.186767578125,1664.64794921875,1666.388427734375,1664.392333984375,1660.561279296875,1659.1905517578125,1655.043701171875,1655.681884765625,1652.98291015625,1646.7890625,1641.07177734375,1642.2921142578125,1642.8472900390625,1643.4444580078125,1646.097900390625,1640.1485595703125,1636.3834228515625,1630.617919921875,1624.9783935546875,1620.7379150390625,1613.44580078125,1613.0819091796875,1613.7786865234375,1619.1129150390625,1619.3447265625,1629.19189453125,1632.4873046875,1640.0677490234375,1647.3946533203125,1646.086669921875,1653.6458740234375,1649.32666015625,1647.2177734375,1653.8359375,1651.9559326171875,1653.27001953125,1649.3165283203125,1648.7620849609375,1651.29736328125,1649.126220703125,1655.1129150390625,1652.6458740234375,1654.972900390625,1654.0003662109375,1655.3262939453125,1651.3621826171875,1651.05712890625,1650.862060546875,1648.160888671875,1622.28662109375,1626.234375,1625.455322265625,1631.484130859375,1632.7889404296875,1630.7005615234375,1627.0125732421875,1621.616943359375,1625.91748046875,1624.3221435546875,1619.87255859375,1620.958251953125,1622.8828125,1621.6727294921875,1618.6297607421875],\"high\":[1662.999755859375,1658.3626708984375,1659.7109375,1661.549072265625,1663.6226806640625,1662.9171142578125,1667.481689453125,1667.9273681640625,1661.0941162109375,1655.7432861328125,1659.474853515625,1660.3839111328125,1661.1717529296875,1661.3873291015625,1656.89501953125,1657.2197265625,1661.9534912109375,1665.9498291015625,1665.8658447265625,1665.802001953125,1667.88720703125,1663.127685546875,1661.3419189453125,1665.0853271484375,1666.388427734375,1665.93701171875,1665.35107421875,1659.738525390625,1659.2039794921875,1660.21337890625,1655.900146484375,1652.15283203125,1646.82568359375,1642.7694091796875,1645.927734375,1643.4444580078125,1646.097900390625,1645.9176025390625,1639.730712890625,1637.7908935546875,1630.7408447265625,1623.8861083984375,1621.4197998046875,1613.259033203125,1615.15966796875,1619.2890625,1619.9879150390625,1629.19189453125,1635.7138671875,1640.0677490234375,1649.5654296875,1648.9188232421875,1653.6800537109375,1654.953369140625,1650.573486328125,1653.8359375,1655.4356689453125,1653.27001953125,1653.8980712890625,1649.7152099609375,1653.2120361328125,1650.7369384765625,1655.1129150390625,1655.2586669921875,1655.655517578125,1655.24609375,1658.5115966796875,1654.6895751953125,1651.2559814453125,1652.59228515625,1651.13525390625,1646.8233642578125,1627.644775390625,1628.2891845703125,1631.484130859375,1632.7889404296875,1632.7674560546875,1630.1083984375,1626.953369140625,1625.91748046875,1628.4967041015625,1623.697998046875,1620.958251953125,1622.8828125,1623.4517822265625,1618.6297607421875],\"low\":[1661.4915771484375,1654.8172607421875,1656.025634765625,1656.56787109375,1657.3232421875,1657.2408447265625,1661.8709716796875,1659.0430908203125,1651.11328125,1651.1883544921875,1654.572998046875,1657.298828125,1658.7149658203125,1655.2835693359375,1651.7095947265625,1651.3031005859375,1656.9949951171875,1661.368896484375,1661.333984375,1661.666015625,1662.8822021484375,1661.0859375,1657.404296875,1658.34912109375,1664.630615234375,1664.392333984375,1660.561279296875,1658.2216796875,1654.2259521484375,1655.681884765625,1651.3836669921875,1646.4959716796875,1638.674072265625,1640.5302734375,1642.0731201171875,1641.1944580078125,1643.3795166015625,1640.1485595703125,1636.348388671875,1630.617919921875,1624.9783935546875,1620.7379150390625,1613.44580078125,1611.6153564453125,1613.1871337890625,1614.4871826171875,1617.906005859375,1619.1876220703125,1631.1973876953125,1634.557373046875,1639.68701171875,1646.086669921875,1647.938720703125,1649.32666015625,1647.2177734375,1646.0303955078125,1651.9559326171875,1651.4659423828125,1649.3165283203125,1648.7525634765625,1647.869873046875,1649.126220703125,1650.308837890625,1651.776123046875,1652.911376953125,1654.0003662109375,1654.37548828125,1651.3621826171875,1650.683837890625,1650.0703125,1648.160888671875,1622.28662109375,1620.334228515625,1625.455322265625,1625.1900634765625,1629.6976318359375,1630.140625,1627.0125732421875,1621.616943359375,1621.441650390625,1624.2132568359375,1619.87255859375,1617.1597900390625,1621.0484619140625,1621.6727294921875,1618.6297607421875],\"name\":\"market data\",\"open\":[1662.999755859375,1657.869140625,1656.025634765625,1660.3037109375,1657.3232421875,1660.4345703125,1662.3802490234375,1667.9273681640625,1660.701416015625,1651.595947265625,1655.380126953125,1660.3839111328125,1659.179443359375,1661.3873291015625,1656.89501953125,1652.696533203125,1656.9949951171875,1663.3133544921875,1665.693359375,1661.7711181640625,1665.9024658203125,1663.127685546875,1661.3419189453125,1658.34912109375,1664.630615234375,1665.5615234375,1664.0926513671875,1659.738525390625,1659.2039794921875,1659.785888671875,1655.3489990234375,1652.15283203125,1646.82568359375,1640.5302734375,1642.0731201171875,1641.1944580078125,1643.3795166015625,1645.9176025390625,1639.730712890625,1636.7830810546875,1630.56591796875,1623.299072265625,1621.4197998046875,1611.6153564453125,1613.4892578125,1614.4871826171875,1618.88671875,1619.8935546875,1633.71533203125,1635.69677734375,1639.68701171875,1647.72802734375,1647.938720703125,1654.2117919921875,1649.4293212890625,1646.0303955078125,1655.4356689453125,1651.4659423828125,1653.5047607421875,1649.07861328125,1648.1834716796875,1650.395751953125,1650.308837890625,1655.2586669921875,1653.3546142578125,1655.1658935546875,1654.37548828125,1654.6895751953125,1651.2559814453125,1650.0703125,1650.376220703125,1646.8233642578125,1621.986572265625,1626.2064208984375,1625.1900634765625,1630.91064453125,1632.7674560546875,1630.0494384765625,1626.953369140625,1621.441650390625,1626.12353515625,1623.697998046875,1617.1597900390625,1621.0484619140625,1623.4517822265625,1618.6297607421875],\"x\":[\"2022-08-03T12:30:00+00:00\",\"2022-08-03T12:45:00+00:00\",\"2022-08-03T13:00:00+00:00\",\"2022-08-03T13:15:00+00:00\",\"2022-08-03T13:30:00+00:00\",\"2022-08-03T13:45:00+00:00\",\"2022-08-03T14:00:00+00:00\",\"2022-08-03T14:15:00+00:00\",\"2022-08-03T14:30:00+00:00\",\"2022-08-03T14:45:00+00:00\",\"2022-08-03T15:00:00+00:00\",\"2022-08-03T15:15:00+00:00\",\"2022-08-03T15:30:00+00:00\",\"2022-08-03T15:45:00+00:00\",\"2022-08-03T16:00:00+00:00\",\"2022-08-03T16:15:00+00:00\",\"2022-08-03T16:30:00+00:00\",\"2022-08-03T16:45:00+00:00\",\"2022-08-03T17:00:00+00:00\",\"2022-08-03T17:15:00+00:00\",\"2022-08-03T17:30:00+00:00\",\"2022-08-03T17:45:00+00:00\",\"2022-08-03T18:00:00+00:00\",\"2022-08-03T18:15:00+00:00\",\"2022-08-03T18:30:00+00:00\",\"2022-08-03T18:45:00+00:00\",\"2022-08-03T19:00:00+00:00\",\"2022-08-03T19:15:00+00:00\",\"2022-08-03T19:30:00+00:00\",\"2022-08-03T19:45:00+00:00\",\"2022-08-03T20:00:00+00:00\",\"2022-08-03T20:15:00+00:00\",\"2022-08-03T20:30:00+00:00\",\"2022-08-03T20:45:00+00:00\",\"2022-08-03T21:00:00+00:00\",\"2022-08-03T21:15:00+00:00\",\"2022-08-03T21:30:00+00:00\",\"2022-08-03T21:45:00+00:00\",\"2022-08-03T22:00:00+00:00\",\"2022-08-03T22:15:00+00:00\",\"2022-08-03T22:30:00+00:00\",\"2022-08-03T22:45:00+00:00\",\"2022-08-03T23:00:00+00:00\",\"2022-08-03T23:15:00+00:00\",\"2022-08-03T23:30:00+00:00\",\"2022-08-03T23:45:00+00:00\",\"2022-08-04T00:00:00+00:00\",\"2022-08-04T00:15:00+00:00\",\"2022-08-04T00:30:00+00:00\",\"2022-08-04T00:45:00+00:00\",\"2022-08-04T01:00:00+00:00\",\"2022-08-04T01:15:00+00:00\",\"2022-08-04T01:30:00+00:00\",\"2022-08-04T01:45:00+00:00\",\"2022-08-04T02:00:00+00:00\",\"2022-08-04T02:15:00+00:00\",\"2022-08-04T02:30:00+00:00\",\"2022-08-04T02:45:00+00:00\",\"2022-08-04T03:00:00+00:00\",\"2022-08-04T03:15:00+00:00\",\"2022-08-04T03:30:00+00:00\",\"2022-08-04T03:45:00+00:00\",\"2022-08-04T04:00:00+00:00\",\"2022-08-04T04:15:00+00:00\",\"2022-08-04T04:30:00+00:00\",\"2022-08-04T04:45:00+00:00\",\"2022-08-04T05:00:00+00:00\",\"2022-08-04T05:15:00+00:00\",\"2022-08-04T05:30:00+00:00\",\"2022-08-04T05:45:00+00:00\",\"2022-08-04T06:00:00+00:00\",\"2022-08-04T06:15:00+00:00\",\"2022-08-04T06:30:00+00:00\",\"2022-08-04T06:45:00+00:00\",\"2022-08-04T07:00:00+00:00\",\"2022-08-04T07:15:00+00:00\",\"2022-08-04T07:30:00+00:00\",\"2022-08-04T07:45:00+00:00\",\"2022-08-04T08:00:00+00:00\",\"2022-08-04T08:15:00+00:00\",\"2022-08-04T08:30:00+00:00\",\"2022-08-04T08:45:00+00:00\",\"2022-08-04T09:00:00+00:00\",\"2022-08-04T09:15:00+00:00\",\"2022-08-04T09:30:00+00:00\",\"2022-08-04T09:38:00+00:00\"],\"type\":\"candlestick\"}],                        {\"template\":{\"data\":{\"bar\":[{\"error_x\":{\"color\":\"#2a3f5f\"},\"error_y\":{\"color\":\"#2a3f5f\"},\"marker\":{\"line\":{\"color\":\"#E5ECF6\",\"width\":0.5},\"pattern\":{\"fillmode\":\"overlay\",\"size\":10,\"solidity\":0.2}},\"type\":\"bar\"}],\"barpolar\":[{\"marker\":{\"line\":{\"color\":\"#E5ECF6\",\"width\":0.5},\"pattern\":{\"fillmode\":\"overlay\",\"size\":10,\"solidity\":0.2}},\"type\":\"barpolar\"}],\"carpet\":[{\"aaxis\":{\"endlinecolor\":\"#2a3f5f\",\"gridcolor\":\"white\",\"linecolor\":\"white\",\"minorgridcolor\":\"white\",\"startlinecolor\":\"#2a3f5f\"},\"baxis\":{\"endlinecolor\":\"#2a3f5f\",\"gridcolor\":\"white\",\"linecolor\":\"white\",\"minorgridcolor\":\"white\",\"startlinecolor\":\"#2a3f5f\"},\"type\":\"carpet\"}],\"choropleth\":[{\"colorbar\":{\"outlinewidth\":0,\"ticks\":\"\"},\"type\":\"choropleth\"}],\"contour\":[{\"colorbar\":{\"outlinewidth\":0,\"ticks\":\"\"},\"colorscale\":[[0.0,\"#0d0887\"],[0.1111111111111111,\"#46039f\"],[0.2222222222222222,\"#7201a8\"],[0.3333333333333333,\"#9c179e\"],[0.4444444444444444,\"#bd3786\"],[0.5555555555555556,\"#d8576b\"],[0.6666666666666666,\"#ed7953\"],[0.7777777777777778,\"#fb9f3a\"],[0.8888888888888888,\"#fdca26\"],[1.0,\"#f0f921\"]],\"type\":\"contour\"}],\"contourcarpet\":[{\"colorbar\":{\"outlinewidth\":0,\"ticks\":\"\"},\"type\":\"contourcarpet\"}],\"heatmap\":[{\"colorbar\":{\"outlinewidth\":0,\"ticks\":\"\"},\"colorscale\":[[0.0,\"#0d0887\"],[0.1111111111111111,\"#46039f\"],[0.2222222222222222,\"#7201a8\"],[0.3333333333333333,\"#9c179e\"],[0.4444444444444444,\"#bd3786\"],[0.5555555555555556,\"#d8576b\"],[0.6666666666666666,\"#ed7953\"],[0.7777777777777778,\"#fb9f3a\"],[0.8888888888888888,\"#fdca26\"],[1.0,\"#f0f921\"]],\"type\":\"heatmap\"}],\"heatmapgl\":[{\"colorbar\":{\"outlinewidth\":0,\"ticks\":\"\"},\"colorscale\":[[0.0,\"#0d0887\"],[0.1111111111111111,\"#46039f\"],[0.2222222222222222,\"#7201a8\"],[0.3333333333333333,\"#9c179e\"],[0.4444444444444444,\"#bd3786\"],[0.5555555555555556,\"#d8576b\"],[0.6666666666666666,\"#ed7953\"],[0.7777777777777778,\"#fb9f3a\"],[0.8888888888888888,\"#fdca26\"],[1.0,\"#f0f921\"]],\"type\":\"heatmapgl\"}],\"histogram\":[{\"marker\":{\"pattern\":{\"fillmode\":\"overlay\",\"size\":10,\"solidity\":0.2}},\"type\":\"histogram\"}],\"histogram2d\":[{\"colorbar\":{\"outlinewidth\":0,\"ticks\":\"\"},\"colorscale\":[[0.0,\"#0d0887\"],[0.1111111111111111,\"#46039f\"],[0.2222222222222222,\"#7201a8\"],[0.3333333333333333,\"#9c179e\"],[0.4444444444444444,\"#bd3786\"],[0.5555555555555556,\"#d8576b\"],[0.6666666666666666,\"#ed7953\"],[0.7777777777777778,\"#fb9f3a\"],[0.8888888888888888,\"#fdca26\"],[1.0,\"#f0f921\"]],\"type\":\"histogram2d\"}],\"histogram2dcontour\":[{\"colorbar\":{\"outlinewidth\":0,\"ticks\":\"\"},\"colorscale\":[[0.0,\"#0d0887\"],[0.1111111111111111,\"#46039f\"],[0.2222222222222222,\"#7201a8\"],[0.3333333333333333,\"#9c179e\"],[0.4444444444444444,\"#bd3786\"],[0.5555555555555556,\"#d8576b\"],[0.6666666666666666,\"#ed7953\"],[0.7777777777777778,\"#fb9f3a\"],[0.8888888888888888,\"#fdca26\"],[1.0,\"#f0f921\"]],\"type\":\"histogram2dcontour\"}],\"mesh3d\":[{\"colorbar\":{\"outlinewidth\":0,\"ticks\":\"\"},\"type\":\"mesh3d\"}],\"parcoords\":[{\"line\":{\"colorbar\":{\"outlinewidth\":0,\"ticks\":\"\"}},\"type\":\"parcoords\"}],\"pie\":[{\"automargin\":true,\"type\":\"pie\"}],\"scatter\":[{\"marker\":{\"colorbar\":{\"outlinewidth\":0,\"ticks\":\"\"}},\"type\":\"scatter\"}],\"scatter3d\":[{\"line\":{\"colorbar\":{\"outlinewidth\":0,\"ticks\":\"\"}},\"marker\":{\"colorbar\":{\"outlinewidth\":0,\"ticks\":\"\"}},\"type\":\"scatter3d\"}],\"scattercarpet\":[{\"marker\":{\"colorbar\":{\"outlinewidth\":0,\"ticks\":\"\"}},\"type\":\"scattercarpet\"}],\"scattergeo\":[{\"marker\":{\"colorbar\":{\"outlinewidth\":0,\"ticks\":\"\"}},\"type\":\"scattergeo\"}],\"scattergl\":[{\"marker\":{\"colorbar\":{\"outlinewidth\":0,\"ticks\":\"\"}},\"type\":\"scattergl\"}],\"scattermapbox\":[{\"marker\":{\"colorbar\":{\"outlinewidth\":0,\"ticks\":\"\"}},\"type\":\"scattermapbox\"}],\"scatterpolar\":[{\"marker\":{\"colorbar\":{\"outlinewidth\":0,\"ticks\":\"\"}},\"type\":\"scatterpolar\"}],\"scatterpolargl\":[{\"marker\":{\"colorbar\":{\"outlinewidth\":0,\"ticks\":\"\"}},\"type\":\"scatterpolargl\"}],\"scatterternary\":[{\"marker\":{\"colorbar\":{\"outlinewidth\":0,\"ticks\":\"\"}},\"type\":\"scatterternary\"}],\"surface\":[{\"colorbar\":{\"outlinewidth\":0,\"ticks\":\"\"},\"colorscale\":[[0.0,\"#0d0887\"],[0.1111111111111111,\"#46039f\"],[0.2222222222222222,\"#7201a8\"],[0.3333333333333333,\"#9c179e\"],[0.4444444444444444,\"#bd3786\"],[0.5555555555555556,\"#d8576b\"],[0.6666666666666666,\"#ed7953\"],[0.7777777777777778,\"#fb9f3a\"],[0.8888888888888888,\"#fdca26\"],[1.0,\"#f0f921\"]],\"type\":\"surface\"}],\"table\":[{\"cells\":{\"fill\":{\"color\":\"#EBF0F8\"},\"line\":{\"color\":\"white\"}},\"header\":{\"fill\":{\"color\":\"#C8D4E3\"},\"line\":{\"color\":\"white\"}},\"type\":\"table\"}]},\"layout\":{\"annotationdefaults\":{\"arrowcolor\":\"#2a3f5f\",\"arrowhead\":0,\"arrowwidth\":1},\"autotypenumbers\":\"strict\",\"coloraxis\":{\"colorbar\":{\"outlinewidth\":0,\"ticks\":\"\"}},\"colorscale\":{\"diverging\":[[0,\"#8e0152\"],[0.1,\"#c51b7d\"],[0.2,\"#de77ae\"],[0.3,\"#f1b6da\"],[0.4,\"#fde0ef\"],[0.5,\"#f7f7f7\"],[0.6,\"#e6f5d0\"],[0.7,\"#b8e186\"],[0.8,\"#7fbc41\"],[0.9,\"#4d9221\"],[1,\"#276419\"]],\"sequential\":[[0.0,\"#0d0887\"],[0.1111111111111111,\"#46039f\"],[0.2222222222222222,\"#7201a8\"],[0.3333333333333333,\"#9c179e\"],[0.4444444444444444,\"#bd3786\"],[0.5555555555555556,\"#d8576b\"],[0.6666666666666666,\"#ed7953\"],[0.7777777777777778,\"#fb9f3a\"],[0.8888888888888888,\"#fdca26\"],[1.0,\"#f0f921\"]],\"sequentialminus\":[[0.0,\"#0d0887\"],[0.1111111111111111,\"#46039f\"],[0.2222222222222222,\"#7201a8\"],[0.3333333333333333,\"#9c179e\"],[0.4444444444444444,\"#bd3786\"],[0.5555555555555556,\"#d8576b\"],[0.6666666666666666,\"#ed7953\"],[0.7777777777777778,\"#fb9f3a\"],[0.8888888888888888,\"#fdca26\"],[1.0,\"#f0f921\"]]},\"colorway\":[\"#636efa\",\"#EF553B\",\"#00cc96\",\"#ab63fa\",\"#FFA15A\",\"#19d3f3\",\"#FF6692\",\"#B6E880\",\"#FF97FF\",\"#FECB52\"],\"font\":{\"color\":\"#2a3f5f\"},\"geo\":{\"bgcolor\":\"white\",\"lakecolor\":\"white\",\"landcolor\":\"#E5ECF6\",\"showlakes\":true,\"showland\":true,\"subunitcolor\":\"white\"},\"hoverlabel\":{\"align\":\"left\"},\"hovermode\":\"closest\",\"mapbox\":{\"style\":\"light\"},\"paper_bgcolor\":\"white\",\"plot_bgcolor\":\"#E5ECF6\",\"polar\":{\"angularaxis\":{\"gridcolor\":\"white\",\"linecolor\":\"white\",\"ticks\":\"\"},\"bgcolor\":\"#E5ECF6\",\"radialaxis\":{\"gridcolor\":\"white\",\"linecolor\":\"white\",\"ticks\":\"\"}},\"scene\":{\"xaxis\":{\"backgroundcolor\":\"#E5ECF6\",\"gridcolor\":\"white\",\"gridwidth\":2,\"linecolor\":\"white\",\"showbackground\":true,\"ticks\":\"\",\"zerolinecolor\":\"white\"},\"yaxis\":{\"backgroundcolor\":\"#E5ECF6\",\"gridcolor\":\"white\",\"gridwidth\":2,\"linecolor\":\"white\",\"showbackground\":true,\"ticks\":\"\",\"zerolinecolor\":\"white\"},\"zaxis\":{\"backgroundcolor\":\"#E5ECF6\",\"gridcolor\":\"white\",\"gridwidth\":2,\"linecolor\":\"white\",\"showbackground\":true,\"ticks\":\"\",\"zerolinecolor\":\"white\"}},\"shapedefaults\":{\"line\":{\"color\":\"#2a3f5f\"}},\"ternary\":{\"aaxis\":{\"gridcolor\":\"white\",\"linecolor\":\"white\",\"ticks\":\"\"},\"baxis\":{\"gridcolor\":\"white\",\"linecolor\":\"white\",\"ticks\":\"\"},\"bgcolor\":\"#E5ECF6\",\"caxis\":{\"gridcolor\":\"white\",\"linecolor\":\"white\",\"ticks\":\"\"}},\"title\":{\"x\":0.05},\"xaxis\":{\"automargin\":true,\"gridcolor\":\"white\",\"linecolor\":\"white\",\"ticks\":\"\",\"title\":{\"standoff\":15},\"zerolinecolor\":\"white\",\"zerolinewidth\":2},\"yaxis\":{\"automargin\":true,\"gridcolor\":\"white\",\"linecolor\":\"white\",\"ticks\":\"\",\"title\":{\"standoff\":15},\"zerolinecolor\":\"white\",\"zerolinewidth\":2}}},\"title\":{\"text\":\"Ethereum live share price evolution\"},\"yaxis\":{\"title\":{\"text\":\"Ethereum Price (kUS Dollars)\"}},\"xaxis\":{\"rangeslider\":{\"visible\":true},\"rangeselector\":{\"buttons\":[{\"count\":15,\"label\":\"15m\",\"step\":\"minute\",\"stepmode\":\"backward\"},{\"count\":45,\"label\":\"45m\",\"step\":\"minute\",\"stepmode\":\"backward\"},{\"count\":1,\"label\":\"HTD\",\"step\":\"hour\",\"stepmode\":\"todate\"},{\"count\":6,\"label\":\"6h\",\"step\":\"hour\",\"stepmode\":\"backward\"},{\"step\":\"all\"}]}}},                        {\"responsive\": true}                    ).then(function(){\n",
              "                            \n",
              "var gd = document.getElementById('673f4caa-16b0-478e-8108-2608722baddd');\n",
              "var x = new MutationObserver(function (mutations, observer) {{\n",
              "        var display = window.getComputedStyle(gd).display;\n",
              "        if (!display || display === 'none') {{\n",
              "            console.log([gd, 'removed!']);\n",
              "            Plotly.purge(gd);\n",
              "            observer.disconnect();\n",
              "        }}\n",
              "}});\n",
              "\n",
              "// Listen for the removal of the full notebook cells\n",
              "var notebookContainer = gd.closest('#notebook-container');\n",
              "if (notebookContainer) {{\n",
              "    x.observe(notebookContainer, {childList: true});\n",
              "}}\n",
              "\n",
              "// Listen for the clearing of the current output cell\n",
              "var outputEl = gd.closest('.output');\n",
              "if (outputEl) {{\n",
              "    x.observe(outputEl, {childList: true});\n",
              "}}\n",
              "\n",
              "                        })                };                            </script>        </div>\n",
              "</body>\n",
              "</html>"
            ]
          },
          "metadata": {}
        }
      ]
    },
    {
      "cell_type": "markdown",
      "metadata": {
        "id": "gzNF3n6qbCBM"
      },
      "source": [
        "## Clusterization"
      ]
    },
    {
      "cell_type": "markdown",
      "metadata": {
        "id": "uWuURojDgw_a"
      },
      "source": [
        "1. Cluserization using Kmeans without generated features\n",
        "2. Cluserization using Kmeans with generated features\n",
        "\n",
        "\n",
        "\n"
      ]
    },
    {
      "cell_type": "markdown",
      "source": [
        "### 1. Cluserization using Kmeans without generated features"
      ],
      "metadata": {
        "id": "Gz7PTJWIOGHC"
      }
    },
    {
      "cell_type": "markdown",
      "metadata": {
        "id": "J6mpIc9ZhgIH"
      },
      "source": [
        "Create new dataframe assets_norm with normalized assets"
      ]
    },
    {
      "cell_type": "code",
      "metadata": {
        "id": "112_JhOIBM1G"
      },
      "source": [
        "assets.fillna(0, inplace=True)"
      ],
      "execution_count": 29,
      "outputs": []
    },
    {
      "cell_type": "code",
      "metadata": {
        "id": "IX_HvWlV7YqM"
      },
      "source": [
        "scaled_data = StandardScaler().fit_transform(assets).T"
      ],
      "execution_count": 30,
      "outputs": []
    },
    {
      "cell_type": "markdown",
      "metadata": {
        "id": "nueZe7PIJmT-"
      },
      "source": [
        "Defining the number of clusters"
      ]
    },
    {
      "cell_type": "markdown",
      "metadata": {
        "id": "W8QjpxiXHcL7"
      },
      "source": [
        "*   Analysis of SSE and silhoette\n",
        "*   Defining the number of clusters\n",
        "\n"
      ]
    },
    {
      "cell_type": "markdown",
      "metadata": {
        "id": "ra4Ae3F7IMJG"
      },
      "source": [
        "The higher silhouette - the better <br>\n",
        "The lower SSE - the better"
      ]
    },
    {
      "cell_type": "code",
      "metadata": {
        "colab": {
          "base_uri": "https://localhost:8080/",
          "height": 297
        },
        "id": "F7r8CsymOH-k",
        "outputId": "c0f1667b-3f8d-4dec-e843-c22049d8c101"
      },
      "source": [
        "sse = []\n",
        "silhouette = []\n",
        "K = range(2, 11)\n",
        "for k in tqdm(K):\n",
        "    kmeanModel = TimeSeriesKMeans(n_clusters=k, metric='euclidean', init='random', max_iter=300)\n",
        "    kmeanModel.fit(scaled_data)\n",
        "    sse.append(kmeanModel.inertia_)\n",
        "    silhouette.append(silhouette_score(scaled_data, kmeanModel.labels_, metric='euclidean'))\n",
        "\n",
        "fig, ax1 = plt.subplots()\n",
        "ax2 = ax1.twinx()\n",
        "\n",
        "ax1.plot(sse, 'b-')\n",
        "ax2.plot(silhouette, 'r-')\n",
        "\n",
        "ax1.set_xlabel('clusters')\n",
        "ax1.set_ylabel('SSE', color='b')\n",
        "ax2.set_ylabel('Silhouette', color='r')\n",
        "\n",
        "plt.show()"
      ],
      "execution_count": 44,
      "outputs": [
        {
          "output_type": "stream",
          "name": "stderr",
          "text": [
            "100%|██████████| 9/9 [00:00<00:00, 37.91it/s]\n"
          ]
        },
        {
          "output_type": "display_data",
          "data": {
            "text/plain": [
              "<Figure size 432x288 with 2 Axes>"
            ],
            "image/png": "[encoded data removed]"
          },
          "metadata": {
            "needs_background": "light"
          }
        }
      ]
    },
    {
      "cell_type": "markdown",
      "metadata": {
        "id": "XY13jo6EIsfG"
      },
      "source": [
        "Number of clusters chosen: 6"
      ]
    },
    {
      "cell_type": "code",
      "metadata": {
        "colab": {
          "base_uri": "https://localhost:8080/"
        },
        "id": "blx_ZTL-Vig_",
        "outputId": "2ec8e38e-1641-436c-8983-b73b6bfcf3fd"
      },
      "source": [
        "n_clusters = 6\n",
        "ts_kmeans = TimeSeriesKMeans(n_clusters=n_clusters, metric='euclidean', init='random', max_iter=300)\n",
        "ts_kmeans.fit(scaled_data) #predicting cluster of the assets given "
      ],
      "execution_count": 46,
      "outputs": [
        {
          "output_type": "execute_result",
          "data": {
            "text/plain": [
              "TimeSeriesKMeans(init='random', max_iter=300, n_clusters=6)"
            ]
          },
          "metadata": {},
          "execution_count": 46
        }
      ]
    },
    {
      "cell_type": "markdown",
      "source": [
        "Visualization of cluster centroids"
      ],
      "metadata": {
        "id": "ybOOr3zjOWsi"
      }
    },
    {
      "cell_type": "code",
      "metadata": {
        "colab": {
          "base_uri": "https://localhost:8080/",
          "height": 281
        },
        "id": "_JG9VL55mZOy",
        "outputId": "5a13bf4e-afd3-4f14-c050-4a6b49a58b32"
      },
      "source": [
        "for cluster in range(n_clusters):\n",
        "  plt.plot(ts_kmeans.cluster_centers_[cluster, :, 0], label=cluster)\n",
        "plt.title('Cluster centroids')\n",
        "plt.legend()\n",
        "plt.show()"
      ],
      "execution_count": 47,
      "outputs": [
        {
          "output_type": "display_data",
          "data": {
            "text/plain": [
              "<Figure size 432x288 with 1 Axes>"
            ],
            "image/png": "[encoded data removed]"
          },
          "metadata": {
            "needs_background": "light"
          }
        }
      ]
    },
    {
      "cell_type": "markdown",
      "metadata": {
        "id": "HAmmYqhxJWWW"
      },
      "source": [
        "Addition of a column **clusters** to the dataframe assets_transposed"
      ]
    },
    {
      "cell_type": "code",
      "metadata": {
        "id": "McHtP3pPh7Uv"
      },
      "source": [
        "assets_transposed = assets.T"
      ],
      "execution_count": 48,
      "outputs": []
    },
    {
      "cell_type": "code",
      "source": [
        "assets_transposed['clusters'] = ts_kmeans.predict(scaled_data)"
      ],
      "metadata": {
        "colab": {
          "base_uri": "https://localhost:8080/"
        },
        "id": "1hXybAXVkVuy",
        "outputId": "1cc5cbb8-e9a5-4bc4-e4e4-c2c7cad964a8"
      },
      "execution_count": 49,
      "outputs": [
        {
          "output_type": "stream",
          "name": "stderr",
          "text": [
            "/usr/local/lib/python3.7/dist-packages/tslearn/utils/utils.py:89: UserWarning:\n",
            "\n",
            "2-Dimensional data passed. Assuming these are 30 1-dimensional timeseries\n",
            "\n"
          ]
        }
      ]
    },
    {
      "cell_type": "markdown",
      "metadata": {
        "id": "IVd_7PHAJgL4"
      },
      "source": [
        "Cryptos' visualization in the particular cluster"
      ]
    },
    {
      "cell_type": "code",
      "metadata": {
        "id": "rOBxx-s93dOz",
        "colab": {
          "base_uri": "https://localhost:8080/",
          "height": 1000
        },
        "outputId": "11ffe0a7-7218-487c-81c2-1cf9aa345d3b"
      },
      "source": [
        "visualize_cluster(5, assets_transposed)"
      ],
      "execution_count": 54,
      "outputs": [
        {
          "output_type": "stream",
          "name": "stdout",
          "text": [
            "There are 5 in 5 cluster\n"
          ]
        },
        {
          "output_type": "display_data",
          "data": {
            "text/plain": [
              "<Figure size 432x288 with 1 Axes>"
            ],
            "image/png": "[encoded data removed]"
          },
          "metadata": {
            "needs_background": "light"
          }
        },
        {
          "output_type": "display_data",
          "data": {
            "text/plain": [
              "<Figure size 432x288 with 1 Axes>"
            ],
            "image/png": "[encoded data removed]"
          },
          "metadata": {
            "needs_background": "light"
          }
        },
        {
          "output_type": "display_data",
          "data": {
            "text/plain": [
              "<Figure size 432x288 with 1 Axes>"
            ],
            "image/png": "[encoded data removed]"
          },
          "metadata": {
            "needs_background": "light"
          }
        },
        {
          "output_type": "display_data",
          "data": {
            "text/plain": [
              "<Figure size 432x288 with 1 Axes>"
            ],
            "image/png": "[encoded data removed]"
          },
          "metadata": {
            "needs_background": "light"
          }
        },
        {
          "output_type": "display_data",
          "data": {
            "text/plain": [
              "<Figure size 432x288 with 1 Axes>"
            ],
            "image/png": "[encoded data removed]"
          },
          "metadata": {
            "needs_background": "light"
          }
        }
      ]
    },
    {
      "cell_type": "markdown",
      "metadata": {
        "id": "TyZh7Y935QQP"
      },
      "source": [
        "### 2. Cluserization using Kmeans with generated features"
      ]
    },
    {
      "cell_type": "markdown",
      "source": [
        "Normalization of assets <br> $z=\\frac{(x_i - \\overline {x})} {σ}$\n"
      ],
      "metadata": {
        "id": "g72c5Cc_0lwV"
      }
    },
    {
      "cell_type": "code",
      "source": [
        "norm_assets = assets.copy()\n",
        "norm_assets.fillna(norm_assets.mean(), inplace=True)"
      ],
      "metadata": {
        "id": "O3sBxC5EmF01"
      },
      "execution_count": 101,
      "outputs": []
    },
    {
      "cell_type": "code",
      "source": [
        "for column_ in norm_assets.columns:\n",
        "  for i in range(norm_assets.shape[0]):\n",
        "      norm_assets[column_][i] = (norm_assets[column_][i] - np.nanmean(norm_assets[column_])) / np.std(norm_assets[column_])"
      ],
      "metadata": {
        "id": "2mOJDH--nMdY"
      },
      "execution_count": 102,
      "outputs": []
    },
    {
      "cell_type": "code",
      "source": [
        "norm_assets_tr = norm_assets.T.copy()"
      ],
      "metadata": {
        "id": "6N6Y_1VTaXC4"
      },
      "execution_count": 103,
      "outputs": []
    },
    {
      "cell_type": "code",
      "source": [
        "norm_assets_tr['crypto'] = norm_assets_tr.index"
      ],
      "metadata": {
        "id": "TOITj875WvJT"
      },
      "execution_count": 104,
      "outputs": []
    },
    {
      "cell_type": "code",
      "source": [
        "assets_tr = assets.T.copy()"
      ],
      "metadata": {
        "id": "nNjZS-S9zkWR"
      },
      "execution_count": 105,
      "outputs": []
    },
    {
      "cell_type": "markdown",
      "source": [
        "Addition of relevant parameters"
      ],
      "metadata": {
        "id": "FwMAhVfvK5C9"
      }
    },
    {
      "cell_type": "code",
      "source": [
        "settings_efficient = settings.TimeBasedFCParameters()\n",
        "settings_efficient.update(settings.MinimalFCParameters())\n",
        "settings_efficient.update(settings.IndexBasedFCParameters())"
      ],
      "metadata": {
        "id": "1Cwo0pI7zRdF"
      },
      "execution_count": 106,
      "outputs": []
    },
    {
      "cell_type": "markdown",
      "source": [
        "Feature generation "
      ],
      "metadata": {
        "id": "-FGEk-__NZjc"
      }
    },
    {
      "cell_type": "code",
      "source": [
        "EXTRACT = True\n",
        "\n",
        "if EXTRACT:\n",
        "    x_norm = extract_features(norm_assets_tr, settings_efficient, column_id='crypto')\n",
        "    x_norm.to_csv('X_train_tsfel_norm.csv')\n",
        "else:\n",
        "    x_norm = pd.read_csv('X_train_tsfel_norm.csv', index_col=0)\n",
        "\n",
        "x_norm.shape"
      ],
      "metadata": {
        "colab": {
          "base_uri": "https://localhost:8080/"
        },
        "id": "ptgZiTqm0oV5",
        "outputId": "4f5ecb69-7e8c-4009-b023-3e056e90b231"
      },
      "execution_count": 107,
      "outputs": [
        {
          "output_type": "stream",
          "name": "stderr",
          "text": [
            "Feature Extraction: 100%|██████████| 16350/16350 [00:23<00:00, 702.69it/s]\n"
          ]
        },
        {
          "output_type": "execute_result",
          "data": {
            "text/plain": [
              "(30, 7085)"
            ]
          },
          "metadata": {},
          "execution_count": 107
        }
      ]
    },
    {
      "cell_type": "markdown",
      "source": [
        "7085 features were generated <br>\n",
        "\n",
        "Tasks:\n",
        "*   Drop NaN  \n",
        "*   Drop duplicate columns \n",
        "*   Drop columns with the opposite sign\n"
      ],
      "metadata": {
        "id": "RIfvzZYoNeFd"
      }
    },
    {
      "cell_type": "markdown",
      "source": [
        "\n",
        "\n",
        "*   Drop NaN\n",
        "\n",
        "\n"
      ],
      "metadata": {
        "id": "amlSLa25JDk1"
      }
    },
    {
      "cell_type": "code",
      "source": [
        "x_norm.dropna(inplace=True, axis=1)"
      ],
      "metadata": {
        "id": "tE9jIHgS3WfD"
      },
      "execution_count": 113,
      "outputs": []
    },
    {
      "cell_type": "code",
      "source": [
        "x_norm.shape"
      ],
      "metadata": {
        "colab": {
          "base_uri": "https://localhost:8080/"
        },
        "id": "pZ2q_60c4Fen",
        "outputId": "3fe2840c-e609-4131-a317-8917d4106f67"
      },
      "execution_count": 114,
      "outputs": [
        {
          "output_type": "execute_result",
          "data": {
            "text/plain": [
              "(30, 5995)"
            ]
          },
          "metadata": {},
          "execution_count": 114
        }
      ]
    },
    {
      "cell_type": "markdown",
      "source": [
        "*   Drop duplicates: their corr = +1 \n",
        "*   Drop columns with the opposite sign: their corr = -1 \n",
        "\n"
      ],
      "metadata": {
        "id": "JQ1_PBFY-kwn"
      }
    },
    {
      "cell_type": "code",
      "source": [
        "x_red = x_norm.T.drop_duplicates(ignore_index=True).T"
      ],
      "metadata": {
        "id": "Ly70djTtAbkL"
      },
      "execution_count": 115,
      "outputs": []
    },
    {
      "cell_type": "code",
      "source": [
        "x_red_pos = x_red[(x_red > 0)].dropna(axis=1)"
      ],
      "metadata": {
        "id": "LK2SqbjVALPP"
      },
      "execution_count": 116,
      "outputs": []
    },
    {
      "cell_type": "code",
      "source": [
        "x_red_pos.shape"
      ],
      "metadata": {
        "colab": {
          "base_uri": "https://localhost:8080/"
        },
        "id": "wRR0JAcVmvOB",
        "outputId": "33716546-d264-4fd0-e247-c266229e5fcf"
      },
      "execution_count": 117,
      "outputs": [
        {
          "output_type": "execute_result",
          "data": {
            "text/plain": [
              "(30, 546)"
            ]
          },
          "metadata": {},
          "execution_count": 117
        }
      ]
    },
    {
      "cell_type": "markdown",
      "source": [
        "There are 546 generated features without duplicates and NaN"
      ],
      "metadata": {
        "id": "qLGIO8MYKF0f"
      }
    },
    {
      "cell_type": "markdown",
      "source": [
        "Features with a variance lower than the threshold are removed"
      ],
      "metadata": {
        "id": "0Tf0i_3S_ZkM"
      }
    },
    {
      "cell_type": "code",
      "source": [
        "selector = VarianceThreshold()\n",
        "X_reduced_pos = selector.fit_transform(x_red_pos)"
      ],
      "metadata": {
        "id": "kjF4UdVLAuMB"
      },
      "execution_count": 118,
      "outputs": []
    },
    {
      "cell_type": "markdown",
      "source": [
        "545 features left"
      ],
      "metadata": {
        "id": "MmpRLawgKNJA"
      }
    },
    {
      "cell_type": "code",
      "source": [
        "X_reduced_pos.shape"
      ],
      "metadata": {
        "colab": {
          "base_uri": "https://localhost:8080/"
        },
        "id": "MCsqO79jAxQ3",
        "outputId": "7b97f362-3ac2-41cb-bafe-5d9b0ac304ed"
      },
      "execution_count": 119,
      "outputs": [
        {
          "output_type": "execute_result",
          "data": {
            "text/plain": [
              "(30, 545)"
            ]
          },
          "metadata": {},
          "execution_count": 119
        }
      ]
    },
    {
      "cell_type": "markdown",
      "source": [
        "*   Analysis of SSE and silhoette\n",
        "*   Definition of the number of clusters\n"
      ],
      "metadata": {
        "id": "SBI51-FQNUqo"
      }
    },
    {
      "cell_type": "code",
      "source": [
        "sse = []\n",
        "silhouette = []\n",
        "K = range(2, 11)\n",
        "for k in tqdm(K):\n",
        "    kmeanModel = TimeSeriesKMeans(n_clusters=k, metric='euclidean', init='random', max_iter=300)\n",
        "    kmeanModel.fit(X_reduced_pos)\n",
        "    sse.append(kmeanModel.inertia_)\n",
        "    silhouette.append(silhouette_score(X_reduced_pos, kmeanModel.labels_, metric='euclidean'))\n",
        "\n",
        "fig, ax1 = plt.subplots()\n",
        "ax2 = ax1.twinx()\n",
        "\n",
        "ax1.plot(sse, 'b-')\n",
        "ax2.plot(silhouette, 'r-')\n",
        "\n",
        "ax1.set_xlabel('clusters')\n",
        "ax1.set_ylabel('SSE', color='b')\n",
        "ax2.set_ylabel('Silhouette', color='r')\n",
        "\n",
        "plt.show()\n"
      ],
      "metadata": {
        "colab": {
          "base_uri": "https://localhost:8080/",
          "height": 297
        },
        "id": "4d5OQpfGA0Uh",
        "outputId": "13737c45-1622-4f07-9e9d-0a5a553e207f"
      },
      "execution_count": 121,
      "outputs": [
        {
          "output_type": "stream",
          "name": "stderr",
          "text": [
            "100%|██████████| 9/9 [00:00<00:00, 45.41it/s]\n"
          ]
        },
        {
          "output_type": "display_data",
          "data": {
            "text/plain": [
              "<Figure size 432x288 with 2 Axes>"
            ],
            "image/png": "[encoded data removed]"
          },
          "metadata": {
            "needs_background": "light"
          }
        }
      ]
    },
    {
      "cell_type": "markdown",
      "source": [
        "Number of clusters = 5"
      ],
      "metadata": {
        "id": "PFc3xOdYKQN_"
      }
    },
    {
      "cell_type": "code",
      "source": [
        "n_clusters = 5\n",
        "ts_kmeans = TimeSeriesKMeans(n_clusters=n_clusters, metric='euclidean', init='random', max_iter=300)\n",
        "ts_kmeans.fit(X_reduced_pos) #predicting cluster of the assets given \n",
        "\n",
        "for cluster in range(n_clusters):\n",
        "  plt.plot(ts_kmeans.cluster_centers_[cluster, :, 0], label=cluster)\n",
        "plt.title('Cluster centroids')\n",
        "plt.legend()\n",
        "plt.show()"
      ],
      "metadata": {
        "colab": {
          "base_uri": "https://localhost:8080/",
          "height": 281
        },
        "id": "NA6r1fFUA7D4",
        "outputId": "749e4259-f155-4df8-d39f-afa6ef356dc8"
      },
      "execution_count": 122,
      "outputs": [
        {
          "output_type": "display_data",
          "data": {
            "text/plain": [
              "<Figure size 432x288 with 1 Axes>"
            ],
            "image/png": "[encoded data removed]"
          },
          "metadata": {
            "needs_background": "light"
          }
        }
      ]
    },
    {
      "cell_type": "markdown",
      "source": [
        "Addition of a column **crypto** with predicted classes to **assets_features_pos** dataframe"
      ],
      "metadata": {
        "id": "ZP9JnIJyMbJr"
      }
    },
    {
      "cell_type": "code",
      "source": [
        "x_red_pos['clusters'] = ts_kmeans.predict(X_reduced_pos)\n",
        "assets_features_pos = assets_tr.join(x_red_pos[['clusters']])"
      ],
      "metadata": {
        "colab": {
          "base_uri": "https://localhost:8080/"
        },
        "id": "5ZQHeU6fBBCW",
        "outputId": "3f453a7b-8d8c-496a-e313-b8667cc02ec2"
      },
      "execution_count": 127,
      "outputs": [
        {
          "output_type": "stream",
          "name": "stderr",
          "text": [
            "/usr/local/lib/python3.7/dist-packages/tslearn/utils/utils.py:89: UserWarning:\n",
            "\n",
            "2-Dimensional data passed. Assuming these are 30 1-dimensional timeseries\n",
            "\n"
          ]
        }
      ]
    },
    {
      "cell_type": "markdown",
      "source": [
        "Visualization of the clusterization with generated features"
      ],
      "metadata": {
        "id": "WEgRyZiiKVRE"
      }
    },
    {
      "cell_type": "code",
      "source": [
        "visualize_cluster(1, assets_features_pos)"
      ],
      "metadata": {
        "id": "V-T-jBsQISE3",
        "colab": {
          "base_uri": "https://localhost:8080/",
          "height": 908
        },
        "outputId": "92065d82-c247-4467-f4c9-11b7692c6b68"
      },
      "execution_count": 129,
      "outputs": [
        {
          "output_type": "stream",
          "name": "stdout",
          "text": [
            "There are 3 in 1 cluster\n"
          ]
        },
        {
          "output_type": "display_data",
          "data": {
            "text/plain": [
              "<Figure size 432x288 with 1 Axes>"
            ],
            "image/png": "[encoded data removed]"
          },
          "metadata": {
            "needs_background": "light"
          }
        },
        {
          "output_type": "display_data",
          "data": {
            "text/plain": [
              "<Figure size 432x288 with 1 Axes>"
            ],
            "image/png": "[encoded data removed]"
          },
          "metadata": {
            "needs_background": "light"
          }
        },
        {
          "output_type": "display_data",
          "data": {
            "text/plain": [
              "<Figure size 432x288 with 1 Axes>"
            ],
            "image/png": "[encoded data removed]"
          },
          "metadata": {
            "needs_background": "light"
          }
        }
      ]
    }
  ]
}