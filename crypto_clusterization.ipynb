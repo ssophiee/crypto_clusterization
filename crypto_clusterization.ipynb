{
  "nbformat": 4,
  "nbformat_minor": 0,
  "metadata": {
    "colab": {
      "name": "crypto_clusterization.ipynb",
      "provenance": [],
      "collapsed_sections": [
        "BbybyOJRIwP2",
        "ez79v_t72pnK",
        "0A9ryvbn3PnU",
        "14VDrRodIIT4",
        "gzNF3n6qbCBM",
        "Gz7PTJWIOGHC",
        "TyZh7Y935QQP"
      ]
    },
    "kernelspec": {
      "name": "python3",
      "display_name": "Python 3"
    },
    "language_info": {
      "name": "python"
    }
  },
  "cells": [
    {
      "cell_type": "markdown",
      "metadata": {
        "id": "BbybyOJRIwP2"
      },
      "source": [
        "## Libraries"
      ]
    },
    {
      "cell_type": "code",
      "source": [
        "# !pip install tslearn\n",
        "# !pip install yfinance\n",
        "# !pip install tsfresh\n",
        "# !pip install stumpy \n",
        "# !pip install statsmodels==0.11.1\n",
        "# !pip install python-dateutil=2.7.3 \n",
        "# !pip install scipy==1.5\n",
        "# !pip install numba==0.54"
      ],
      "metadata": {
        "id": "ga9TqZMgPyJe"
      },
      "execution_count": 4,
      "outputs": []
    },
    {
      "cell_type": "code",
      "metadata": {
        "id": "hfZdVyuF0ltZ"
      },
      "source": [
        "import numba\n",
        "import stumpy\n",
        "\n",
        "import plotly.graph_objs as go\n",
        "\n",
        "import yfinance as yf\n",
        "\n",
        "import pandas as pd\n",
        "import numpy as np\n",
        "\n",
        "import datetime  \n",
        "\n",
        "import matplotlib.pyplot as plt\n",
        "\n",
        "import seaborn as sns\n",
        "\n",
        "import tqdm\n",
        "from tqdm import tqdm\n",
        "import tslearn\n",
        "\n",
        "from tslearn.clustering import TimeSeriesKMeans, silhouette_score\n",
        "from sklearn.cluster import KMeans\n",
        "from sklearn.preprocessing import StandardScaler\n",
        "\n",
        "\n",
        "import tsfresh\n",
        "from tsfresh import extract_features, extract_relevant_features, select_features, feature_extraction\n",
        "from tsfresh.feature_extraction import settings\n",
        "\n",
        "from sklearn.feature_selection import VarianceThreshold"
      ],
      "execution_count": 5,
      "outputs": []
    },
    {
      "cell_type": "markdown",
      "metadata": {
        "id": "ez79v_t72pnK"
      },
      "source": [
        "## Functions "
      ]
    },
    {
      "cell_type": "code",
      "metadata": {
        "id": "OMwjwQTvoz3m"
      },
      "source": [
        "def Candlestick_month(symbol, name):\n",
        "    ''' Returns the candlestick graph dynamics per month\n",
        "  \n",
        "    Parameters\n",
        "    ----------\n",
        "    symbol: str\n",
        "        ticker symbol for a company \n",
        "    name: str\n",
        "        company name for a graph\n",
        "    \n",
        "    '''\n",
        "\n",
        "    fig = go.Figure()\n",
        "\n",
        "    asset = yf.download(tickers=symbol, period = '1mo', interval = '1d')\n",
        "    #Candlestick\n",
        "    fig.add_trace(go.Candlestick(x=asset.index,\n",
        "                    open=asset['Open'],\n",
        "                    high=asset['High'],\n",
        "                    low=asset['Low'],\n",
        "                    close=asset['Close'], name = 'market data'))\n",
        "\n",
        "    # Add titles\n",
        "    fig.update_layout(\n",
        "        title= f'{name} live share price evolution',\n",
        "        yaxis_title= f'{name} Price (kUS Dollars)')\n",
        "\n",
        "    #Show\n",
        "    fig.show()"
      ],
      "execution_count": 9,
      "outputs": []
    },
    {
      "cell_type": "code",
      "metadata": {
        "id": "zHTWd5Fd2m4q"
      },
      "source": [
        "# Candlestick graph dynamics per day\n",
        "\n",
        "def Candlestick(symbol, name):\n",
        "    ''' Returns the candlestick graph dynamics per day\n",
        "  \n",
        "    Parameters\n",
        "    ----------\n",
        "    symbol: str\n",
        "        ticker symbol for a company \n",
        "    name: str\n",
        "        company name for a graph\n",
        "    \n",
        "    '''\n",
        "\n",
        "    fig = go.Figure()\n",
        "\n",
        "    asset = yf.download(tickers=symbol, period = '22h', interval = '15m')\n",
        "    #Candlestick\n",
        "    fig.add_trace(go.Candlestick(x=asset.index,\n",
        "                    open=asset['Open'],\n",
        "                    high=asset['High'],\n",
        "                    low=asset['Low'],\n",
        "                    close=asset['Close'], name = 'market data'))\n",
        "\n",
        "    # Add titles\n",
        "    fig.update_layout(\n",
        "        title= f'{name} live share price evolution',\n",
        "        yaxis_title= f'{name} Price (kUS Dollars)')\n",
        "\n",
        "    # X-Axes\n",
        "    fig.update_xaxes(\n",
        "        rangeslider_visible=True,\n",
        "        rangeselector=dict(\n",
        "            buttons=list([\n",
        "                dict(count=15, label=\"15m\", step=\"minute\", stepmode=\"backward\"),\n",
        "                dict(count=45, label=\"45m\", step=\"minute\", stepmode=\"backward\"),\n",
        "                dict(count=1, label=\"HTD\", step=\"hour\", stepmode=\"todate\"),\n",
        "                dict(count=6, label=\"6h\", step=\"hour\", stepmode=\"backward\"),\n",
        "                dict(step=\"all\")\n",
        "            ])\n",
        "        )\n",
        "    )\n",
        "\n",
        "    #Show\n",
        "    fig.show()"
      ],
      "execution_count": 10,
      "outputs": []
    },
    {
      "cell_type": "code",
      "metadata": {
        "id": "uI5BI7v_4qs4"
      },
      "source": [
        "#Information about an asset\n",
        "\n",
        "def crypto_info(symbol, year_start=2021, month_start=1, day_start=1, year_end=2021, month_end=11, day_end=14):\n",
        "    ''' Returns the information about the company's stock price\n",
        "  \n",
        "    Parameters\n",
        "    ----------\n",
        "    symbol: str\n",
        "        ticker symbol for a company \n",
        "    year_start: int\n",
        "        year when the analysis begins [default=2021]\n",
        "    month_start: \n",
        "        month when the analysis begins [default=1]\n",
        "    day_start:\n",
        "        day when the analysis begins [default=1]\n",
        "    year_end:\n",
        "        year when the analysis ends [default=2021]\n",
        "    month_end:\n",
        "        month when the analysis ends [default=11]\n",
        "    day_end: \n",
        "        day when the analysis ends [default=14]\n",
        "    '''\n",
        "\n",
        "    start = datetime.datetime(year_start, month_start, day_start)\n",
        "    end = datetime.datetime(year_end, month_end, day_end) \n",
        "\n",
        "    asset_info = yf.download(symbol, start=start, end=end)\n",
        "    return asset_info"
      ],
      "execution_count": 13,
      "outputs": []
    },
    {
      "cell_type": "code",
      "source": [
        "def visualize_cluster(current_cluster, df):\n",
        "    ''' Returns the graph with a chosen cluster\n",
        "  \n",
        "    Parameters\n",
        "    ----------\n",
        "    current_cluster: int\n",
        "        cluster for visulaization\n",
        "    df: dataframe\n",
        "        dataframe with clusters \n",
        "    '''\n",
        "    list_asset = [asset for asset in df.index if df.loc[asset, 'clusters'] == current_cluster]          \n",
        "    print(f'There are {len(list_asset)} in {current_cluster} cluster')\n",
        "    for i in range(df.shape[0]): #fig, ax = plt.subplots(,3)\n",
        "        line = df['clusters'][i]\n",
        "        if line == current_cluster:\n",
        "            plt.plot(df.iloc[i, :-1])\n",
        "            plt.xticks(rotation=45)\n",
        "            plt.title(df.index[i])\n",
        "            plt.show()"
      ],
      "metadata": {
        "id": "AFQDcVyaLbJs"
      },
      "execution_count": 15,
      "outputs": []
    },
    {
      "cell_type": "markdown",
      "metadata": {
        "id": "8lmrglzG21Kc"
      },
      "source": [
        "## Crypto Analysis"
      ]
    },
    {
      "cell_type": "markdown",
      "metadata": {
        "id": "-CG8T5GxJyqR"
      },
      "source": [
        "Top cryptos by market cap were selected [09/07/2022]\n",
        "source: [yahoo-finance watchlist](https://finance.yahoo.com/u/yahoo-finance/watchlists/crypto-top-market-cap/)"
      ]
    },
    {
      "cell_type": "code",
      "source": [
        "html_df = pd.read_html('/content/stocks_data.html')[1]"
      ],
      "metadata": {
        "id": "-FcR2N7EZ0JW"
      },
      "execution_count": 152,
      "outputs": []
    },
    {
      "cell_type": "code",
      "source": [
        "cryptos = list(html_df['Symbol'])"
      ],
      "metadata": {
        "id": "GGxLO_Q4Z5CO"
      },
      "execution_count": 37,
      "outputs": []
    },
    {
      "cell_type": "markdown",
      "metadata": {
        "id": "0A9ryvbn3PnU"
      },
      "source": [
        "## DataFrame with closing prices of cryptos"
      ]
    },
    {
      "cell_type": "code",
      "source": [
        "start = datetime.datetime(2021, 1, 10)\n",
        "end = datetime.datetime(2021, 7, 8)\n",
        "\n",
        "assets = pd.DataFrame()\n",
        "for i in cryptos:\n",
        "  assets[i] = yf.download(i, start=start, end=end)['Close']"
      ],
      "metadata": {
        "id": "BYGn6QH7aoD2"
      },
      "execution_count": null,
      "outputs": []
    },
    {
      "cell_type": "code",
      "metadata": {
        "colab": {
          "base_uri": "https://localhost:8080/",
          "height": 435
        },
        "id": "Vwycgf-KIHvg",
        "outputId": "1ff3f382-0203-41ab-ad2d-5321471fe31c"
      },
      "source": [
        "assets.tail()"
      ],
      "execution_count": 39,
      "outputs": [
        {
          "output_type": "execute_result",
          "data": {
            "text/plain": [
              "                 BTC-USD      ETH-USD  USDT-USD  USDC-USD     BNB-USD  \\\n",
              "Date                                                                    \n",
              "2021-07-04  35287.781250  2321.724121  0.999501  0.999500  307.732086   \n",
              "2021-07-05  33746.003906  2198.582520  1.000667  1.000528  302.377991   \n",
              "2021-07-06  34235.195312  2324.679443  1.000090  1.000059  320.934814   \n",
              "2021-07-07  33855.328125  2315.161865  1.000708  1.000370  327.522461   \n",
              "2021-07-08  32877.371094  2120.026367  0.999900  0.999945  310.427124   \n",
              "\n",
              "            BUSD-USD   XRP-USD   ADA-USD    SOL-USD  DOGE-USD  ...   UNI1-USD  \\\n",
              "Date                                                           ...              \n",
              "2021-07-04  0.999373  0.694945  1.458184  34.310600  0.246483  ...  20.771873   \n",
              "2021-07-05  1.000414  0.654300  1.404898  32.984589  0.231614  ...  20.095181   \n",
              "2021-07-06  1.000021  0.665402  1.418053  34.269138  0.234422  ...  22.400187   \n",
              "2021-07-07  1.000484  0.651575  1.403118  36.591370  0.224126  ...  22.231146   \n",
              "2021-07-08  0.999917  0.623058  1.330146  33.203728  0.207597  ...  20.400131   \n",
              "\n",
              "            YOUC-USD    STETH-USD    FTT-USD     LTC-USD   CRO-USD   LINK-USD  \\\n",
              "Date                                                                            \n",
              "2021-07-04  0.052906  2321.341064  27.449049  144.905853  0.122427  19.262838   \n",
              "2021-07-05  0.069485  2204.333740  25.368855  138.073242  0.115814  18.371590   \n",
              "2021-07-06  0.068797  2324.837158  28.817072  138.985641  0.122856  20.080465   \n",
              "2021-07-07  0.064618  2307.621338  30.022102  137.371216  0.119605  19.764128   \n",
              "2021-07-08  0.061079  2126.748535  28.761093  132.308502  0.114718  18.422050   \n",
              "\n",
              "             XLM-USD  NEAR-USD   ATOM-USD  \n",
              "Date                                       \n",
              "2021-07-04  0.268128  2.291444  12.263548  \n",
              "2021-07-05  0.254456  2.172307  13.548475  \n",
              "2021-07-06  0.260190  2.259642  13.159371  \n",
              "2021-07-07  0.256940  2.294410  12.926386  \n",
              "2021-07-08  0.243421  2.104819  11.928683  \n",
              "\n",
              "[5 rows x 30 columns]"
            ],
            "text/html": [
              "\n",
              "  <div id=\"df-5beba6bb-e76b-46cc-9414-05ce6bc73bb9\">\n",
              "    <div class=\"colab-df-container\">\n",
              "      <div>\n",
              "<style scoped>\n",
              "    .dataframe tbody tr th:only-of-type {\n",
              "        vertical-align: middle;\n",
              "    }\n",
              "\n",
              "    .dataframe tbody tr th {\n",
              "        vertical-align: top;\n",
              "    }\n",
              "\n",
              "    .dataframe thead th {\n",
              "        text-align: right;\n",
              "    }\n",
              "</style>\n",
              "<table border=\"1\" class=\"dataframe\">\n",
              "  <thead>\n",
              "    <tr style=\"text-align: right;\">\n",
              "      <th></th>\n",
              "      <th>BTC-USD</th>\n",
              "      <th>ETH-USD</th>\n",
              "      <th>USDT-USD</th>\n",
              "      <th>USDC-USD</th>\n",
              "      <th>BNB-USD</th>\n",
              "      <th>BUSD-USD</th>\n",
              "      <th>XRP-USD</th>\n",
              "      <th>ADA-USD</th>\n",
              "      <th>SOL-USD</th>\n",
              "      <th>DOGE-USD</th>\n",
              "      <th>...</th>\n",
              "      <th>UNI1-USD</th>\n",
              "      <th>YOUC-USD</th>\n",
              "      <th>STETH-USD</th>\n",
              "      <th>FTT-USD</th>\n",
              "      <th>LTC-USD</th>\n",
              "      <th>CRO-USD</th>\n",
              "      <th>LINK-USD</th>\n",
              "      <th>XLM-USD</th>\n",
              "      <th>NEAR-USD</th>\n",
              "      <th>ATOM-USD</th>\n",
              "    </tr>\n",
              "    <tr>\n",
              "      <th>Date</th>\n",
              "      <th></th>\n",
              "      <th></th>\n",
              "      <th></th>\n",
              "      <th></th>\n",
              "      <th></th>\n",
              "      <th></th>\n",
              "      <th></th>\n",
              "      <th></th>\n",
              "      <th></th>\n",
              "      <th></th>\n",
              "      <th></th>\n",
              "      <th></th>\n",
              "      <th></th>\n",
              "      <th></th>\n",
              "      <th></th>\n",
              "      <th></th>\n",
              "      <th></th>\n",
              "      <th></th>\n",
              "      <th></th>\n",
              "      <th></th>\n",
              "      <th></th>\n",
              "    </tr>\n",
              "  </thead>\n",
              "  <tbody>\n",
              "    <tr>\n",
              "      <th>2021-07-04</th>\n",
              "      <td>35287.781250</td>\n",
              "      <td>2321.724121</td>\n",
              "      <td>0.999501</td>\n",
              "      <td>0.999500</td>\n",
              "      <td>307.732086</td>\n",
              "      <td>0.999373</td>\n",
              "      <td>0.694945</td>\n",
              "      <td>1.458184</td>\n",
              "      <td>34.310600</td>\n",
              "      <td>0.246483</td>\n",
              "      <td>...</td>\n",
              "      <td>20.771873</td>\n",
              "      <td>0.052906</td>\n",
              "      <td>2321.341064</td>\n",
              "      <td>27.449049</td>\n",
              "      <td>144.905853</td>\n",
              "      <td>0.122427</td>\n",
              "      <td>19.262838</td>\n",
              "      <td>0.268128</td>\n",
              "      <td>2.291444</td>\n",
              "      <td>12.263548</td>\n",
              "    </tr>\n",
              "    <tr>\n",
              "      <th>2021-07-05</th>\n",
              "      <td>33746.003906</td>\n",
              "      <td>2198.582520</td>\n",
              "      <td>1.000667</td>\n",
              "      <td>1.000528</td>\n",
              "      <td>302.377991</td>\n",
              "      <td>1.000414</td>\n",
              "      <td>0.654300</td>\n",
              "      <td>1.404898</td>\n",
              "      <td>32.984589</td>\n",
              "      <td>0.231614</td>\n",
              "      <td>...</td>\n",
              "      <td>20.095181</td>\n",
              "      <td>0.069485</td>\n",
              "      <td>2204.333740</td>\n",
              "      <td>25.368855</td>\n",
              "      <td>138.073242</td>\n",
              "      <td>0.115814</td>\n",
              "      <td>18.371590</td>\n",
              "      <td>0.254456</td>\n",
              "      <td>2.172307</td>\n",
              "      <td>13.548475</td>\n",
              "    </tr>\n",
              "    <tr>\n",
              "      <th>2021-07-06</th>\n",
              "      <td>34235.195312</td>\n",
              "      <td>2324.679443</td>\n",
              "      <td>1.000090</td>\n",
              "      <td>1.000059</td>\n",
              "      <td>320.934814</td>\n",
              "      <td>1.000021</td>\n",
              "      <td>0.665402</td>\n",
              "      <td>1.418053</td>\n",
              "      <td>34.269138</td>\n",
              "      <td>0.234422</td>\n",
              "      <td>...</td>\n",
              "      <td>22.400187</td>\n",
              "      <td>0.068797</td>\n",
              "      <td>2324.837158</td>\n",
              "      <td>28.817072</td>\n",
              "      <td>138.985641</td>\n",
              "      <td>0.122856</td>\n",
              "      <td>20.080465</td>\n",
              "      <td>0.260190</td>\n",
              "      <td>2.259642</td>\n",
              "      <td>13.159371</td>\n",
              "    </tr>\n",
              "    <tr>\n",
              "      <th>2021-07-07</th>\n",
              "      <td>33855.328125</td>\n",
              "      <td>2315.161865</td>\n",
              "      <td>1.000708</td>\n",
              "      <td>1.000370</td>\n",
              "      <td>327.522461</td>\n",
              "      <td>1.000484</td>\n",
              "      <td>0.651575</td>\n",
              "      <td>1.403118</td>\n",
              "      <td>36.591370</td>\n",
              "      <td>0.224126</td>\n",
              "      <td>...</td>\n",
              "      <td>22.231146</td>\n",
              "      <td>0.064618</td>\n",
              "      <td>2307.621338</td>\n",
              "      <td>30.022102</td>\n",
              "      <td>137.371216</td>\n",
              "      <td>0.119605</td>\n",
              "      <td>19.764128</td>\n",
              "      <td>0.256940</td>\n",
              "      <td>2.294410</td>\n",
              "      <td>12.926386</td>\n",
              "    </tr>\n",
              "    <tr>\n",
              "      <th>2021-07-08</th>\n",
              "      <td>32877.371094</td>\n",
              "      <td>2120.026367</td>\n",
              "      <td>0.999900</td>\n",
              "      <td>0.999945</td>\n",
              "      <td>310.427124</td>\n",
              "      <td>0.999917</td>\n",
              "      <td>0.623058</td>\n",
              "      <td>1.330146</td>\n",
              "      <td>33.203728</td>\n",
              "      <td>0.207597</td>\n",
              "      <td>...</td>\n",
              "      <td>20.400131</td>\n",
              "      <td>0.061079</td>\n",
              "      <td>2126.748535</td>\n",
              "      <td>28.761093</td>\n",
              "      <td>132.308502</td>\n",
              "      <td>0.114718</td>\n",
              "      <td>18.422050</td>\n",
              "      <td>0.243421</td>\n",
              "      <td>2.104819</td>\n",
              "      <td>11.928683</td>\n",
              "    </tr>\n",
              "  </tbody>\n",
              "</table>\n",
              "<p>5 rows × 30 columns</p>\n",
              "</div>\n",
              "      <button class=\"colab-df-convert\" onclick=\"convertToInteractive('df-5beba6bb-e76b-46cc-9414-05ce6bc73bb9')\"\n",
              "              title=\"Convert this dataframe to an interactive table.\"\n",
              "              style=\"display:none;\">\n",
              "        \n",
              "  <svg xmlns=\"http://www.w3.org/2000/svg\" height=\"24px\"viewBox=\"0 0 24 24\"\n",
              "       width=\"24px\">\n",
              "    <path d=\"M0 0h24v24H0V0z\" fill=\"none\"/>\n",
              "    <path d=\"M18.56 5.44l.94 2.06.94-2.06 2.06-.94-2.06-.94-.94-2.06-.94 2.06-2.06.94zm-11 1L8.5 8.5l.94-2.06 2.06-.94-2.06-.94L8.5 2.5l-.94 2.06-2.06.94zm10 10l.94 2.06.94-2.06 2.06-.94-2.06-.94-.94-2.06-.94 2.06-2.06.94z\"/><path d=\"M17.41 7.96l-1.37-1.37c-.4-.4-.92-.59-1.43-.59-.52 0-1.04.2-1.43.59L10.3 9.45l-7.72 7.72c-.78.78-.78 2.05 0 2.83L4 21.41c.39.39.9.59 1.41.59.51 0 1.02-.2 1.41-.59l7.78-7.78 2.81-2.81c.8-.78.8-2.07 0-2.86zM5.41 20L4 18.59l7.72-7.72 1.47 1.35L5.41 20z\"/>\n",
              "  </svg>\n",
              "      </button>\n",
              "      \n",
              "  <style>\n",
              "    .colab-df-container {\n",
              "      display:flex;\n",
              "      flex-wrap:wrap;\n",
              "      gap: 12px;\n",
              "    }\n",
              "\n",
              "    .colab-df-convert {\n",
              "      background-color: #E8F0FE;\n",
              "      border: none;\n",
              "      border-radius: 50%;\n",
              "      cursor: pointer;\n",
              "      display: none;\n",
              "      fill: #1967D2;\n",
              "      height: 32px;\n",
              "      padding: 0 0 0 0;\n",
              "      width: 32px;\n",
              "    }\n",
              "\n",
              "    .colab-df-convert:hover {\n",
              "      background-color: #E2EBFA;\n",
              "      box-shadow: 0px 1px 2px rgba(60, 64, 67, 0.3), 0px 1px 3px 1px rgba(60, 64, 67, 0.15);\n",
              "      fill: #174EA6;\n",
              "    }\n",
              "\n",
              "    [theme=dark] .colab-df-convert {\n",
              "      background-color: #3B4455;\n",
              "      fill: #D2E3FC;\n",
              "    }\n",
              "\n",
              "    [theme=dark] .colab-df-convert:hover {\n",
              "      background-color: #434B5C;\n",
              "      box-shadow: 0px 1px 3px 1px rgba(0, 0, 0, 0.15);\n",
              "      filter: drop-shadow(0px 1px 2px rgba(0, 0, 0, 0.3));\n",
              "      fill: #FFFFFF;\n",
              "    }\n",
              "  </style>\n",
              "\n",
              "      <script>\n",
              "        const buttonEl =\n",
              "          document.querySelector('#df-5beba6bb-e76b-46cc-9414-05ce6bc73bb9 button.colab-df-convert');\n",
              "        buttonEl.style.display =\n",
              "          google.colab.kernel.accessAllowed ? 'block' : 'none';\n",
              "\n",
              "        async function convertToInteractive(key) {\n",
              "          const element = document.querySelector('#df-5beba6bb-e76b-46cc-9414-05ce6bc73bb9');\n",
              "          const dataTable =\n",
              "            await google.colab.kernel.invokeFunction('convertToInteractive',\n",
              "                                                     [key], {});\n",
              "          if (!dataTable) return;\n",
              "\n",
              "          const docLinkHtml = 'Like what you see? Visit the ' +\n",
              "            '<a target=\"_blank\" href=https://colab.research.google.com/notebooks/data_table.ipynb>data table notebook</a>'\n",
              "            + ' to learn more about interactive tables.';\n",
              "          element.innerHTML = '';\n",
              "          dataTable['output_type'] = 'display_data';\n",
              "          await google.colab.output.renderOutput(dataTable, element);\n",
              "          const docLink = document.createElement('div');\n",
              "          docLink.innerHTML = docLinkHtml;\n",
              "          element.appendChild(docLink);\n",
              "        }\n",
              "      </script>\n",
              "    </div>\n",
              "  </div>\n",
              "  "
            ]
          },
          "metadata": {},
          "execution_count": 39
        }
      ]
    },
    {
      "cell_type": "markdown",
      "metadata": {
        "id": "14VDrRodIIT4"
      },
      "source": [
        "## Examples"
      ]
    },
    {
      "cell_type": "markdown",
      "metadata": {
        "id": "pD3cVOBiI_0q"
      },
      "source": [
        "**Crypto_info() function** "
      ]
    },
    {
      "cell_type": "code",
      "metadata": {
        "colab": {
          "base_uri": "https://localhost:8080/",
          "height": 255
        },
        "id": "Lo-MZXj_4NJG",
        "outputId": "a5af8308-67a5-48fb-f14c-c371f061c4ce"
      },
      "source": [
        "crypto_info('ETH-USD').tail()"
      ],
      "execution_count": 40,
      "outputs": [
        {
          "output_type": "stream",
          "name": "stdout",
          "text": [
            "\r[*********************100%***********************]  1 of 1 completed\n"
          ]
        },
        {
          "output_type": "execute_result",
          "data": {
            "text/plain": [
              "                   Open         High          Low        Close    Adj Close  \\\n",
              "Date                                                                          \n",
              "2021-11-10  4733.362793  4859.502930  4485.093262  4636.174316  4636.174316   \n",
              "2021-11-11  4635.453613  4778.059082  4580.990234  4730.384277  4730.384277   \n",
              "2021-11-12  4724.306641  4808.738770  4510.920410  4667.115234  4667.115234   \n",
              "2021-11-13  4666.719238  4702.115234  4582.180664  4651.460449  4651.460449   \n",
              "2021-11-14  4648.632812  4689.842773  4516.935547  4626.358887  4626.358887   \n",
              "\n",
              "                 Volume  \n",
              "Date                     \n",
              "2021-11-10  22748160545  \n",
              "2021-11-11  17933201129  \n",
              "2021-11-12  18316060208  \n",
              "2021-11-13  14457436261  \n",
              "2021-11-14  12172962219  "
            ],
            "text/html": [
              "\n",
              "  <div id=\"df-805ec7a1-c660-43e6-a594-14eafc2a6b88\">\n",
              "    <div class=\"colab-df-container\">\n",
              "      <div>\n",
              "<style scoped>\n",
              "    .dataframe tbody tr th:only-of-type {\n",
              "        vertical-align: middle;\n",
              "    }\n",
              "\n",
              "    .dataframe tbody tr th {\n",
              "        vertical-align: top;\n",
              "    }\n",
              "\n",
              "    .dataframe thead th {\n",
              "        text-align: right;\n",
              "    }\n",
              "</style>\n",
              "<table border=\"1\" class=\"dataframe\">\n",
              "  <thead>\n",
              "    <tr style=\"text-align: right;\">\n",
              "      <th></th>\n",
              "      <th>Open</th>\n",
              "      <th>High</th>\n",
              "      <th>Low</th>\n",
              "      <th>Close</th>\n",
              "      <th>Adj Close</th>\n",
              "      <th>Volume</th>\n",
              "    </tr>\n",
              "    <tr>\n",
              "      <th>Date</th>\n",
              "      <th></th>\n",
              "      <th></th>\n",
              "      <th></th>\n",
              "      <th></th>\n",
              "      <th></th>\n",
              "      <th></th>\n",
              "    </tr>\n",
              "  </thead>\n",
              "  <tbody>\n",
              "    <tr>\n",
              "      <th>2021-11-10</th>\n",
              "      <td>4733.362793</td>\n",
              "      <td>4859.502930</td>\n",
              "      <td>4485.093262</td>\n",
              "      <td>4636.174316</td>\n",
              "      <td>4636.174316</td>\n",
              "      <td>22748160545</td>\n",
              "    </tr>\n",
              "    <tr>\n",
              "      <th>2021-11-11</th>\n",
              "      <td>4635.453613</td>\n",
              "      <td>4778.059082</td>\n",
              "      <td>4580.990234</td>\n",
              "      <td>4730.384277</td>\n",
              "      <td>4730.384277</td>\n",
              "      <td>17933201129</td>\n",
              "    </tr>\n",
              "    <tr>\n",
              "      <th>2021-11-12</th>\n",
              "      <td>4724.306641</td>\n",
              "      <td>4808.738770</td>\n",
              "      <td>4510.920410</td>\n",
              "      <td>4667.115234</td>\n",
              "      <td>4667.115234</td>\n",
              "      <td>18316060208</td>\n",
              "    </tr>\n",
              "    <tr>\n",
              "      <th>2021-11-13</th>\n",
              "      <td>4666.719238</td>\n",
              "      <td>4702.115234</td>\n",
              "      <td>4582.180664</td>\n",
              "      <td>4651.460449</td>\n",
              "      <td>4651.460449</td>\n",
              "      <td>14457436261</td>\n",
              "    </tr>\n",
              "    <tr>\n",
              "      <th>2021-11-14</th>\n",
              "      <td>4648.632812</td>\n",
              "      <td>4689.842773</td>\n",
              "      <td>4516.935547</td>\n",
              "      <td>4626.358887</td>\n",
              "      <td>4626.358887</td>\n",
              "      <td>12172962219</td>\n",
              "    </tr>\n",
              "  </tbody>\n",
              "</table>\n",
              "</div>\n",
              "      <button class=\"colab-df-convert\" onclick=\"convertToInteractive('df-805ec7a1-c660-43e6-a594-14eafc2a6b88')\"\n",
              "              title=\"Convert this dataframe to an interactive table.\"\n",
              "              style=\"display:none;\">\n",
              "        \n",
              "  <svg xmlns=\"http://www.w3.org/2000/svg\" height=\"24px\"viewBox=\"0 0 24 24\"\n",
              "       width=\"24px\">\n",
              "    <path d=\"M0 0h24v24H0V0z\" fill=\"none\"/>\n",
              "    <path d=\"M18.56 5.44l.94 2.06.94-2.06 2.06-.94-2.06-.94-.94-2.06-.94 2.06-2.06.94zm-11 1L8.5 8.5l.94-2.06 2.06-.94-2.06-.94L8.5 2.5l-.94 2.06-2.06.94zm10 10l.94 2.06.94-2.06 2.06-.94-2.06-.94-.94-2.06-.94 2.06-2.06.94z\"/><path d=\"M17.41 7.96l-1.37-1.37c-.4-.4-.92-.59-1.43-.59-.52 0-1.04.2-1.43.59L10.3 9.45l-7.72 7.72c-.78.78-.78 2.05 0 2.83L4 21.41c.39.39.9.59 1.41.59.51 0 1.02-.2 1.41-.59l7.78-7.78 2.81-2.81c.8-.78.8-2.07 0-2.86zM5.41 20L4 18.59l7.72-7.72 1.47 1.35L5.41 20z\"/>\n",
              "  </svg>\n",
              "      </button>\n",
              "      \n",
              "  <style>\n",
              "    .colab-df-container {\n",
              "      display:flex;\n",
              "      flex-wrap:wrap;\n",
              "      gap: 12px;\n",
              "    }\n",
              "\n",
              "    .colab-df-convert {\n",
              "      background-color: #E8F0FE;\n",
              "      border: none;\n",
              "      border-radius: 50%;\n",
              "      cursor: pointer;\n",
              "      display: none;\n",
              "      fill: #1967D2;\n",
              "      height: 32px;\n",
              "      padding: 0 0 0 0;\n",
              "      width: 32px;\n",
              "    }\n",
              "\n",
              "    .colab-df-convert:hover {\n",
              "      background-color: #E2EBFA;\n",
              "      box-shadow: 0px 1px 2px rgba(60, 64, 67, 0.3), 0px 1px 3px 1px rgba(60, 64, 67, 0.15);\n",
              "      fill: #174EA6;\n",
              "    }\n",
              "\n",
              "    [theme=dark] .colab-df-convert {\n",
              "      background-color: #3B4455;\n",
              "      fill: #D2E3FC;\n",
              "    }\n",
              "\n",
              "    [theme=dark] .colab-df-convert:hover {\n",
              "      background-color: #434B5C;\n",
              "      box-shadow: 0px 1px 3px 1px rgba(0, 0, 0, 0.15);\n",
              "      filter: drop-shadow(0px 1px 2px rgba(0, 0, 0, 0.3));\n",
              "      fill: #FFFFFF;\n",
              "    }\n",
              "  </style>\n",
              "\n",
              "      <script>\n",
              "        const buttonEl =\n",
              "          document.querySelector('#df-805ec7a1-c660-43e6-a594-14eafc2a6b88 button.colab-df-convert');\n",
              "        buttonEl.style.display =\n",
              "          google.colab.kernel.accessAllowed ? 'block' : 'none';\n",
              "\n",
              "        async function convertToInteractive(key) {\n",
              "          const element = document.querySelector('#df-805ec7a1-c660-43e6-a594-14eafc2a6b88');\n",
              "          const dataTable =\n",
              "            await google.colab.kernel.invokeFunction('convertToInteractive',\n",
              "                                                     [key], {});\n",
              "          if (!dataTable) return;\n",
              "\n",
              "          const docLinkHtml = 'Like what you see? Visit the ' +\n",
              "            '<a target=\"_blank\" href=https://colab.research.google.com/notebooks/data_table.ipynb>data table notebook</a>'\n",
              "            + ' to learn more about interactive tables.';\n",
              "          element.innerHTML = '';\n",
              "          dataTable['output_type'] = 'display_data';\n",
              "          await google.colab.output.renderOutput(dataTable, element);\n",
              "          const docLink = document.createElement('div');\n",
              "          docLink.innerHTML = docLinkHtml;\n",
              "          element.appendChild(docLink);\n",
              "        }\n",
              "      </script>\n",
              "    </div>\n",
              "  </div>\n",
              "  "
            ]
          },
          "metadata": {},
          "execution_count": 40
        }
      ]
    },
    {
      "cell_type": "markdown",
      "metadata": {
        "id": "szvnQ9CfJSa2"
      },
      "source": [
        "**Candlestick_month() function**"
      ]
    },
    {
      "cell_type": "code",
      "metadata": {
        "colab": {
          "base_uri": "https://localhost:8080/"
        },
        "id": "YY3hXFMnpwTz",
        "outputId": "1ebbee58-d2a4-4c88-cdb8-86ad611c8b84"
      },
      "source": [
        "eth = pd.DataFrame(crypto_info('ETH-USD')['Close'])"
      ],
      "execution_count": 41,
      "outputs": [
        {
          "output_type": "stream",
          "name": "stdout",
          "text": [
            "\r[*********************100%***********************]  1 of 1 completed\n"
          ]
        }
      ]
    },
    {
      "cell_type": "code",
      "metadata": {
        "colab": {
          "base_uri": "https://localhost:8080/",
          "height": 238
        },
        "id": "64jV-eG8rC5k",
        "outputId": "29024f1b-fc02-4888-963d-2c05ec7a78a0"
      },
      "source": [
        "eth.head()"
      ],
      "execution_count": 43,
      "outputs": [
        {
          "output_type": "execute_result",
          "data": {
            "text/plain": [
              "                  Close\n",
              "Date                   \n",
              "2021-01-01   730.367554\n",
              "2021-01-02   774.534973\n",
              "2021-01-03   975.507690\n",
              "2021-01-04  1040.233032\n",
              "2021-01-05  1100.006104"
            ],
            "text/html": [
              "\n",
              "  <div id=\"df-f17c930f-f201-42a9-ad9a-5a2f96be1cb8\">\n",
              "    <div class=\"colab-df-container\">\n",
              "      <div>\n",
              "<style scoped>\n",
              "    .dataframe tbody tr th:only-of-type {\n",
              "        vertical-align: middle;\n",
              "    }\n",
              "\n",
              "    .dataframe tbody tr th {\n",
              "        vertical-align: top;\n",
              "    }\n",
              "\n",
              "    .dataframe thead th {\n",
              "        text-align: right;\n",
              "    }\n",
              "</style>\n",
              "<table border=\"1\" class=\"dataframe\">\n",
              "  <thead>\n",
              "    <tr style=\"text-align: right;\">\n",
              "      <th></th>\n",
              "      <th>Close</th>\n",
              "    </tr>\n",
              "    <tr>\n",
              "      <th>Date</th>\n",
              "      <th></th>\n",
              "    </tr>\n",
              "  </thead>\n",
              "  <tbody>\n",
              "    <tr>\n",
              "      <th>2021-01-01</th>\n",
              "      <td>730.367554</td>\n",
              "    </tr>\n",
              "    <tr>\n",
              "      <th>2021-01-02</th>\n",
              "      <td>774.534973</td>\n",
              "    </tr>\n",
              "    <tr>\n",
              "      <th>2021-01-03</th>\n",
              "      <td>975.507690</td>\n",
              "    </tr>\n",
              "    <tr>\n",
              "      <th>2021-01-04</th>\n",
              "      <td>1040.233032</td>\n",
              "    </tr>\n",
              "    <tr>\n",
              "      <th>2021-01-05</th>\n",
              "      <td>1100.006104</td>\n",
              "    </tr>\n",
              "  </tbody>\n",
              "</table>\n",
              "</div>\n",
              "      <button class=\"colab-df-convert\" onclick=\"convertToInteractive('df-f17c930f-f201-42a9-ad9a-5a2f96be1cb8')\"\n",
              "              title=\"Convert this dataframe to an interactive table.\"\n",
              "              style=\"display:none;\">\n",
              "        \n",
              "  <svg xmlns=\"http://www.w3.org/2000/svg\" height=\"24px\"viewBox=\"0 0 24 24\"\n",
              "       width=\"24px\">\n",
              "    <path d=\"M0 0h24v24H0V0z\" fill=\"none\"/>\n",
              "    <path d=\"M18.56 5.44l.94 2.06.94-2.06 2.06-.94-2.06-.94-.94-2.06-.94 2.06-2.06.94zm-11 1L8.5 8.5l.94-2.06 2.06-.94-2.06-.94L8.5 2.5l-.94 2.06-2.06.94zm10 10l.94 2.06.94-2.06 2.06-.94-2.06-.94-.94-2.06-.94 2.06-2.06.94z\"/><path d=\"M17.41 7.96l-1.37-1.37c-.4-.4-.92-.59-1.43-.59-.52 0-1.04.2-1.43.59L10.3 9.45l-7.72 7.72c-.78.78-.78 2.05 0 2.83L4 21.41c.39.39.9.59 1.41.59.51 0 1.02-.2 1.41-.59l7.78-7.78 2.81-2.81c.8-.78.8-2.07 0-2.86zM5.41 20L4 18.59l7.72-7.72 1.47 1.35L5.41 20z\"/>\n",
              "  </svg>\n",
              "      </button>\n",
              "      \n",
              "  <style>\n",
              "    .colab-df-container {\n",
              "      display:flex;\n",
              "      flex-wrap:wrap;\n",
              "      gap: 12px;\n",
              "    }\n",
              "\n",
              "    .colab-df-convert {\n",
              "      background-color: #E8F0FE;\n",
              "      border: none;\n",
              "      border-radius: 50%;\n",
              "      cursor: pointer;\n",
              "      display: none;\n",
              "      fill: #1967D2;\n",
              "      height: 32px;\n",
              "      padding: 0 0 0 0;\n",
              "      width: 32px;\n",
              "    }\n",
              "\n",
              "    .colab-df-convert:hover {\n",
              "      background-color: #E2EBFA;\n",
              "      box-shadow: 0px 1px 2px rgba(60, 64, 67, 0.3), 0px 1px 3px 1px rgba(60, 64, 67, 0.15);\n",
              "      fill: #174EA6;\n",
              "    }\n",
              "\n",
              "    [theme=dark] .colab-df-convert {\n",
              "      background-color: #3B4455;\n",
              "      fill: #D2E3FC;\n",
              "    }\n",
              "\n",
              "    [theme=dark] .colab-df-convert:hover {\n",
              "      background-color: #434B5C;\n",
              "      box-shadow: 0px 1px 3px 1px rgba(0, 0, 0, 0.15);\n",
              "      filter: drop-shadow(0px 1px 2px rgba(0, 0, 0, 0.3));\n",
              "      fill: #FFFFFF;\n",
              "    }\n",
              "  </style>\n",
              "\n",
              "      <script>\n",
              "        const buttonEl =\n",
              "          document.querySelector('#df-f17c930f-f201-42a9-ad9a-5a2f96be1cb8 button.colab-df-convert');\n",
              "        buttonEl.style.display =\n",
              "          google.colab.kernel.accessAllowed ? 'block' : 'none';\n",
              "\n",
              "        async function convertToInteractive(key) {\n",
              "          const element = document.querySelector('#df-f17c930f-f201-42a9-ad9a-5a2f96be1cb8');\n",
              "          const dataTable =\n",
              "            await google.colab.kernel.invokeFunction('convertToInteractive',\n",
              "                                                     [key], {});\n",
              "          if (!dataTable) return;\n",
              "\n",
              "          const docLinkHtml = 'Like what you see? Visit the ' +\n",
              "            '<a target=\"_blank\" href=https://colab.research.google.com/notebooks/data_table.ipynb>data table notebook</a>'\n",
              "            + ' to learn more about interactive tables.';\n",
              "          element.innerHTML = '';\n",
              "          dataTable['output_type'] = 'display_data';\n",
              "          await google.colab.output.renderOutput(dataTable, element);\n",
              "          const docLink = document.createElement('div');\n",
              "          docLink.innerHTML = docLinkHtml;\n",
              "          element.appendChild(docLink);\n",
              "        }\n",
              "      </script>\n",
              "    </div>\n",
              "  </div>\n",
              "  "
            ]
          },
          "metadata": {},
          "execution_count": 43
        }
      ]
    },
    {
      "cell_type": "markdown",
      "source": [
        "Percentage change between the current and a prior prices."
      ],
      "metadata": {
        "id": "vJNUtRJpa7m4"
      }
    },
    {
      "cell_type": "code",
      "metadata": {
        "id": "YFWnEV35q4tm"
      },
      "source": [
        "eth['return'] = eth.Close.pct_change()"
      ],
      "execution_count": 44,
      "outputs": []
    },
    {
      "cell_type": "code",
      "metadata": {
        "colab": {
          "base_uri": "https://localhost:8080/",
          "height": 238
        },
        "id": "fEPx8ZtbrHPj",
        "outputId": "8661ff6d-8ff5-4c11-c3a6-a1403aac6292"
      },
      "source": [
        "eth.head()"
      ],
      "execution_count": 46,
      "outputs": [
        {
          "output_type": "execute_result",
          "data": {
            "text/plain": [
              "                  Close    return\n",
              "Date                             \n",
              "2021-01-01   730.367554       NaN\n",
              "2021-01-02   774.534973  0.060473\n",
              "2021-01-03   975.507690  0.259475\n",
              "2021-01-04  1040.233032  0.066350\n",
              "2021-01-05  1100.006104  0.057461"
            ],
            "text/html": [
              "\n",
              "  <div id=\"df-221cae89-a16f-46b4-9c57-ebd7003c5e16\">\n",
              "    <div class=\"colab-df-container\">\n",
              "      <div>\n",
              "<style scoped>\n",
              "    .dataframe tbody tr th:only-of-type {\n",
              "        vertical-align: middle;\n",
              "    }\n",
              "\n",
              "    .dataframe tbody tr th {\n",
              "        vertical-align: top;\n",
              "    }\n",
              "\n",
              "    .dataframe thead th {\n",
              "        text-align: right;\n",
              "    }\n",
              "</style>\n",
              "<table border=\"1\" class=\"dataframe\">\n",
              "  <thead>\n",
              "    <tr style=\"text-align: right;\">\n",
              "      <th></th>\n",
              "      <th>Close</th>\n",
              "      <th>return</th>\n",
              "    </tr>\n",
              "    <tr>\n",
              "      <th>Date</th>\n",
              "      <th></th>\n",
              "      <th></th>\n",
              "    </tr>\n",
              "  </thead>\n",
              "  <tbody>\n",
              "    <tr>\n",
              "      <th>2021-01-01</th>\n",
              "      <td>730.367554</td>\n",
              "      <td>NaN</td>\n",
              "    </tr>\n",
              "    <tr>\n",
              "      <th>2021-01-02</th>\n",
              "      <td>774.534973</td>\n",
              "      <td>0.060473</td>\n",
              "    </tr>\n",
              "    <tr>\n",
              "      <th>2021-01-03</th>\n",
              "      <td>975.507690</td>\n",
              "      <td>0.259475</td>\n",
              "    </tr>\n",
              "    <tr>\n",
              "      <th>2021-01-04</th>\n",
              "      <td>1040.233032</td>\n",
              "      <td>0.066350</td>\n",
              "    </tr>\n",
              "    <tr>\n",
              "      <th>2021-01-05</th>\n",
              "      <td>1100.006104</td>\n",
              "      <td>0.057461</td>\n",
              "    </tr>\n",
              "  </tbody>\n",
              "</table>\n",
              "</div>\n",
              "      <button class=\"colab-df-convert\" onclick=\"convertToInteractive('df-221cae89-a16f-46b4-9c57-ebd7003c5e16')\"\n",
              "              title=\"Convert this dataframe to an interactive table.\"\n",
              "              style=\"display:none;\">\n",
              "        \n",
              "  <svg xmlns=\"http://www.w3.org/2000/svg\" height=\"24px\"viewBox=\"0 0 24 24\"\n",
              "       width=\"24px\">\n",
              "    <path d=\"M0 0h24v24H0V0z\" fill=\"none\"/>\n",
              "    <path d=\"M18.56 5.44l.94 2.06.94-2.06 2.06-.94-2.06-.94-.94-2.06-.94 2.06-2.06.94zm-11 1L8.5 8.5l.94-2.06 2.06-.94-2.06-.94L8.5 2.5l-.94 2.06-2.06.94zm10 10l.94 2.06.94-2.06 2.06-.94-2.06-.94-.94-2.06-.94 2.06-2.06.94z\"/><path d=\"M17.41 7.96l-1.37-1.37c-.4-.4-.92-.59-1.43-.59-.52 0-1.04.2-1.43.59L10.3 9.45l-7.72 7.72c-.78.78-.78 2.05 0 2.83L4 21.41c.39.39.9.59 1.41.59.51 0 1.02-.2 1.41-.59l7.78-7.78 2.81-2.81c.8-.78.8-2.07 0-2.86zM5.41 20L4 18.59l7.72-7.72 1.47 1.35L5.41 20z\"/>\n",
              "  </svg>\n",
              "      </button>\n",
              "      \n",
              "  <style>\n",
              "    .colab-df-container {\n",
              "      display:flex;\n",
              "      flex-wrap:wrap;\n",
              "      gap: 12px;\n",
              "    }\n",
              "\n",
              "    .colab-df-convert {\n",
              "      background-color: #E8F0FE;\n",
              "      border: none;\n",
              "      border-radius: 50%;\n",
              "      cursor: pointer;\n",
              "      display: none;\n",
              "      fill: #1967D2;\n",
              "      height: 32px;\n",
              "      padding: 0 0 0 0;\n",
              "      width: 32px;\n",
              "    }\n",
              "\n",
              "    .colab-df-convert:hover {\n",
              "      background-color: #E2EBFA;\n",
              "      box-shadow: 0px 1px 2px rgba(60, 64, 67, 0.3), 0px 1px 3px 1px rgba(60, 64, 67, 0.15);\n",
              "      fill: #174EA6;\n",
              "    }\n",
              "\n",
              "    [theme=dark] .colab-df-convert {\n",
              "      background-color: #3B4455;\n",
              "      fill: #D2E3FC;\n",
              "    }\n",
              "\n",
              "    [theme=dark] .colab-df-convert:hover {\n",
              "      background-color: #434B5C;\n",
              "      box-shadow: 0px 1px 3px 1px rgba(0, 0, 0, 0.15);\n",
              "      filter: drop-shadow(0px 1px 2px rgba(0, 0, 0, 0.3));\n",
              "      fill: #FFFFFF;\n",
              "    }\n",
              "  </style>\n",
              "\n",
              "      <script>\n",
              "        const buttonEl =\n",
              "          document.querySelector('#df-221cae89-a16f-46b4-9c57-ebd7003c5e16 button.colab-df-convert');\n",
              "        buttonEl.style.display =\n",
              "          google.colab.kernel.accessAllowed ? 'block' : 'none';\n",
              "\n",
              "        async function convertToInteractive(key) {\n",
              "          const element = document.querySelector('#df-221cae89-a16f-46b4-9c57-ebd7003c5e16');\n",
              "          const dataTable =\n",
              "            await google.colab.kernel.invokeFunction('convertToInteractive',\n",
              "                                                     [key], {});\n",
              "          if (!dataTable) return;\n",
              "\n",
              "          const docLinkHtml = 'Like what you see? Visit the ' +\n",
              "            '<a target=\"_blank\" href=https://colab.research.google.com/notebooks/data_table.ipynb>data table notebook</a>'\n",
              "            + ' to learn more about interactive tables.';\n",
              "          element.innerHTML = '';\n",
              "          dataTable['output_type'] = 'display_data';\n",
              "          await google.colab.output.renderOutput(dataTable, element);\n",
              "          const docLink = document.createElement('div');\n",
              "          docLink.innerHTML = docLinkHtml;\n",
              "          element.appendChild(docLink);\n",
              "        }\n",
              "      </script>\n",
              "    </div>\n",
              "  </div>\n",
              "  "
            ]
          },
          "metadata": {},
          "execution_count": 46
        }
      ]
    },
    {
      "cell_type": "code",
      "metadata": {
        "colab": {
          "base_uri": "https://localhost:8080/",
          "height": 560
        },
        "id": "jvHNLPZ82WzG",
        "outputId": "a705c196-2eed-43e7-999b-51193ba6568f"
      },
      "source": [
        "Candlestick_month('ETH-USD', 'Ethereum')"
      ],
      "execution_count": 47,
      "outputs": [
        {
          "output_type": "stream",
          "name": "stdout",
          "text": [
            "\r[*********************100%***********************]  1 of 1 completed\n"
          ]
        },
        {
          "output_type": "display_data",
          "data": {
            "text/html": [
              "<html>\n",
              "<head><meta charset=\"utf-8\" /></head>\n",
              "<body>\n",
              "    <div>            <script src=\"https://cdnjs.cloudflare.com/ajax/libs/mathjax/2.7.5/MathJax.js?config=TeX-AMS-MML_SVG\"></script><script type=\"text/javascript\">if (window.MathJax) {MathJax.Hub.Config({SVG: {font: \"STIX-Web\"}});}</script>                <script type=\"text/javascript\">window.PlotlyConfig = {MathJaxConfig: 'local'};</script>\n",
              "        <script src=\"https://cdn.plot.ly/plotly-2.8.3.min.js\"></script>                <div id=\"db66d43b-6245-4c36-9f4b-f34baeb9142a\" class=\"plotly-graph-div\" style=\"height:525px; width:100%;\"></div>            <script type=\"text/javascript\">                                    window.PLOTLYENV=window.PLOTLYENV || {};                                    if (document.getElementById(\"db66d43b-6245-4c36-9f4b-f34baeb9142a\")) {                    Plotly.newPlot(                        \"db66d43b-6245-4c36-9f4b-f34baeb9142a\",                        [{\"close\":[1789.8260498046875,1665.042236328125,1529.6634521484375,1445.216552734375,1204.582763671875,1211.662841796875,1233.2064208984375,1067.730712890625,1086.519287109375,993.6367797851562,1127.656494140625,1127.6424560546875,1124.8245849609375,1051.421875,1143.38671875,1226.8447265625,1243.4468994140625,1199.8316650390625,1193.6806640625,1144.5792236328125,1098.94384765625,1067.298828125,1059.767333984375,1066.5128173828125,1073.7669677734375,1151.05908203125,1134.541015625,1186.9739990234375,1237.5933837890625,1222.5062255859375,1217.0147705078125],\"high\":[1827.2930908203125,1797.6077880859375,1679.314208984375,1539.705078125,1448.738037109375,1252.4718017578125,1236.6275634765625,1246.140625,1112.4715576171875,1095.1668701171875,1142.3408203125,1159.9853515625,1185.4324951171875,1126.26171875,1146.4942626953125,1238.616943359375,1246.394287109375,1272.1312255859375,1234.1807861328125,1229.739013671875,1152.684814453125,1103.6904296875,1100.223876953125,1073.0526123046875,1083.4189453125,1152.94384765625,1165.6827392578125,1193.63671875,1246.8948974609375,1262.8857421875,1225.3597412109375],\"low\":[1779.8675537109375,1663.4339599609375,1507.0389404296875,1436.1839599609375,1181.9482421875,1094.701904296875,1025.6842041015625,1058.7845458984375,1060.86767578125,896.1090087890625,943.1163330078125,1066.1131591796875,1112.5726318359375,1049.7633056640625,1050.2196044921875,1134.5140380859375,1184.56201171875,1199.4063720703125,1179.79248046875,1141.15966796875,1092.09912109375,1009.0948486328125,1040.1507568359375,1033.962158203125,1044.005615234375,1048.3963623046875,1086.8299560546875,1116.24755859375,1165.6231689453125,1200.6322021484375,1209.9903564453125],\"name\":\"market data\",\"open\":[1793.5128173828125,1789.68994140625,1665.2178955078125,1530.189697265625,1443.83544921875,1204.5552978515625,1211.365966796875,1233.603515625,1067.9876708984375,1086.3779296875,993.400634765625,1127.65625,1127.5118408203125,1125.3729248046875,1051.329345703125,1143.2047119140625,1226.7247314453125,1242.987548828125,1199.713134765625,1193.2540283203125,1144.5244140625,1099.3531494140625,1068.3167724609375,1060.1212158203125,1066.4674072265625,1073.7943115234375,1150.509765625,1134.822265625,1186.9609375,1237.580322265625,1220.102294921875],\"x\":[\"2022-06-09T00:00:00\",\"2022-06-10T00:00:00\",\"2022-06-11T00:00:00\",\"2022-06-12T00:00:00\",\"2022-06-13T00:00:00\",\"2022-06-14T00:00:00\",\"2022-06-15T00:00:00\",\"2022-06-16T00:00:00\",\"2022-06-17T00:00:00\",\"2022-06-18T00:00:00\",\"2022-06-19T00:00:00\",\"2022-06-20T00:00:00\",\"2022-06-21T00:00:00\",\"2022-06-22T00:00:00\",\"2022-06-23T00:00:00\",\"2022-06-24T00:00:00\",\"2022-06-25T00:00:00\",\"2022-06-26T00:00:00\",\"2022-06-27T00:00:00\",\"2022-06-28T00:00:00\",\"2022-06-29T00:00:00\",\"2022-06-30T00:00:00\",\"2022-07-01T00:00:00\",\"2022-07-02T00:00:00\",\"2022-07-03T00:00:00\",\"2022-07-04T00:00:00\",\"2022-07-05T00:00:00\",\"2022-07-06T00:00:00\",\"2022-07-07T00:00:00\",\"2022-07-08T00:00:00\",\"2022-07-09T00:00:00\"],\"type\":\"candlestick\"}],                        {\"template\":{\"data\":{\"bar\":[{\"error_x\":{\"color\":\"#2a3f5f\"},\"error_y\":{\"color\":\"#2a3f5f\"},\"marker\":{\"line\":{\"color\":\"#E5ECF6\",\"width\":0.5},\"pattern\":{\"fillmode\":\"overlay\",\"size\":10,\"solidity\":0.2}},\"type\":\"bar\"}],\"barpolar\":[{\"marker\":{\"line\":{\"color\":\"#E5ECF6\",\"width\":0.5},\"pattern\":{\"fillmode\":\"overlay\",\"size\":10,\"solidity\":0.2}},\"type\":\"barpolar\"}],\"carpet\":[{\"aaxis\":{\"endlinecolor\":\"#2a3f5f\",\"gridcolor\":\"white\",\"linecolor\":\"white\",\"minorgridcolor\":\"white\",\"startlinecolor\":\"#2a3f5f\"},\"baxis\":{\"endlinecolor\":\"#2a3f5f\",\"gridcolor\":\"white\",\"linecolor\":\"white\",\"minorgridcolor\":\"white\",\"startlinecolor\":\"#2a3f5f\"},\"type\":\"carpet\"}],\"choropleth\":[{\"colorbar\":{\"outlinewidth\":0,\"ticks\":\"\"},\"type\":\"choropleth\"}],\"contour\":[{\"colorbar\":{\"outlinewidth\":0,\"ticks\":\"\"},\"colorscale\":[[0.0,\"#0d0887\"],[0.1111111111111111,\"#46039f\"],[0.2222222222222222,\"#7201a8\"],[0.3333333333333333,\"#9c179e\"],[0.4444444444444444,\"#bd3786\"],[0.5555555555555556,\"#d8576b\"],[0.6666666666666666,\"#ed7953\"],[0.7777777777777778,\"#fb9f3a\"],[0.8888888888888888,\"#fdca26\"],[1.0,\"#f0f921\"]],\"type\":\"contour\"}],\"contourcarpet\":[{\"colorbar\":{\"outlinewidth\":0,\"ticks\":\"\"},\"type\":\"contourcarpet\"}],\"heatmap\":[{\"colorbar\":{\"outlinewidth\":0,\"ticks\":\"\"},\"colorscale\":[[0.0,\"#0d0887\"],[0.1111111111111111,\"#46039f\"],[0.2222222222222222,\"#7201a8\"],[0.3333333333333333,\"#9c179e\"],[0.4444444444444444,\"#bd3786\"],[0.5555555555555556,\"#d8576b\"],[0.6666666666666666,\"#ed7953\"],[0.7777777777777778,\"#fb9f3a\"],[0.8888888888888888,\"#fdca26\"],[1.0,\"#f0f921\"]],\"type\":\"heatmap\"}],\"heatmapgl\":[{\"colorbar\":{\"outlinewidth\":0,\"ticks\":\"\"},\"colorscale\":[[0.0,\"#0d0887\"],[0.1111111111111111,\"#46039f\"],[0.2222222222222222,\"#7201a8\"],[0.3333333333333333,\"#9c179e\"],[0.4444444444444444,\"#bd3786\"],[0.5555555555555556,\"#d8576b\"],[0.6666666666666666,\"#ed7953\"],[0.7777777777777778,\"#fb9f3a\"],[0.8888888888888888,\"#fdca26\"],[1.0,\"#f0f921\"]],\"type\":\"heatmapgl\"}],\"histogram\":[{\"marker\":{\"pattern\":{\"fillmode\":\"overlay\",\"size\":10,\"solidity\":0.2}},\"type\":\"histogram\"}],\"histogram2d\":[{\"colorbar\":{\"outlinewidth\":0,\"ticks\":\"\"},\"colorscale\":[[0.0,\"#0d0887\"],[0.1111111111111111,\"#46039f\"],[0.2222222222222222,\"#7201a8\"],[0.3333333333333333,\"#9c179e\"],[0.4444444444444444,\"#bd3786\"],[0.5555555555555556,\"#d8576b\"],[0.6666666666666666,\"#ed7953\"],[0.7777777777777778,\"#fb9f3a\"],[0.8888888888888888,\"#fdca26\"],[1.0,\"#f0f921\"]],\"type\":\"histogram2d\"}],\"histogram2dcontour\":[{\"colorbar\":{\"outlinewidth\":0,\"ticks\":\"\"},\"colorscale\":[[0.0,\"#0d0887\"],[0.1111111111111111,\"#46039f\"],[0.2222222222222222,\"#7201a8\"],[0.3333333333333333,\"#9c179e\"],[0.4444444444444444,\"#bd3786\"],[0.5555555555555556,\"#d8576b\"],[0.6666666666666666,\"#ed7953\"],[0.7777777777777778,\"#fb9f3a\"],[0.8888888888888888,\"#fdca26\"],[1.0,\"#f0f921\"]],\"type\":\"histogram2dcontour\"}],\"mesh3d\":[{\"colorbar\":{\"outlinewidth\":0,\"ticks\":\"\"},\"type\":\"mesh3d\"}],\"parcoords\":[{\"line\":{\"colorbar\":{\"outlinewidth\":0,\"ticks\":\"\"}},\"type\":\"parcoords\"}],\"pie\":[{\"automargin\":true,\"type\":\"pie\"}],\"scatter\":[{\"marker\":{\"colorbar\":{\"outlinewidth\":0,\"ticks\":\"\"}},\"type\":\"scatter\"}],\"scatter3d\":[{\"line\":{\"colorbar\":{\"outlinewidth\":0,\"ticks\":\"\"}},\"marker\":{\"colorbar\":{\"outlinewidth\":0,\"ticks\":\"\"}},\"type\":\"scatter3d\"}],\"scattercarpet\":[{\"marker\":{\"colorbar\":{\"outlinewidth\":0,\"ticks\":\"\"}},\"type\":\"scattercarpet\"}],\"scattergeo\":[{\"marker\":{\"colorbar\":{\"outlinewidth\":0,\"ticks\":\"\"}},\"type\":\"scattergeo\"}],\"scattergl\":[{\"marker\":{\"colorbar\":{\"outlinewidth\":0,\"ticks\":\"\"}},\"type\":\"scattergl\"}],\"scattermapbox\":[{\"marker\":{\"colorbar\":{\"outlinewidth\":0,\"ticks\":\"\"}},\"type\":\"scattermapbox\"}],\"scatterpolar\":[{\"marker\":{\"colorbar\":{\"outlinewidth\":0,\"ticks\":\"\"}},\"type\":\"scatterpolar\"}],\"scatterpolargl\":[{\"marker\":{\"colorbar\":{\"outlinewidth\":0,\"ticks\":\"\"}},\"type\":\"scatterpolargl\"}],\"scatterternary\":[{\"marker\":{\"colorbar\":{\"outlinewidth\":0,\"ticks\":\"\"}},\"type\":\"scatterternary\"}],\"surface\":[{\"colorbar\":{\"outlinewidth\":0,\"ticks\":\"\"},\"colorscale\":[[0.0,\"#0d0887\"],[0.1111111111111111,\"#46039f\"],[0.2222222222222222,\"#7201a8\"],[0.3333333333333333,\"#9c179e\"],[0.4444444444444444,\"#bd3786\"],[0.5555555555555556,\"#d8576b\"],[0.6666666666666666,\"#ed7953\"],[0.7777777777777778,\"#fb9f3a\"],[0.8888888888888888,\"#fdca26\"],[1.0,\"#f0f921\"]],\"type\":\"surface\"}],\"table\":[{\"cells\":{\"fill\":{\"color\":\"#EBF0F8\"},\"line\":{\"color\":\"white\"}},\"header\":{\"fill\":{\"color\":\"#C8D4E3\"},\"line\":{\"color\":\"white\"}},\"type\":\"table\"}]},\"layout\":{\"annotationdefaults\":{\"arrowcolor\":\"#2a3f5f\",\"arrowhead\":0,\"arrowwidth\":1},\"autotypenumbers\":\"strict\",\"coloraxis\":{\"colorbar\":{\"outlinewidth\":0,\"ticks\":\"\"}},\"colorscale\":{\"diverging\":[[0,\"#8e0152\"],[0.1,\"#c51b7d\"],[0.2,\"#de77ae\"],[0.3,\"#f1b6da\"],[0.4,\"#fde0ef\"],[0.5,\"#f7f7f7\"],[0.6,\"#e6f5d0\"],[0.7,\"#b8e186\"],[0.8,\"#7fbc41\"],[0.9,\"#4d9221\"],[1,\"#276419\"]],\"sequential\":[[0.0,\"#0d0887\"],[0.1111111111111111,\"#46039f\"],[0.2222222222222222,\"#7201a8\"],[0.3333333333333333,\"#9c179e\"],[0.4444444444444444,\"#bd3786\"],[0.5555555555555556,\"#d8576b\"],[0.6666666666666666,\"#ed7953\"],[0.7777777777777778,\"#fb9f3a\"],[0.8888888888888888,\"#fdca26\"],[1.0,\"#f0f921\"]],\"sequentialminus\":[[0.0,\"#0d0887\"],[0.1111111111111111,\"#46039f\"],[0.2222222222222222,\"#7201a8\"],[0.3333333333333333,\"#9c179e\"],[0.4444444444444444,\"#bd3786\"],[0.5555555555555556,\"#d8576b\"],[0.6666666666666666,\"#ed7953\"],[0.7777777777777778,\"#fb9f3a\"],[0.8888888888888888,\"#fdca26\"],[1.0,\"#f0f921\"]]},\"colorway\":[\"#636efa\",\"#EF553B\",\"#00cc96\",\"#ab63fa\",\"#FFA15A\",\"#19d3f3\",\"#FF6692\",\"#B6E880\",\"#FF97FF\",\"#FECB52\"],\"font\":{\"color\":\"#2a3f5f\"},\"geo\":{\"bgcolor\":\"white\",\"lakecolor\":\"white\",\"landcolor\":\"#E5ECF6\",\"showlakes\":true,\"showland\":true,\"subunitcolor\":\"white\"},\"hoverlabel\":{\"align\":\"left\"},\"hovermode\":\"closest\",\"mapbox\":{\"style\":\"light\"},\"paper_bgcolor\":\"white\",\"plot_bgcolor\":\"#E5ECF6\",\"polar\":{\"angularaxis\":{\"gridcolor\":\"white\",\"linecolor\":\"white\",\"ticks\":\"\"},\"bgcolor\":\"#E5ECF6\",\"radialaxis\":{\"gridcolor\":\"white\",\"linecolor\":\"white\",\"ticks\":\"\"}},\"scene\":{\"xaxis\":{\"backgroundcolor\":\"#E5ECF6\",\"gridcolor\":\"white\",\"gridwidth\":2,\"linecolor\":\"white\",\"showbackground\":true,\"ticks\":\"\",\"zerolinecolor\":\"white\"},\"yaxis\":{\"backgroundcolor\":\"#E5ECF6\",\"gridcolor\":\"white\",\"gridwidth\":2,\"linecolor\":\"white\",\"showbackground\":true,\"ticks\":\"\",\"zerolinecolor\":\"white\"},\"zaxis\":{\"backgroundcolor\":\"#E5ECF6\",\"gridcolor\":\"white\",\"gridwidth\":2,\"linecolor\":\"white\",\"showbackground\":true,\"ticks\":\"\",\"zerolinecolor\":\"white\"}},\"shapedefaults\":{\"line\":{\"color\":\"#2a3f5f\"}},\"ternary\":{\"aaxis\":{\"gridcolor\":\"white\",\"linecolor\":\"white\",\"ticks\":\"\"},\"baxis\":{\"gridcolor\":\"white\",\"linecolor\":\"white\",\"ticks\":\"\"},\"bgcolor\":\"#E5ECF6\",\"caxis\":{\"gridcolor\":\"white\",\"linecolor\":\"white\",\"ticks\":\"\"}},\"title\":{\"x\":0.05},\"xaxis\":{\"automargin\":true,\"gridcolor\":\"white\",\"linecolor\":\"white\",\"ticks\":\"\",\"title\":{\"standoff\":15},\"zerolinecolor\":\"white\",\"zerolinewidth\":2},\"yaxis\":{\"automargin\":true,\"gridcolor\":\"white\",\"linecolor\":\"white\",\"ticks\":\"\",\"title\":{\"standoff\":15},\"zerolinecolor\":\"white\",\"zerolinewidth\":2}}},\"title\":{\"text\":\"Ethereum live share price evolution\"},\"yaxis\":{\"title\":{\"text\":\"Ethereum Price (kUS Dollars)\"}}},                        {\"responsive\": true}                    ).then(function(){\n",
              "                            \n",
              "var gd = document.getElementById('db66d43b-6245-4c36-9f4b-f34baeb9142a');\n",
              "var x = new MutationObserver(function (mutations, observer) {{\n",
              "        var display = window.getComputedStyle(gd).display;\n",
              "        if (!display || display === 'none') {{\n",
              "            console.log([gd, 'removed!']);\n",
              "            Plotly.purge(gd);\n",
              "            observer.disconnect();\n",
              "        }}\n",
              "}});\n",
              "\n",
              "// Listen for the removal of the full notebook cells\n",
              "var notebookContainer = gd.closest('#notebook-container');\n",
              "if (notebookContainer) {{\n",
              "    x.observe(notebookContainer, {childList: true});\n",
              "}}\n",
              "\n",
              "// Listen for the clearing of the current output cell\n",
              "var outputEl = gd.closest('.output');\n",
              "if (outputEl) {{\n",
              "    x.observe(outputEl, {childList: true});\n",
              "}}\n",
              "\n",
              "                        })                };                            </script>        </div>\n",
              "</body>\n",
              "</html>"
            ]
          },
          "metadata": {}
        }
      ]
    },
    {
      "cell_type": "markdown",
      "metadata": {
        "id": "ksap53JiqtFw"
      },
      "source": [
        "**Candlestick() function**"
      ]
    },
    {
      "cell_type": "code",
      "metadata": {
        "colab": {
          "base_uri": "https://localhost:8080/",
          "height": 560
        },
        "id": "OjAMltebz85B",
        "outputId": "83eeee4c-3341-45ab-b23e-ec065e3f9ae7"
      },
      "source": [
        "Candlestick('ETH-USD', 'Ethereum')"
      ],
      "execution_count": 48,
      "outputs": [
        {
          "output_type": "stream",
          "name": "stdout",
          "text": [
            "\r[*********************100%***********************]  1 of 1 completed\n"
          ]
        },
        {
          "output_type": "display_data",
          "data": {
            "text/html": [
              "<html>\n",
              "<head><meta charset=\"utf-8\" /></head>\n",
              "<body>\n",
              "    <div>            <script src=\"https://cdnjs.cloudflare.com/ajax/libs/mathjax/2.7.5/MathJax.js?config=TeX-AMS-MML_SVG\"></script><script type=\"text/javascript\">if (window.MathJax) {MathJax.Hub.Config({SVG: {font: \"STIX-Web\"}});}</script>                <script type=\"text/javascript\">window.PlotlyConfig = {MathJaxConfig: 'local'};</script>\n",
              "        <script src=\"https://cdn.plot.ly/plotly-2.8.3.min.js\"></script>                <div id=\"d2089b57-fc13-4034-855b-2d17afb9d020\" class=\"plotly-graph-div\" style=\"height:525px; width:100%;\"></div>            <script type=\"text/javascript\">                                    window.PLOTLYENV=window.PLOTLYENV || {};                                    if (document.getElementById(\"d2089b57-fc13-4034-855b-2d17afb9d020\")) {                    Plotly.newPlot(                        \"d2089b57-fc13-4034-855b-2d17afb9d020\",                        [{\"close\":[1226.82080078125,1224.37939453125,1230.5531005859375,1232.587890625,1228.0640869140625,1227.3621826171875,1230.807861328125,1234.75537109375,1239.01318359375,1238.1112060546875,1241.8455810546875,1243.7154541015625,1242.9327392578125,1245.7156982421875,1247.57421875,1241.4268798828125,1235.3797607421875,1233.396484375,1235.073974609375,1234.9727783203125,1232.85888671875,1233.306396484375,1239.9468994140625,1237.9647216796875,1230.209228515625,1217.113037109375,1221.0714111328125,1220.5732421875,1212.7149658203125,1213.0096435546875,1212.88037109375,1212.728759765625,1212.33203125,1213.84228515625,1215.4967041015625,1213.6717529296875,1214.5811767578125,1215.900146484375,1210.3349609375,1214.136962890625,1216.090087890625,1216.809326171875,1213.7608642578125,1214.9306640625,1216.0882568359375,1219.06005859375,1214.83740234375,1214.2723388671875,1214.2412109375,1215.459228515625,1215.8319091796875,1216.933837890625,1217.794921875,1220.0289306640625,1223.4891357421875,1221.9017333984375,1223.879150390625,1224.3095703125,1222.6746826171875,1222.7255859375,1225.2550048828125,1224.1295166015625,1221.0018310546875,1221.086669921875,1219.7325439453125,1220.564208984375,1221.479736328125,1221.9259033203125,1223.82958984375,1223.8370361328125,1223.3416748046875,1219.9725341796875,1210.9593505859375,1210.495849609375,1213.5904541015625,1214.238525390625,1213.70751953125,1215.9849853515625,1216.41650390625,1215.7567138671875,1214.2130126953125,1219.60595703125,1217.8431396484375,1217.0120849609375,1217.0147705078125],\"high\":[1228.3270263671875,1226.7196044921875,1230.5531005859375,1233.0655517578125,1233.15673828125,1227.9237060546875,1233.2197265625,1234.75537109375,1240.2235107421875,1238.8251953125,1241.8455810546875,1247.911376953125,1243.560791015625,1245.7156982421875,1247.57421875,1248.0079345703125,1239.646728515625,1233.708251953125,1235.073974609375,1235.588623046875,1235.3502197265625,1233.856201171875,1239.9468994140625,1239.701171875,1237.7647705078125,1220.0787353515625,1221.0714111328125,1221.2679443359375,1220.68017578125,1214.635009765625,1217.910400390625,1213.4913330078125,1213.9381103515625,1214.680419921875,1215.4967041015625,1216.0885009765625,1215.481689453125,1215.900146484375,1214.3978271484375,1214.136962890625,1216.090087890625,1217.1373291015625,1215.79541015625,1214.9306640625,1216.0882568359375,1219.099853515625,1218.291748046875,1215.13818359375,1214.2412109375,1215.459228515625,1215.8319091796875,1216.933837890625,1218.1109619140625,1220.0289306640625,1223.8773193359375,1223.7509765625,1224.9937744140625,1224.3095703125,1224.2796630859375,1223.2593994140625,1225.2550048828125,1225.64306640625,1223.2445068359375,1221.4552001953125,1220.8238525390625,1220.564208984375,1221.7098388671875,1221.9259033203125,1223.82958984375,1224.10546875,1224.139404296875,1222.510498046875,1219.819091796875,1211.99169921875,1214.1624755859375,1214.238525390625,1214.129150390625,1215.9849853515625,1216.6339111328125,1216.6434326171875,1215.861572265625,1219.60595703125,1219.80908203125,1217.8597412109375,1217.0147705078125],\"low\":[1225.9224853515625,1224.320068359375,1224.571044921875,1231.2078857421875,1228.0640869140625,1224.5040283203125,1227.013916015625,1231.326171875,1238.9964599609375,1237.47607421875,1237.68017578125,1243.564697265625,1241.8724365234375,1242.720703125,1246.2255859375,1241.4268798828125,1235.3797607421875,1232.3385009765625,1234.372802734375,1234.673828125,1232.85888671875,1231.3995361328125,1233.582275390625,1237.598388671875,1230.209228515625,1216.92041015625,1216.9696044921875,1220.1326904296875,1212.66064453125,1212.88330078125,1212.73876953125,1212.728759765625,1212.33203125,1212.8704833984375,1213.629638671875,1213.6717529296875,1213.5706787109375,1213.9715576171875,1210.3349609375,1209.59228515625,1214.781005859375,1216.257080078125,1212.8433837890625,1213.1383056640625,1214.821533203125,1216.5994873046875,1214.3560791015625,1214.2723388671875,1213.3580322265625,1214.113037109375,1214.792724609375,1215.72900390625,1217.5440673828125,1217.6075439453125,1220.493896484375,1221.9017333984375,1222.066162109375,1223.380859375,1220.5975341796875,1221.51123046875,1223.2703857421875,1224.051025390625,1220.38720703125,1220.8192138671875,1219.168212890625,1218.6351318359375,1219.7481689453125,1220.539794921875,1222.165283203125,1223.198486328125,1222.4290771484375,1219.9725341796875,1210.9593505859375,1209.7828369140625,1211.5263671875,1212.4539794921875,1212.3140869140625,1213.2994384765625,1215.772216796875,1215.441650390625,1212.8204345703125,1212.8270263671875,1217.751953125,1217.0120849609375,1217.0147705078125],\"name\":\"market data\",\"open\":[1225.9224853515625,1226.099365234375,1224.571044921875,1231.2078857421875,1233.15673828125,1227.9237060546875,1227.013916015625,1231.4671630859375,1239.341796875,1238.8251953125,1237.68017578125,1243.564697265625,1243.560791015625,1242.8123779296875,1246.2255859375,1247.79638671875,1239.646728515625,1232.3385009765625,1234.8485107421875,1235.1256103515625,1235.3502197265625,1232.2550048828125,1233.582275390625,1239.701171875,1237.7647705078125,1219.9898681640625,1216.9696044921875,1221.0322265625,1220.68017578125,1213.629150390625,1214.2869873046875,1213.0220947265625,1213.200439453125,1212.8704833984375,1213.629638671875,1215.5670166015625,1213.7154541015625,1215.219482421875,1213.77490234375,1209.59228515625,1214.781005859375,1216.257080078125,1215.79541015625,1213.6298828125,1215.0242919921875,1216.5994873046875,1218.291748046875,1214.8692626953125,1214.1077880859375,1214.650634765625,1215.29248046875,1215.72900390625,1217.5440673828125,1217.6075439453125,1220.493896484375,1223.451416015625,1222.2525634765625,1224.04736328125,1224.2796630859375,1222.8175048828125,1223.2703857421875,1225.64306640625,1223.2445068359375,1220.8192138671875,1220.8238525390625,1219.8492431640625,1220.4617919921875,1220.890380859375,1222.165283203125,1223.908447265625,1223.245361328125,1222.510498046875,1219.819091796875,1210.4361572265625,1211.5263671875,1212.4539794921875,1214.129150390625,1213.60791015625,1216.0009765625,1216.437744140625,1215.861572265625,1213.9842529296875,1219.734619140625,1217.8597412109375,1217.0147705078125],\"x\":[\"2022-07-08T17:45:00+00:00\",\"2022-07-08T18:00:00+00:00\",\"2022-07-08T18:15:00+00:00\",\"2022-07-08T18:30:00+00:00\",\"2022-07-08T18:45:00+00:00\",\"2022-07-08T19:00:00+00:00\",\"2022-07-08T19:15:00+00:00\",\"2022-07-08T19:30:00+00:00\",\"2022-07-08T19:45:00+00:00\",\"2022-07-08T20:00:00+00:00\",\"2022-07-08T20:15:00+00:00\",\"2022-07-08T20:30:00+00:00\",\"2022-07-08T20:45:00+00:00\",\"2022-07-08T21:00:00+00:00\",\"2022-07-08T21:15:00+00:00\",\"2022-07-08T21:30:00+00:00\",\"2022-07-08T21:45:00+00:00\",\"2022-07-08T22:00:00+00:00\",\"2022-07-08T22:15:00+00:00\",\"2022-07-08T22:30:00+00:00\",\"2022-07-08T22:45:00+00:00\",\"2022-07-08T23:00:00+00:00\",\"2022-07-08T23:15:00+00:00\",\"2022-07-08T23:30:00+00:00\",\"2022-07-08T23:45:00+00:00\",\"2022-07-09T00:00:00+00:00\",\"2022-07-09T00:15:00+00:00\",\"2022-07-09T00:30:00+00:00\",\"2022-07-09T00:45:00+00:00\",\"2022-07-09T01:00:00+00:00\",\"2022-07-09T01:15:00+00:00\",\"2022-07-09T01:30:00+00:00\",\"2022-07-09T01:45:00+00:00\",\"2022-07-09T02:00:00+00:00\",\"2022-07-09T02:15:00+00:00\",\"2022-07-09T02:30:00+00:00\",\"2022-07-09T02:45:00+00:00\",\"2022-07-09T03:00:00+00:00\",\"2022-07-09T03:15:00+00:00\",\"2022-07-09T03:30:00+00:00\",\"2022-07-09T03:45:00+00:00\",\"2022-07-09T04:00:00+00:00\",\"2022-07-09T04:15:00+00:00\",\"2022-07-09T04:30:00+00:00\",\"2022-07-09T04:45:00+00:00\",\"2022-07-09T05:00:00+00:00\",\"2022-07-09T05:15:00+00:00\",\"2022-07-09T05:30:00+00:00\",\"2022-07-09T05:45:00+00:00\",\"2022-07-09T06:00:00+00:00\",\"2022-07-09T06:15:00+00:00\",\"2022-07-09T06:30:00+00:00\",\"2022-07-09T06:45:00+00:00\",\"2022-07-09T07:00:00+00:00\",\"2022-07-09T07:15:00+00:00\",\"2022-07-09T07:30:00+00:00\",\"2022-07-09T07:45:00+00:00\",\"2022-07-09T08:00:00+00:00\",\"2022-07-09T08:15:00+00:00\",\"2022-07-09T08:30:00+00:00\",\"2022-07-09T08:45:00+00:00\",\"2022-07-09T09:00:00+00:00\",\"2022-07-09T09:15:00+00:00\",\"2022-07-09T09:30:00+00:00\",\"2022-07-09T09:45:00+00:00\",\"2022-07-09T10:00:00+00:00\",\"2022-07-09T10:15:00+00:00\",\"2022-07-09T10:30:00+00:00\",\"2022-07-09T10:45:00+00:00\",\"2022-07-09T11:00:00+00:00\",\"2022-07-09T11:15:00+00:00\",\"2022-07-09T11:30:00+00:00\",\"2022-07-09T11:45:00+00:00\",\"2022-07-09T12:00:00+00:00\",\"2022-07-09T12:15:00+00:00\",\"2022-07-09T12:30:00+00:00\",\"2022-07-09T12:45:00+00:00\",\"2022-07-09T13:00:00+00:00\",\"2022-07-09T13:15:00+00:00\",\"2022-07-09T13:30:00+00:00\",\"2022-07-09T13:45:00+00:00\",\"2022-07-09T14:00:00+00:00\",\"2022-07-09T14:15:00+00:00\",\"2022-07-09T14:30:00+00:00\",\"2022-07-09T14:42:00+00:00\"],\"type\":\"candlestick\"}],                        {\"template\":{\"data\":{\"bar\":[{\"error_x\":{\"color\":\"#2a3f5f\"},\"error_y\":{\"color\":\"#2a3f5f\"},\"marker\":{\"line\":{\"color\":\"#E5ECF6\",\"width\":0.5},\"pattern\":{\"fillmode\":\"overlay\",\"size\":10,\"solidity\":0.2}},\"type\":\"bar\"}],\"barpolar\":[{\"marker\":{\"line\":{\"color\":\"#E5ECF6\",\"width\":0.5},\"pattern\":{\"fillmode\":\"overlay\",\"size\":10,\"solidity\":0.2}},\"type\":\"barpolar\"}],\"carpet\":[{\"aaxis\":{\"endlinecolor\":\"#2a3f5f\",\"gridcolor\":\"white\",\"linecolor\":\"white\",\"minorgridcolor\":\"white\",\"startlinecolor\":\"#2a3f5f\"},\"baxis\":{\"endlinecolor\":\"#2a3f5f\",\"gridcolor\":\"white\",\"linecolor\":\"white\",\"minorgridcolor\":\"white\",\"startlinecolor\":\"#2a3f5f\"},\"type\":\"carpet\"}],\"choropleth\":[{\"colorbar\":{\"outlinewidth\":0,\"ticks\":\"\"},\"type\":\"choropleth\"}],\"contour\":[{\"colorbar\":{\"outlinewidth\":0,\"ticks\":\"\"},\"colorscale\":[[0.0,\"#0d0887\"],[0.1111111111111111,\"#46039f\"],[0.2222222222222222,\"#7201a8\"],[0.3333333333333333,\"#9c179e\"],[0.4444444444444444,\"#bd3786\"],[0.5555555555555556,\"#d8576b\"],[0.6666666666666666,\"#ed7953\"],[0.7777777777777778,\"#fb9f3a\"],[0.8888888888888888,\"#fdca26\"],[1.0,\"#f0f921\"]],\"type\":\"contour\"}],\"contourcarpet\":[{\"colorbar\":{\"outlinewidth\":0,\"ticks\":\"\"},\"type\":\"contourcarpet\"}],\"heatmap\":[{\"colorbar\":{\"outlinewidth\":0,\"ticks\":\"\"},\"colorscale\":[[0.0,\"#0d0887\"],[0.1111111111111111,\"#46039f\"],[0.2222222222222222,\"#7201a8\"],[0.3333333333333333,\"#9c179e\"],[0.4444444444444444,\"#bd3786\"],[0.5555555555555556,\"#d8576b\"],[0.6666666666666666,\"#ed7953\"],[0.7777777777777778,\"#fb9f3a\"],[0.8888888888888888,\"#fdca26\"],[1.0,\"#f0f921\"]],\"type\":\"heatmap\"}],\"heatmapgl\":[{\"colorbar\":{\"outlinewidth\":0,\"ticks\":\"\"},\"colorscale\":[[0.0,\"#0d0887\"],[0.1111111111111111,\"#46039f\"],[0.2222222222222222,\"#7201a8\"],[0.3333333333333333,\"#9c179e\"],[0.4444444444444444,\"#bd3786\"],[0.5555555555555556,\"#d8576b\"],[0.6666666666666666,\"#ed7953\"],[0.7777777777777778,\"#fb9f3a\"],[0.8888888888888888,\"#fdca26\"],[1.0,\"#f0f921\"]],\"type\":\"heatmapgl\"}],\"histogram\":[{\"marker\":{\"pattern\":{\"fillmode\":\"overlay\",\"size\":10,\"solidity\":0.2}},\"type\":\"histogram\"}],\"histogram2d\":[{\"colorbar\":{\"outlinewidth\":0,\"ticks\":\"\"},\"colorscale\":[[0.0,\"#0d0887\"],[0.1111111111111111,\"#46039f\"],[0.2222222222222222,\"#7201a8\"],[0.3333333333333333,\"#9c179e\"],[0.4444444444444444,\"#bd3786\"],[0.5555555555555556,\"#d8576b\"],[0.6666666666666666,\"#ed7953\"],[0.7777777777777778,\"#fb9f3a\"],[0.8888888888888888,\"#fdca26\"],[1.0,\"#f0f921\"]],\"type\":\"histogram2d\"}],\"histogram2dcontour\":[{\"colorbar\":{\"outlinewidth\":0,\"ticks\":\"\"},\"colorscale\":[[0.0,\"#0d0887\"],[0.1111111111111111,\"#46039f\"],[0.2222222222222222,\"#7201a8\"],[0.3333333333333333,\"#9c179e\"],[0.4444444444444444,\"#bd3786\"],[0.5555555555555556,\"#d8576b\"],[0.6666666666666666,\"#ed7953\"],[0.7777777777777778,\"#fb9f3a\"],[0.8888888888888888,\"#fdca26\"],[1.0,\"#f0f921\"]],\"type\":\"histogram2dcontour\"}],\"mesh3d\":[{\"colorbar\":{\"outlinewidth\":0,\"ticks\":\"\"},\"type\":\"mesh3d\"}],\"parcoords\":[{\"line\":{\"colorbar\":{\"outlinewidth\":0,\"ticks\":\"\"}},\"type\":\"parcoords\"}],\"pie\":[{\"automargin\":true,\"type\":\"pie\"}],\"scatter\":[{\"marker\":{\"colorbar\":{\"outlinewidth\":0,\"ticks\":\"\"}},\"type\":\"scatter\"}],\"scatter3d\":[{\"line\":{\"colorbar\":{\"outlinewidth\":0,\"ticks\":\"\"}},\"marker\":{\"colorbar\":{\"outlinewidth\":0,\"ticks\":\"\"}},\"type\":\"scatter3d\"}],\"scattercarpet\":[{\"marker\":{\"colorbar\":{\"outlinewidth\":0,\"ticks\":\"\"}},\"type\":\"scattercarpet\"}],\"scattergeo\":[{\"marker\":{\"colorbar\":{\"outlinewidth\":0,\"ticks\":\"\"}},\"type\":\"scattergeo\"}],\"scattergl\":[{\"marker\":{\"colorbar\":{\"outlinewidth\":0,\"ticks\":\"\"}},\"type\":\"scattergl\"}],\"scattermapbox\":[{\"marker\":{\"colorbar\":{\"outlinewidth\":0,\"ticks\":\"\"}},\"type\":\"scattermapbox\"}],\"scatterpolar\":[{\"marker\":{\"colorbar\":{\"outlinewidth\":0,\"ticks\":\"\"}},\"type\":\"scatterpolar\"}],\"scatterpolargl\":[{\"marker\":{\"colorbar\":{\"outlinewidth\":0,\"ticks\":\"\"}},\"type\":\"scatterpolargl\"}],\"scatterternary\":[{\"marker\":{\"colorbar\":{\"outlinewidth\":0,\"ticks\":\"\"}},\"type\":\"scatterternary\"}],\"surface\":[{\"colorbar\":{\"outlinewidth\":0,\"ticks\":\"\"},\"colorscale\":[[0.0,\"#0d0887\"],[0.1111111111111111,\"#46039f\"],[0.2222222222222222,\"#7201a8\"],[0.3333333333333333,\"#9c179e\"],[0.4444444444444444,\"#bd3786\"],[0.5555555555555556,\"#d8576b\"],[0.6666666666666666,\"#ed7953\"],[0.7777777777777778,\"#fb9f3a\"],[0.8888888888888888,\"#fdca26\"],[1.0,\"#f0f921\"]],\"type\":\"surface\"}],\"table\":[{\"cells\":{\"fill\":{\"color\":\"#EBF0F8\"},\"line\":{\"color\":\"white\"}},\"header\":{\"fill\":{\"color\":\"#C8D4E3\"},\"line\":{\"color\":\"white\"}},\"type\":\"table\"}]},\"layout\":{\"annotationdefaults\":{\"arrowcolor\":\"#2a3f5f\",\"arrowhead\":0,\"arrowwidth\":1},\"autotypenumbers\":\"strict\",\"coloraxis\":{\"colorbar\":{\"outlinewidth\":0,\"ticks\":\"\"}},\"colorscale\":{\"diverging\":[[0,\"#8e0152\"],[0.1,\"#c51b7d\"],[0.2,\"#de77ae\"],[0.3,\"#f1b6da\"],[0.4,\"#fde0ef\"],[0.5,\"#f7f7f7\"],[0.6,\"#e6f5d0\"],[0.7,\"#b8e186\"],[0.8,\"#7fbc41\"],[0.9,\"#4d9221\"],[1,\"#276419\"]],\"sequential\":[[0.0,\"#0d0887\"],[0.1111111111111111,\"#46039f\"],[0.2222222222222222,\"#7201a8\"],[0.3333333333333333,\"#9c179e\"],[0.4444444444444444,\"#bd3786\"],[0.5555555555555556,\"#d8576b\"],[0.6666666666666666,\"#ed7953\"],[0.7777777777777778,\"#fb9f3a\"],[0.8888888888888888,\"#fdca26\"],[1.0,\"#f0f921\"]],\"sequentialminus\":[[0.0,\"#0d0887\"],[0.1111111111111111,\"#46039f\"],[0.2222222222222222,\"#7201a8\"],[0.3333333333333333,\"#9c179e\"],[0.4444444444444444,\"#bd3786\"],[0.5555555555555556,\"#d8576b\"],[0.6666666666666666,\"#ed7953\"],[0.7777777777777778,\"#fb9f3a\"],[0.8888888888888888,\"#fdca26\"],[1.0,\"#f0f921\"]]},\"colorway\":[\"#636efa\",\"#EF553B\",\"#00cc96\",\"#ab63fa\",\"#FFA15A\",\"#19d3f3\",\"#FF6692\",\"#B6E880\",\"#FF97FF\",\"#FECB52\"],\"font\":{\"color\":\"#2a3f5f\"},\"geo\":{\"bgcolor\":\"white\",\"lakecolor\":\"white\",\"landcolor\":\"#E5ECF6\",\"showlakes\":true,\"showland\":true,\"subunitcolor\":\"white\"},\"hoverlabel\":{\"align\":\"left\"},\"hovermode\":\"closest\",\"mapbox\":{\"style\":\"light\"},\"paper_bgcolor\":\"white\",\"plot_bgcolor\":\"#E5ECF6\",\"polar\":{\"angularaxis\":{\"gridcolor\":\"white\",\"linecolor\":\"white\",\"ticks\":\"\"},\"bgcolor\":\"#E5ECF6\",\"radialaxis\":{\"gridcolor\":\"white\",\"linecolor\":\"white\",\"ticks\":\"\"}},\"scene\":{\"xaxis\":{\"backgroundcolor\":\"#E5ECF6\",\"gridcolor\":\"white\",\"gridwidth\":2,\"linecolor\":\"white\",\"showbackground\":true,\"ticks\":\"\",\"zerolinecolor\":\"white\"},\"yaxis\":{\"backgroundcolor\":\"#E5ECF6\",\"gridcolor\":\"white\",\"gridwidth\":2,\"linecolor\":\"white\",\"showbackground\":true,\"ticks\":\"\",\"zerolinecolor\":\"white\"},\"zaxis\":{\"backgroundcolor\":\"#E5ECF6\",\"gridcolor\":\"white\",\"gridwidth\":2,\"linecolor\":\"white\",\"showbackground\":true,\"ticks\":\"\",\"zerolinecolor\":\"white\"}},\"shapedefaults\":{\"line\":{\"color\":\"#2a3f5f\"}},\"ternary\":{\"aaxis\":{\"gridcolor\":\"white\",\"linecolor\":\"white\",\"ticks\":\"\"},\"baxis\":{\"gridcolor\":\"white\",\"linecolor\":\"white\",\"ticks\":\"\"},\"bgcolor\":\"#E5ECF6\",\"caxis\":{\"gridcolor\":\"white\",\"linecolor\":\"white\",\"ticks\":\"\"}},\"title\":{\"x\":0.05},\"xaxis\":{\"automargin\":true,\"gridcolor\":\"white\",\"linecolor\":\"white\",\"ticks\":\"\",\"title\":{\"standoff\":15},\"zerolinecolor\":\"white\",\"zerolinewidth\":2},\"yaxis\":{\"automargin\":true,\"gridcolor\":\"white\",\"linecolor\":\"white\",\"ticks\":\"\",\"title\":{\"standoff\":15},\"zerolinecolor\":\"white\",\"zerolinewidth\":2}}},\"title\":{\"text\":\"Ethereum live share price evolution\"},\"yaxis\":{\"title\":{\"text\":\"Ethereum Price (kUS Dollars)\"}},\"xaxis\":{\"rangeslider\":{\"visible\":true},\"rangeselector\":{\"buttons\":[{\"count\":15,\"label\":\"15m\",\"step\":\"minute\",\"stepmode\":\"backward\"},{\"count\":45,\"label\":\"45m\",\"step\":\"minute\",\"stepmode\":\"backward\"},{\"count\":1,\"label\":\"HTD\",\"step\":\"hour\",\"stepmode\":\"todate\"},{\"count\":6,\"label\":\"6h\",\"step\":\"hour\",\"stepmode\":\"backward\"},{\"step\":\"all\"}]}}},                        {\"responsive\": true}                    ).then(function(){\n",
              "                            \n",
              "var gd = document.getElementById('d2089b57-fc13-4034-855b-2d17afb9d020');\n",
              "var x = new MutationObserver(function (mutations, observer) {{\n",
              "        var display = window.getComputedStyle(gd).display;\n",
              "        if (!display || display === 'none') {{\n",
              "            console.log([gd, 'removed!']);\n",
              "            Plotly.purge(gd);\n",
              "            observer.disconnect();\n",
              "        }}\n",
              "}});\n",
              "\n",
              "// Listen for the removal of the full notebook cells\n",
              "var notebookContainer = gd.closest('#notebook-container');\n",
              "if (notebookContainer) {{\n",
              "    x.observe(notebookContainer, {childList: true});\n",
              "}}\n",
              "\n",
              "// Listen for the clearing of the current output cell\n",
              "var outputEl = gd.closest('.output');\n",
              "if (outputEl) {{\n",
              "    x.observe(outputEl, {childList: true});\n",
              "}}\n",
              "\n",
              "                        })                };                            </script>        </div>\n",
              "</body>\n",
              "</html>"
            ]
          },
          "metadata": {}
        }
      ]
    },
    {
      "cell_type": "markdown",
      "metadata": {
        "id": "gzNF3n6qbCBM"
      },
      "source": [
        "## Clusterization"
      ]
    },
    {
      "cell_type": "markdown",
      "metadata": {
        "id": "uWuURojDgw_a"
      },
      "source": [
        "1. Cluserization using Kmeans without generated features\n",
        "2. Cluserization using Kmeans with generated features\n",
        "\n",
        "\n",
        "\n"
      ]
    },
    {
      "cell_type": "markdown",
      "source": [
        "### 1. Cluserization using Kmeans without generated features"
      ],
      "metadata": {
        "id": "Gz7PTJWIOGHC"
      }
    },
    {
      "cell_type": "markdown",
      "metadata": {
        "id": "J6mpIc9ZhgIH"
      },
      "source": [
        "Create new dataframe assets_norm with normalized assets"
      ]
    },
    {
      "cell_type": "code",
      "metadata": {
        "id": "112_JhOIBM1G"
      },
      "source": [
        "assets.fillna(0, inplace=True)"
      ],
      "execution_count": 49,
      "outputs": []
    },
    {
      "cell_type": "code",
      "metadata": {
        "id": "IX_HvWlV7YqM"
      },
      "source": [
        "scaled_data = StandardScaler().fit_transform(assets).T"
      ],
      "execution_count": 50,
      "outputs": []
    },
    {
      "cell_type": "markdown",
      "metadata": {
        "id": "nueZe7PIJmT-"
      },
      "source": [
        "Definition of a number of clusters"
      ]
    },
    {
      "cell_type": "markdown",
      "metadata": {
        "id": "W8QjpxiXHcL7"
      },
      "source": [
        "*   Analysis of SSE and silhoette\n",
        "*   Definition of the number of clusters\n",
        "\n"
      ]
    },
    {
      "cell_type": "markdown",
      "metadata": {
        "id": "ra4Ae3F7IMJG"
      },
      "source": [
        "The higher silhouette - the better <br>\n",
        "The lower SSE - the better"
      ]
    },
    {
      "cell_type": "code",
      "metadata": {
        "colab": {
          "base_uri": "https://localhost:8080/",
          "height": 297
        },
        "id": "F7r8CsymOH-k",
        "outputId": "880f80ee-ba5f-49dd-cd55-0a1a2da3fc44"
      },
      "source": [
        "sse = []\n",
        "silhouette = []\n",
        "K = range(2, 11)\n",
        "for k in tqdm(K):\n",
        "    kmeanModel = TimeSeriesKMeans(n_clusters=k, metric='euclidean', init='random', max_iter=300)\n",
        "    kmeanModel.fit(scaled_data)\n",
        "    sse.append(kmeanModel.inertia_)\n",
        "    silhouette.append(silhouette_score(scaled_data, kmeanModel.labels_, metric='euclidean'))\n",
        "\n",
        "fig, ax1 = plt.subplots()\n",
        "ax2 = ax1.twinx()\n",
        "\n",
        "ax1.plot(sse, 'b-')\n",
        "ax2.plot(silhouette, 'r-')\n",
        "\n",
        "ax1.set_xlabel('clusters')\n",
        "ax1.set_ylabel('SSE', color='b')\n",
        "ax2.set_ylabel('Silhouette', color='r')\n",
        "\n",
        "plt.show()"
      ],
      "execution_count": 158,
      "outputs": [
        {
          "output_type": "stream",
          "name": "stderr",
          "text": [
            "100%|██████████| 9/9 [00:00<00:00, 37.58it/s]\n"
          ]
        },
        {
          "output_type": "display_data",
          "data": {
            "text/plain": [
              "<Figure size 432x288 with 2 Axes>"
            ],
            "image/png": "[encoded data removed]"
          },
          "metadata": {
            "needs_background": "light"
          }
        }
      ]
    },
    {
      "cell_type": "markdown",
      "metadata": {
        "id": "XY13jo6EIsfG"
      },
      "source": [
        "Number of clusters chosen: 5"
      ]
    },
    {
      "cell_type": "code",
      "metadata": {
        "colab": {
          "base_uri": "https://localhost:8080/"
        },
        "id": "blx_ZTL-Vig_",
        "outputId": "8007ce93-14f0-4395-d1cb-781d3c71acda"
      },
      "source": [
        "n_clusters = 5\n",
        "ts_kmeans = TimeSeriesKMeans(n_clusters=n_clusters, metric='euclidean', init='random', max_iter=300)\n",
        "ts_kmeans.fit(scaled_data) #predicting cluster of the assets given "
      ],
      "execution_count": 52,
      "outputs": [
        {
          "output_type": "execute_result",
          "data": {
            "text/plain": [
              "TimeSeriesKMeans(init='random', max_iter=300, n_clusters=5)"
            ]
          },
          "metadata": {},
          "execution_count": 52
        }
      ]
    },
    {
      "cell_type": "markdown",
      "source": [
        "Visualization of cluster centroids"
      ],
      "metadata": {
        "id": "ybOOr3zjOWsi"
      }
    },
    {
      "cell_type": "code",
      "metadata": {
        "colab": {
          "base_uri": "https://localhost:8080/",
          "height": 281
        },
        "id": "_JG9VL55mZOy",
        "outputId": "5507bb4f-1ec8-4a7a-c0d1-38d4a91988a5"
      },
      "source": [
        "for cluster in range(n_clusters):\n",
        "  plt.plot(ts_kmeans.cluster_centers_[cluster, :, 0], label=cluster)\n",
        "plt.title('Cluster centroids')\n",
        "plt.legend()\n",
        "plt.show()"
      ],
      "execution_count": 53,
      "outputs": [
        {
          "output_type": "display_data",
          "data": {
            "text/plain": [
              "<Figure size 432x288 with 1 Axes>"
            ],
            "image/png": "[encoded data removed]"
          },
          "metadata": {
            "needs_background": "light"
          }
        }
      ]
    },
    {
      "cell_type": "markdown",
      "metadata": {
        "id": "HAmmYqhxJWWW"
      },
      "source": [
        "Addition of a column **clusters** to the dataframe assets_transposed"
      ]
    },
    {
      "cell_type": "code",
      "metadata": {
        "id": "McHtP3pPh7Uv"
      },
      "source": [
        "assets_transposed = assets.T"
      ],
      "execution_count": 76,
      "outputs": []
    },
    {
      "cell_type": "code",
      "source": [
        "assets_transposed['clusters'] = ts_kmeans.predict(scaled_data)"
      ],
      "metadata": {
        "colab": {
          "base_uri": "https://localhost:8080/"
        },
        "id": "1hXybAXVkVuy",
        "outputId": "a737964e-4c7b-4ebe-9735-59b9d79be914"
      },
      "execution_count": 77,
      "outputs": [
        {
          "output_type": "stream",
          "name": "stderr",
          "text": [
            "/usr/local/lib/python3.7/dist-packages/tslearn/utils/utils.py:89: UserWarning:\n",
            "\n",
            "2-Dimensional data passed. Assuming these are 30 1-dimensional timeseries\n",
            "\n"
          ]
        }
      ]
    },
    {
      "cell_type": "markdown",
      "metadata": {
        "id": "IVd_7PHAJgL4"
      },
      "source": [
        "Cryptos' visualization in the particular cluster"
      ]
    },
    {
      "cell_type": "code",
      "metadata": {
        "id": "rOBxx-s93dOz",
        "colab": {
          "base_uri": "https://localhost:8080/",
          "height": 1000
        },
        "outputId": "e87c3ab6-7a5e-49e7-a4f0-51cf5ea7dd93"
      },
      "source": [
        "visualize_cluster(2, assets_transposed)"
      ],
      "execution_count": 79,
      "outputs": [
        {
          "output_type": "stream",
          "name": "stdout",
          "text": [
            "There are 4 in 2 cluster\n"
          ]
        },
        {
          "output_type": "display_data",
          "data": {
            "text/plain": [
              "<Figure size 432x288 with 1 Axes>"
            ],
            "image/png": "[encoded data removed]"
          },
          "metadata": {
            "needs_background": "light"
          }
        },
        {
          "output_type": "display_data",
          "data": {
            "text/plain": [
              "<Figure size 432x288 with 1 Axes>"
            ],
            "image/png": "[encoded data removed]"
          },
          "metadata": {
            "needs_background": "light"
          }
        },
        {
          "output_type": "display_data",
          "data": {
            "text/plain": [
              "<Figure size 432x288 with 1 Axes>"
            ],
            "image/png": "[encoded data removed]"
          },
          "metadata": {
            "needs_background": "light"
          }
        },
        {
          "output_type": "display_data",
          "data": {
            "text/plain": [
              "<Figure size 432x288 with 1 Axes>"
            ],
            "image/png": "[encoded data removed]"
          },
          "metadata": {
            "needs_background": "light"
          }
        }
      ]
    },
    {
      "cell_type": "markdown",
      "metadata": {
        "id": "TyZh7Y935QQP"
      },
      "source": [
        "### 2. Cluserization using Kmeans with generated features"
      ]
    },
    {
      "cell_type": "markdown",
      "source": [
        "Normalization of assets <br> $z=\\frac{(x_i - \\overline {x})} {σ}$\n"
      ],
      "metadata": {
        "id": "g72c5Cc_0lwV"
      }
    },
    {
      "cell_type": "code",
      "source": [
        "norm_assets = assets.copy()\n",
        "norm_assets.fillna(norm_assets.mean(), inplace=True)\n",
        "norm_assets.drop('WTRX-USD', axis=1, inplace=True)"
      ],
      "metadata": {
        "id": "O3sBxC5EmF01"
      },
      "execution_count": 108,
      "outputs": []
    },
    {
      "cell_type": "code",
      "source": [
        "for column_ in norm_assets.columns:\n",
        "  for i in range(norm_assets.shape[0]):\n",
        "      norm_assets[column_][i] = (norm_assets[column_][i] - np.nanmean(norm_assets[column_])) / np.std(norm_assets[column_])"
      ],
      "metadata": {
        "id": "2mOJDH--nMdY"
      },
      "execution_count": 109,
      "outputs": []
    },
    {
      "cell_type": "code",
      "source": [
        "norm_assets_tr = norm_assets.T.copy()"
      ],
      "metadata": {
        "id": "6N6Y_1VTaXC4"
      },
      "execution_count": 111,
      "outputs": []
    },
    {
      "cell_type": "code",
      "source": [
        "norm_assets_tr['crypto'] = norm_assets_tr.index"
      ],
      "metadata": {
        "id": "TOITj875WvJT"
      },
      "execution_count": 112,
      "outputs": []
    },
    {
      "cell_type": "code",
      "source": [
        "assets_tr = assets.T.copy()"
      ],
      "metadata": {
        "id": "nNjZS-S9zkWR"
      },
      "execution_count": 113,
      "outputs": []
    },
    {
      "cell_type": "markdown",
      "source": [
        "Addition of relevant parameters"
      ],
      "metadata": {
        "id": "FwMAhVfvK5C9"
      }
    },
    {
      "cell_type": "code",
      "source": [
        "settings_efficient = settings.TimeBasedFCParameters()\n",
        "settings_efficient.update(settings.MinimalFCParameters())\n",
        "settings_efficient.update(settings.IndexBasedFCParameters())\n"
      ],
      "metadata": {
        "id": "1Cwo0pI7zRdF"
      },
      "execution_count": 114,
      "outputs": []
    },
    {
      "cell_type": "markdown",
      "source": [
        "Feature generation "
      ],
      "metadata": {
        "id": "-FGEk-__NZjc"
      }
    },
    {
      "cell_type": "code",
      "source": [
        "EXTRACT = True\n",
        "\n",
        "if EXTRACT:\n",
        "    x_norm = extract_features(norm_assets_tr, settings_efficient, column_id='crypto')\n",
        " # column_id=norm_assets_tr.index)\n",
        "    x_norm.to_csv('X_train_tsfel_norm.csv')\n",
        "else:\n",
        "    x_norm = pd.read_csv('X_train_tsfel_norm.csv', index_col=0)\n",
        "\n",
        "x_norm.shape\n"
      ],
      "metadata": {
        "colab": {
          "base_uri": "https://localhost:8080/"
        },
        "id": "ptgZiTqm0oV5",
        "outputId": "4ca91b41-097a-4e5c-cda0-21760f1a58bf"
      },
      "execution_count": 115,
      "outputs": [
        {
          "output_type": "stream",
          "name": "stderr",
          "text": [
            "Feature Extraction: 100%|██████████| 5220/5220 [00:10<00:00, 511.87it/s]\n"
          ]
        },
        {
          "output_type": "execute_result",
          "data": {
            "text/plain": [
              "(29, 2340)"
            ]
          },
          "metadata": {},
          "execution_count": 115
        }
      ]
    },
    {
      "cell_type": "markdown",
      "source": [
        "2340 features were generated <br>\n",
        "\n",
        "Tasks:\n",
        "*   Drop NaN  \n",
        "*   Drop duplicate columns \n",
        "*   Drop columns with the opposite sign\n"
      ],
      "metadata": {
        "id": "RIfvzZYoNeFd"
      }
    },
    {
      "cell_type": "markdown",
      "source": [
        "\n",
        "\n",
        "*   Drop NaN\n",
        "\n",
        "\n"
      ],
      "metadata": {
        "id": "amlSLa25JDk1"
      }
    },
    {
      "cell_type": "code",
      "source": [
        "x_norm.dropna(inplace=True, axis=1)"
      ],
      "metadata": {
        "id": "tE9jIHgS3WfD"
      },
      "execution_count": 116,
      "outputs": []
    },
    {
      "cell_type": "code",
      "source": [
        "x_norm.shape"
      ],
      "metadata": {
        "colab": {
          "base_uri": "https://localhost:8080/"
        },
        "id": "pZ2q_60c4Fen",
        "outputId": "7f625229-aa8b-49f1-db80-01d087162a84"
      },
      "execution_count": 117,
      "outputs": [
        {
          "output_type": "execute_result",
          "data": {
            "text/plain": [
              "(29, 1980)"
            ]
          },
          "metadata": {},
          "execution_count": 117
        }
      ]
    },
    {
      "cell_type": "markdown",
      "source": [
        "*   Drop duplicates: their corr = +1 \n",
        "*   Drop columns with the opposite sign: their corr = -1 \n",
        "\n"
      ],
      "metadata": {
        "id": "JQ1_PBFY-kwn"
      }
    },
    {
      "cell_type": "code",
      "source": [
        "x_red = x_norm.T.drop_duplicates(ignore_index=True).T"
      ],
      "metadata": {
        "id": "Ly70djTtAbkL"
      },
      "execution_count": 124,
      "outputs": []
    },
    {
      "cell_type": "code",
      "source": [
        "x_red_pos = x_red[(x_red > 0)].dropna(axis=1)"
      ],
      "metadata": {
        "id": "LK2SqbjVALPP"
      },
      "execution_count": 125,
      "outputs": []
    },
    {
      "cell_type": "code",
      "source": [
        "x_red_pos.shape"
      ],
      "metadata": {
        "colab": {
          "base_uri": "https://localhost:8080/"
        },
        "id": "wRR0JAcVmvOB",
        "outputId": "45f342d4-2591-4a91-faf4-a69d490307dd"
      },
      "execution_count": 126,
      "outputs": [
        {
          "output_type": "execute_result",
          "data": {
            "text/plain": [
              "(29, 181)"
            ]
          },
          "metadata": {},
          "execution_count": 126
        }
      ]
    },
    {
      "cell_type": "markdown",
      "source": [
        "There are 181 generated features without duplicates and NaN"
      ],
      "metadata": {
        "id": "qLGIO8MYKF0f"
      }
    },
    {
      "cell_type": "markdown",
      "source": [
        "Features with a variance lower than the threshold are removed"
      ],
      "metadata": {
        "id": "0Tf0i_3S_ZkM"
      }
    },
    {
      "cell_type": "code",
      "source": [
        "selector = VarianceThreshold()\n",
        "X_reduced_pos = selector.fit_transform(x_red_pos)\n"
      ],
      "metadata": {
        "id": "kjF4UdVLAuMB"
      },
      "execution_count": 127,
      "outputs": []
    },
    {
      "cell_type": "markdown",
      "source": [
        "180 features left"
      ],
      "metadata": {
        "id": "MmpRLawgKNJA"
      }
    },
    {
      "cell_type": "code",
      "source": [
        "X_reduced_pos.shape"
      ],
      "metadata": {
        "colab": {
          "base_uri": "https://localhost:8080/"
        },
        "id": "MCsqO79jAxQ3",
        "outputId": "a9144804-b612-42ba-f7b5-68c02a9411df"
      },
      "execution_count": 128,
      "outputs": [
        {
          "output_type": "execute_result",
          "data": {
            "text/plain": [
              "(29, 180)"
            ]
          },
          "metadata": {},
          "execution_count": 128
        }
      ]
    },
    {
      "cell_type": "markdown",
      "source": [
        "*   Analysis of SSE and silhoette\n",
        "*   Definition of the number of clusters\n"
      ],
      "metadata": {
        "id": "SBI51-FQNUqo"
      }
    },
    {
      "cell_type": "code",
      "source": [
        "sse = []\n",
        "silhouette = []\n",
        "K = range(2, 11)\n",
        "for k in tqdm(K):\n",
        "    kmeanModel = TimeSeriesKMeans(n_clusters=k, metric='euclidean', init='random', max_iter=300)\n",
        "    kmeanModel.fit(X_reduced_pos)\n",
        "    sse.append(kmeanModel.inertia_)\n",
        "    silhouette.append(silhouette_score(X_reduced_pos, kmeanModel.labels_, metric='euclidean'))\n",
        "\n",
        "fig, ax1 = plt.subplots()\n",
        "ax2 = ax1.twinx()\n",
        "\n",
        "ax1.plot(sse, 'b-')\n",
        "ax2.plot(silhouette, 'r-')\n",
        "\n",
        "ax1.set_xlabel('clusters')\n",
        "ax1.set_ylabel('SSE', color='b')\n",
        "ax2.set_ylabel('Silhouette', color='r')\n",
        "\n",
        "plt.show()\n"
      ],
      "metadata": {
        "colab": {
          "base_uri": "https://localhost:8080/",
          "height": 297
        },
        "id": "4d5OQpfGA0Uh",
        "outputId": "c2493917-3fe4-4ec2-fb24-f9fee8e9de02"
      },
      "execution_count": 132,
      "outputs": [
        {
          "output_type": "stream",
          "name": "stderr",
          "text": [
            "100%|██████████| 9/9 [00:00<00:00, 43.88it/s]\n"
          ]
        },
        {
          "output_type": "display_data",
          "data": {
            "text/plain": [
              "<Figure size 432x288 with 2 Axes>"
            ],
            "image/png": "[encoded data removed]"
          },
          "metadata": {
            "needs_background": "light"
          }
        }
      ]
    },
    {
      "cell_type": "markdown",
      "source": [
        "Number of clusters = 5"
      ],
      "metadata": {
        "id": "PFc3xOdYKQN_"
      }
    },
    {
      "cell_type": "code",
      "source": [
        "n_clusters = 5\n",
        "ts_kmeans = TimeSeriesKMeans(n_clusters=n_clusters, metric='euclidean', init='random', max_iter=300)\n",
        "ts_kmeans.fit(X_reduced_pos) #predicting cluster of the assets given \n",
        "\n",
        "for cluster in range(n_clusters):\n",
        "  plt.plot(ts_kmeans.cluster_centers_[cluster, :, 0], label=cluster)\n",
        "plt.title('Cluster centroids')\n",
        "plt.legend()\n",
        "plt.show()"
      ],
      "metadata": {
        "colab": {
          "base_uri": "https://localhost:8080/",
          "height": 281
        },
        "id": "NA6r1fFUA7D4",
        "outputId": "638b1503-91e4-4cc1-ffe3-7c2159d19fb7"
      },
      "execution_count": 133,
      "outputs": [
        {
          "output_type": "display_data",
          "data": {
            "text/plain": [
              "<Figure size 432x288 with 1 Axes>"
            ],
            "image/png": "[encoded data removed]"
          },
          "metadata": {
            "needs_background": "light"
          }
        }
      ]
    },
    {
      "cell_type": "markdown",
      "source": [
        "Addition of a column **crypto** with predicted classes to **assets_features_pos** dataframe"
      ],
      "metadata": {
        "id": "ZP9JnIJyMbJr"
      }
    },
    {
      "cell_type": "code",
      "source": [
        "x_red_pos['clusters'] = ts_kmeans.predict(X_reduced_pos)\n",
        "assets_features_pos = assets_tr.join(x_red_pos[['clusters']])"
      ],
      "metadata": {
        "colab": {
          "base_uri": "https://localhost:8080/"
        },
        "id": "5ZQHeU6fBBCW",
        "outputId": "dd3dc1eb-ecfb-474d-e7df-16b55da8ba83"
      },
      "execution_count": 134,
      "outputs": [
        {
          "output_type": "stream",
          "name": "stderr",
          "text": [
            "/usr/local/lib/python3.7/dist-packages/tslearn/utils/utils.py:89: UserWarning:\n",
            "\n",
            "2-Dimensional data passed. Assuming these are 29 1-dimensional timeseries\n",
            "\n"
          ]
        }
      ]
    },
    {
      "cell_type": "markdown",
      "source": [
        "Visualization of the clusterization with generated features"
      ],
      "metadata": {
        "id": "WEgRyZiiKVRE"
      }
    },
    {
      "cell_type": "code",
      "source": [
        "visualize_cluster(4, assets_features_pos)"
      ],
      "metadata": {
        "id": "V-T-jBsQISE3",
        "colab": {
          "base_uri": "https://localhost:8080/",
          "height": 617
        },
        "outputId": "b51705ba-03c3-4095-fc8d-bfd9cbe007d6"
      },
      "execution_count": 135,
      "outputs": [
        {
          "output_type": "stream",
          "name": "stdout",
          "text": [
            "There are 2 in 4 cluster\n"
          ]
        },
        {
          "output_type": "display_data",
          "data": {
            "text/plain": [
              "<Figure size 432x288 with 1 Axes>"
            ],
            "image/png": "[encoded data removed]"
          },
          "metadata": {
            "needs_background": "light"
          }
        },
        {
          "output_type": "display_data",
          "data": {
            "text/plain": [
              "<Figure size 432x288 with 1 Axes>"
            ],
            "image/png": "[encoded data removed]"
          },
          "metadata": {
            "needs_background": "light"
          }
        }
      ]
    }
  ]
}